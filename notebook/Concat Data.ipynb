{
 "cells": [
  {
   "cell_type": "markdown",
   "id": "3d7772b1",
   "metadata": {},
   "source": [
    "# Combine raw data"
   ]
  },
  {
   "cell_type": "code",
   "execution_count": null,
   "id": "4a0ff7dd",
   "metadata": {},
   "outputs": [],
   "source": [
    "import os\n",
    "import glob\n",
    "import pandas as pd"
   ]
  },
  {
   "cell_type": "code",
   "execution_count": null,
   "id": "382aee4a",
   "metadata": {},
   "outputs": [],
   "source": [
    "os.chdir(\"/home/tomi/code/Harlequinht/Whose_Horse . csv/Whose Horse . csv\")"
   ]
  },
  {
   "cell_type": "code",
   "execution_count": null,
   "id": "803f145d",
   "metadata": {},
   "outputs": [],
   "source": [
    "!ls"
   ]
  },
  {
   "cell_type": "code",
   "execution_count": null,
   "id": "bc78b2d2",
   "metadata": {},
   "outputs": [],
   "source": [
    "extension = 'csv'\n",
    "all_filenames = [i for i in glob.glob('*.{}'.format(extension))]"
   ]
  },
  {
   "cell_type": "code",
   "execution_count": null,
   "id": "15bd838f",
   "metadata": {
    "scrolled": true
   },
   "outputs": [],
   "source": [
    "#combine all files in the list\n",
    "combined_csv = pd.concat([pd.read_csv(f) for f in all_filenames ])\n",
    "#create function to read csv split csv and then concat"
   ]
  },
  {
   "cell_type": "code",
   "execution_count": null,
   "id": "c407bbd5",
   "metadata": {
    "collapsed": true
   },
   "outputs": [],
   "source": [
    "all_filenames"
   ]
  },
  {
   "cell_type": "code",
   "execution_count": null,
   "id": "de8505cb",
   "metadata": {},
   "outputs": [],
   "source": [
    "combined_csv.shape"
   ]
  },
  {
   "cell_type": "markdown",
   "id": "8d374fcc",
   "metadata": {},
   "source": [
    "# Jump Data"
   ]
  },
  {
   "cell_type": "code",
   "execution_count": null,
   "id": "a08bdacc",
   "metadata": {},
   "outputs": [],
   "source": [
    "filter_condition_jump = (combined_csv['race_type'] == 'JUMP') | (combined_csv['race_type'] == 'STEEPLECHASE') | (combined_csv['race_type'] == 'CROSS_COUNTRY')"
   ]
  },
  {
   "cell_type": "code",
   "execution_count": null,
   "id": "aa2b4969",
   "metadata": {},
   "outputs": [],
   "source": [
    "data_jump = combined_csv[filter_condition_jump]"
   ]
  },
  {
   "cell_type": "code",
   "execution_count": null,
   "id": "ec487435",
   "metadata": {},
   "outputs": [],
   "source": [
    "data_jump.race_type.unique()"
   ]
  },
  {
   "cell_type": "code",
   "execution_count": null,
   "id": "a635b412",
   "metadata": {},
   "outputs": [],
   "source": [
    "data_jump_sort = data_jump.sort_values(by=['meeting_id'], ascending=True)"
   ]
  },
  {
   "cell_type": "code",
   "execution_count": null,
   "id": "ec7bf1b9",
   "metadata": {},
   "outputs": [],
   "source": [
    "data_jump_sort"
   ]
  },
  {
   "cell_type": "code",
   "execution_count": null,
   "id": "bd38eb2e",
   "metadata": {},
   "outputs": [],
   "source": [
    "data_jump_sort.info()"
   ]
  },
  {
   "cell_type": "code",
   "execution_count": null,
   "id": "f2c287cc",
   "metadata": {},
   "outputs": [],
   "source": [
    "data_jump_sort"
   ]
  },
  {
   "cell_type": "code",
   "execution_count": null,
   "id": "f328b06e",
   "metadata": {},
   "outputs": [],
   "source": [
    "jump_combined_csv2 =data_jump_sort.to_csv( \"../../combined_data/combined_jump_csv.csv\", index=False, encoding='utf-8-sig')"
   ]
  },
  {
   "cell_type": "markdown",
   "id": "79245d10",
   "metadata": {},
   "source": [
    "# Flat Data"
   ]
  },
  {
   "cell_type": "code",
   "execution_count": null,
   "id": "f154296d",
   "metadata": {},
   "outputs": [],
   "source": [
    "filter_condition_flat = (combined_csv['race_type'] == 'FLAT') | (combined_csv['race_type'] == 'NATIONAL_HUNT_FLAT')"
   ]
  },
  {
   "cell_type": "code",
   "execution_count": null,
   "id": "79559ecf",
   "metadata": {},
   "outputs": [],
   "source": [
    "data_flat = combined_csv[filter_condition_flat]"
   ]
  },
  {
   "cell_type": "code",
   "execution_count": null,
   "id": "efbecf3f",
   "metadata": {},
   "outputs": [],
   "source": [
    "data_flat_sort = data_flat.sort_values(by=['meeting_id'], ascending=True)"
   ]
  },
  {
   "cell_type": "code",
   "execution_count": null,
   "id": "3e020377",
   "metadata": {},
   "outputs": [],
   "source": [
    "data_flat_sort['race_type'].unique()"
   ]
  },
  {
   "cell_type": "code",
   "execution_count": null,
   "id": "bb86b8a0",
   "metadata": {},
   "outputs": [],
   "source": [
    "flat_combined_csv2 =data_flat_sort.to_csv( \"../../combined_data/combined_flat2_csv.csv\", index=False, encoding='utf-8-sig')"
   ]
  },
  {
   "cell_type": "code",
   "execution_count": null,
   "id": "4b24ca89",
   "metadata": {},
   "outputs": [],
   "source": [
    "data_flat_sort.info()"
   ]
  },
  {
   "cell_type": "code",
   "execution_count": null,
   "id": "1765e89b",
   "metadata": {},
   "outputs": [],
   "source": [
    "data_flat_sort.shape"
   ]
  },
  {
   "cell_type": "code",
   "execution_count": null,
   "id": "3a85b59c",
   "metadata": {},
   "outputs": [],
   "source": [
    "data_flat.race_type.unique()"
   ]
  },
  {
   "cell_type": "markdown",
   "id": "9271f9ff",
   "metadata": {},
   "source": [
    "# Concat Betting Data"
   ]
  },
  {
   "cell_type": "code",
   "execution_count": null,
   "id": "68e30d48",
   "metadata": {},
   "outputs": [],
   "source": [
    "combined_csv2 =all_filenames.to_csv( \"../../combined_data/combined_csv.csv\", index=False, encoding='utf-8-sig')"
   ]
  },
  {
   "cell_type": "code",
   "execution_count": null,
   "id": "98f76eba",
   "metadata": {},
   "outputs": [],
   "source": [
    "# filter_condition = (data['race_type'] == 'JUMP') | (data['race_type'] == 'STEEPLECHASE')"
   ]
  },
  {
   "cell_type": "code",
   "execution_count": null,
   "id": "5a049a93",
   "metadata": {},
   "outputs": [],
   "source": [
    "filtered_df = data[filter_condition]"
   ]
  },
  {
   "cell_type": "code",
   "execution_count": null,
   "id": "b480b5c3",
   "metadata": {},
   "outputs": [],
   "source": [
    "# filter_condition = (data['race_type'] == 'FLAT') | (data['race_type'] == 'NATIONAL_HUNT_DATA')"
   ]
  },
  {
   "cell_type": "code",
   "execution_count": null,
   "id": "fd311b3e",
   "metadata": {},
   "outputs": [],
   "source": [
    "#export to csv\n",
    "combined_csv2 =combined_csv.to_csv( \"../../combined_data/combined_csv.csv\", index=False, encoding='utf-8-sig')"
   ]
  },
  {
   "cell_type": "code",
   "execution_count": null,
   "id": "07315a17",
   "metadata": {},
   "outputs": [],
   "source": [
    "!ls"
   ]
  },
  {
   "cell_type": "code",
   "execution_count": null,
   "id": "376b317b",
   "metadata": {},
   "outputs": [],
   "source": [
    "combined_csv['race_type'].unique()"
   ]
  },
  {
   "cell_type": "code",
   "execution_count": null,
   "id": "d3efb89e",
   "metadata": {},
   "outputs": [],
   "source": [
    "test = pd.read_csv(\"../../combined_data/combined_jump_csv.csv\").race_type.unique()"
   ]
  },
  {
   "cell_type": "code",
   "execution_count": null,
   "id": "f0cfcca8",
   "metadata": {},
   "outputs": [],
   "source": [
    "test"
   ]
  },
  {
   "cell_type": "code",
   "execution_count": null,
   "id": "51c300ad",
   "metadata": {},
   "outputs": [],
   "source": [
    "import os\n",
    "import glob\n",
    "import pandas as pd"
   ]
  },
  {
   "cell_type": "code",
   "execution_count": null,
   "id": "2273dd90",
   "metadata": {},
   "outputs": [],
   "source": [
    "extension = 'xlsx'\n",
    "all_filenames_2022 = [i for i in glob.glob('../raw_data/2022/*.{}'.format(extension))]\n",
    "all_filenames_2023 = [i for i in glob.glob('../raw_data/2023/*.{}'.format(extension))]\n",
    "all_filenames_2021 = [i for i in glob.glob('../raw_data/2021/*.{}'.format(extension))]\n",
    "all_filenames_2020 = [i for i in glob.glob('../raw_data/2020/*.{}'.format(extension))]"
   ]
  },
  {
   "cell_type": "code",
   "execution_count": null,
   "id": "e3424e48",
   "metadata": {},
   "outputs": [],
   "source": [
    "cols = ['Date',\n",
    " 'Place',\n",
    " 'Runners',\n",
    " 'Track Name',\n",
    " 'Class (GB only)',\n",
    " 'Distance',\n",
    " 'Horse',\n",
    " 'Trainer',\n",
    " 'Jockey',\n",
    " 'OffR',\n",
    " 'Race Name',\n",
    " 'Min Price',\n",
    " 'Max Price',\n",
    " 'BSP',\n",
    " '15 mins',\n",
    " '10 mins',\n",
    " '5 mins',\n",
    " '3 mins',\n",
    " '2 mins',\n",
    " '1 min ',\n",
    " 'Post Time',\n",
    " 'Last Traded Price']"
   ]
  },
  {
   "cell_type": "code",
   "execution_count": null,
   "id": "7d5d4d6f",
   "metadata": {},
   "outputs": [],
   "source": [
    "cols2 = ['Date',\n",
    " 'Place',\n",
    " 'Runners',\n",
    " 'Track Name',\n",
    " 'Class (GB only)',\n",
    " 'Distance',\n",
    " 'Horse',\n",
    " 'Trainer',\n",
    " 'Jockey',\n",
    " 'OffR',\n",
    " 'Race Name',\n",
    " 'Min Price',\n",
    " 'Max Price',\n",
    " 'BSP',\n",
    " '15 Mins',\n",
    " '10 mins',\n",
    " '5 mins',\n",
    " '3 mins',\n",
    " '2 mins',\n",
    " '1 min ',\n",
    " 'Post Time',\n",
    " 'Last Traded Price']"
   ]
  },
  {
   "cell_type": "code",
   "execution_count": null,
   "id": "1b6c2c89",
   "metadata": {},
   "outputs": [],
   "source": [
    "error_dfs_2020 = []\n",
    "df_list_2020 = []\n",
    "for file in all_filenames_2020:\n",
    "    try:\n",
    "        print(f'Appending file: {file}')\n",
    "        df_list_2020.append(pd.read_excel(file, usecols=cols, sheet_name='Results'))\n",
    "    except:\n",
    "        print(f'error in file: {file}')\n",
    "        error_dfs_2020.append(file)\n"
   ]
  },
  {
   "cell_type": "code",
   "execution_count": null,
   "id": "fea43789",
   "metadata": {},
   "outputs": [],
   "source": [
    "error_dfs_2020"
   ]
  },
  {
   "cell_type": "code",
   "execution_count": null,
   "id": "f8a92d86",
   "metadata": {},
   "outputs": [],
   "source": [
    "list(pd.read_excel('../raw_data/2020/Results - 03102020.xlsx'\n",
    "            #   , usecols=cols\n",
    "              , sheet_name='Results').columns)"
   ]
  },
  {
   "cell_type": "code",
   "execution_count": null,
   "id": "8fe63832",
   "metadata": {},
   "outputs": [],
   "source": [
    "combined_data_2020 = pd.concat(df_list_2020)\n",
    "combined_data_2020"
   ]
  },
  {
   "cell_type": "code",
   "execution_count": null,
   "id": "bfafc322",
   "metadata": {},
   "outputs": [],
   "source": [
    "combined_data_2020.to_csv('../raw_data/combined_data/2020.csv')"
   ]
  },
  {
   "cell_type": "code",
   "execution_count": null,
   "id": "0157e969",
   "metadata": {},
   "outputs": [],
   "source": [
    "list(pd.read_excel('../raw_data/2021/Results - 09062021.xlsx'\n",
    "            #    , usecols=cols\n",
    "              , sheet_name='Results').columns)"
   ]
  },
  {
   "cell_type": "code",
   "execution_count": null,
   "id": "3a2d9eb2",
   "metadata": {},
   "outputs": [],
   "source": [
    "list(pd.read_excel('../raw_data/2021/Results - 09062021.xlsx'\n",
    "               , usecols=cols\n",
    "              , sheet_name='Results').columns)"
   ]
  },
  {
   "cell_type": "code",
   "execution_count": null,
   "id": "4a63c703",
   "metadata": {},
   "outputs": [],
   "source": [
    "error_dfs_2021 = []\n",
    "df_list_2021 = []\n",
    "for file in all_filenames_2021:\n",
    "    try:\n",
    "        print(f'Appending file: {file}')\n",
    "        df_list_2021.append(pd.read_excel(file, usecols=cols, sheet_name='Results'))\n",
    "    except:\n",
    "        try:\n",
    "            print(f'Appending file with 15 Min: {file}')\n",
    "            df_list_2021.append(pd.read_excel(file, usecols=cols2, sheet_name='Results'))\n",
    "        except:\n",
    "            print(f'error in file: {file}')\n",
    "            error_dfs_2021.append(file)"
   ]
  },
  {
   "cell_type": "code",
   "execution_count": null,
   "id": "3628c16c",
   "metadata": {},
   "outputs": [],
   "source": [
    "combined_data_2021 = pd.concat(df_list_2021)\n",
    "combined_data_2021"
   ]
  },
  {
   "cell_type": "code",
   "execution_count": null,
   "id": "618c86ca",
   "metadata": {},
   "outputs": [],
   "source": [
    "combined_data_2021.to_csv('../raw_data/combined_data/2021.csv')"
   ]
  },
  {
   "cell_type": "code",
   "execution_count": null,
   "id": "0ec74c83",
   "metadata": {},
   "outputs": [],
   "source": [
    "error_dfs_2022 = []\n",
    "df_list_2022 = []\n",
    "for file in all_filenames_2022:\n",
    "    try:\n",
    "        print(f'Appending file: {file}')\n",
    "        df_list_2022.append(pd.read_excel(file, usecols=cols, sheet_name='Results'))\n",
    "    except:\n",
    "        try:\n",
    "            print(f'Appending file with 15 Min: {file}')\n",
    "            df_list_2022.append(pd.read_excel(file, usecols=cols2, sheet_name='Results'))\n",
    "        except:\n",
    "            print(f'error in file: {file}')\n",
    "            error_dfs_2022.append(file)"
   ]
  },
  {
   "cell_type": "code",
   "execution_count": null,
   "id": "3d99d867",
   "metadata": {},
   "outputs": [],
   "source": [
    "combined_data_2022 = pd.concat(df_list_2022)\n",
    "combined_data_2022"
   ]
  },
  {
   "cell_type": "code",
   "execution_count": null,
   "id": "01a275bb",
   "metadata": {},
   "outputs": [],
   "source": [
    "combined_data_2022.to_csv('../raw_data/combined_data/2022.csv')"
   ]
  },
  {
   "cell_type": "code",
   "execution_count": null,
   "id": "37aebec4",
   "metadata": {},
   "outputs": [],
   "source": [
    "error_dfs_2023 = []\n",
    "df_list_2023 = []\n",
    "for file in all_filenames_2023:\n",
    "    try:\n",
    "        print(f'Appending file: {file}')\n",
    "        df_list_2023.append(pd.read_excel(file, usecols=cols, sheet_name='Results'))\n",
    "    except:\n",
    "        try:\n",
    "            print(f'Appending file with 15 Min: {file}')\n",
    "            df_list_2023.append(pd.read_excel(file, usecols=cols2, sheet_name='Results'))\n",
    "        except:\n",
    "            print(f'error in file: {file}')\n",
    "            error_dfs_2023.append(file)"
   ]
  },
  {
   "cell_type": "code",
   "execution_count": null,
   "id": "8df67b4c",
   "metadata": {},
   "outputs": [],
   "source": [
    "combined_data_2023 = pd.concat(df_list_2023)\n",
    "combined_data_2023"
   ]
  },
  {
   "cell_type": "code",
   "execution_count": null,
   "id": "074ecf12",
   "metadata": {},
   "outputs": [],
   "source": [
    "combined_data_2023.to_csv('../raw_data/combined_data/2023.csv')"
   ]
  },
  {
   "cell_type": "code",
   "execution_count": null,
   "id": "6e313cd5",
   "metadata": {},
   "outputs": [],
   "source": [
    "combined_data_2020 = pd.read_csv('../raw_data/combined_data/2020.csv')\n",
    "combined_data_2021= pd.read_csv('../raw_data/combined_data/2021.csv')\n",
    "combined_data_2022= pd.read_csv('../raw_data/combined_data/2022.csv')\n",
    "combined_data_2023= pd.read_csv('../raw_data/combined_data/2023.csv')"
   ]
  },
  {
   "cell_type": "code",
   "execution_count": null,
   "id": "1e484aef",
   "metadata": {},
   "outputs": [],
   "source": [
    "combined_data_2020.rename(columns={'15 mins': '15 Mins'}, inplace=True)\n",
    "combined_data_2021['15 Mins'].fillna(combined_data_2021['15 mins'], inplace=True)\n",
    "combined_data_2021.drop(columns=['15 mins'], inplace=True)"
   ]
  },
  {
   "cell_type": "code",
   "execution_count": null,
   "id": "23b8b775",
   "metadata": {},
   "outputs": [],
   "source": [
    "combined = pd.concat([combined_data_2020, combined_data_2021, combined_data_2022, combined_data_2023])"
   ]
  },
  {
   "cell_type": "code",
   "execution_count": null,
   "id": "87b1cf7d",
   "metadata": {},
   "outputs": [],
   "source": [
    "combined.to_csv( \"../raw_data/new_df.csv\", index=False)"
   ]
  },
  {
   "cell_type": "markdown",
   "id": "16dcb63d",
   "metadata": {},
   "source": [
    "# Merge flat and bet data"
   ]
  },
  {
   "cell_type": "code",
   "execution_count": null,
   "id": "e0da1e69",
   "metadata": {},
   "outputs": [],
   "source": [
    "file_csv = '~/code/amandamor/output/combined_flat2_csv.csv'\n",
    "df_raw_data = pd.read_csv(file_csv)"
   ]
  },
  {
   "cell_type": "code",
   "execution_count": null,
   "id": "88e83b2e",
   "metadata": {},
   "outputs": [],
   "source": [
    "bet_csv = '../raw_data/new_df.csv'\n",
    "combined =pd.read_csv(bet_csv)\n",
    "combined.head()"
   ]
  },
  {
   "cell_type": "code",
   "execution_count": null,
   "id": "46ebcd87",
   "metadata": {},
   "outputs": [],
   "source": [
    "df_raw_data['horse_name'] = df_raw_data['horse_name'].str.replace(\"'\", \"\").apply(str.lower)\n",
    "\n",
    "horses_raw = pd.DataFrame(df_raw_data['horse_name'].apply(str.lower).unique())\n",
    "horses_raw"
   ]
  },
  {
   "cell_type": "code",
   "execution_count": null,
   "id": "709588ed",
   "metadata": {},
   "outputs": [],
   "source": [
    "combined.Date = pd.to_datetime(combined.Date)\n",
    "combined.sort_values(by='Date', inplace=True)"
   ]
  },
  {
   "cell_type": "code",
   "execution_count": null,
   "id": "f3572215",
   "metadata": {},
   "outputs": [],
   "source": [
    "combined = combined.dropna(subset='Date')\n",
    "combined = combined.drop(columns='Unnamed: 0')\n",
    "combined"
   ]
  },
  {
   "cell_type": "code",
   "execution_count": null,
   "id": "65a9cd10",
   "metadata": {},
   "outputs": [],
   "source": [
    "combined.isna().sum()\n"
   ]
  },
  {
   "cell_type": "code",
   "execution_count": null,
   "id": "694627b6",
   "metadata": {},
   "outputs": [],
   "source": [
    "combined = combined.dropna(subset='Horse')\n",
    "combined[combined.Horse.isna()]"
   ]
  },
  {
   "cell_type": "code",
   "execution_count": null,
   "id": "0c968786",
   "metadata": {},
   "outputs": [],
   "source": [
    "combined['Horse'] = combined['Horse'].str.replace(\"'\", \"\").apply(str.lower)\n",
    "horses = pd.DataFrame(combined['Horse'].apply(str.lower).unique())\n"
   ]
  },
  {
   "cell_type": "code",
   "execution_count": null,
   "id": "dca8a6ea",
   "metadata": {},
   "outputs": [],
   "source": [
    "merged_df = pd.merge(horses_raw, horses, how='outer', indicator=True)\n",
    "diferencas = merged_df[merged_df['_merge'] != 'both']\n",
    "# diferencas.sort_values(0)\n",
    "# pd.set_option('display.max_rows', None)\n",
    "# diferencas"
   ]
  },
  {
   "cell_type": "code",
   "execution_count": null,
   "id": "d9df2add",
   "metadata": {},
   "outputs": [],
   "source": [
    "# pd.reset_option('display.max_rows')\n",
    "missing_horses = merged_df[merged_df['_merge'] == 'left_only'][0]\n",
    "missing_horses"
   ]
  },
  {
   "cell_type": "code",
   "execution_count": null,
   "id": "41d121d8",
   "metadata": {},
   "outputs": [],
   "source": [
    "merged_df"
   ]
  },
  {
   "cell_type": "code",
   "execution_count": null,
   "id": "13f58e10",
   "metadata": {},
   "outputs": [],
   "source": [
    "merged_df._merge.value_counts()"
   ]
  },
  {
   "cell_type": "code",
   "execution_count": null,
   "id": "0b1d167b",
   "metadata": {},
   "outputs": [],
   "source": [
    "from difflib import get_close_matches\n",
    "\n",
    "unique_words_df1 = set(map(str, horses_raw[0].unique()))\n",
    "unique_words_df2 = set(map(str, horses[0].unique()))\n",
    "len_words = len(unique_words_df1)\n",
    "\n",
    "similar_words_df2 = []\n",
    "for index,word in enumerate(unique_words_df1):\n",
    "    similar_words = get_close_matches(word, unique_words_df2, len_words, 0.90)\n",
    "    # print(f\"Index '{index}' of '{len_words}' - '{word}' = '{similar_words}'\")\n",
    "    if similar_words:\n",
    "        similar_words_df2.append((word, similar_words))\n",
    "\n",
    "for word, similar in similar_words_df2:\n",
    "    print(f\"The word '{word}' has similar words in df2: {similar}\")"
   ]
  },
  {
   "cell_type": "code",
   "execution_count": null,
   "id": "b2ed552d",
   "metadata": {},
   "outputs": [],
   "source": [
    "similar_words_list = []\n",
    "for item in similar_words_df2:\n",
    "    if item[0] != item[1][0]:\n",
    "        similar_words_list.append(item)\n",
    "similar_words_list\n"
   ]
  },
  {
   "cell_type": "code",
   "execution_count": null,
   "id": "148c20e8",
   "metadata": {},
   "outputs": [],
   "source": [
    "combined['id_lewagon'] = combined['Horse'].astype(str) + '_' + combined['Date'].astype(str)"
   ]
  },
  {
   "cell_type": "code",
   "execution_count": null,
   "id": "c2963ee5",
   "metadata": {},
   "outputs": [],
   "source": [
    "combined"
   ]
  },
  {
   "cell_type": "code",
   "execution_count": null,
   "id": "8aa66a17",
   "metadata": {},
   "outputs": [],
   "source": [
    "df_raw_data['id_lewagon'] = df_raw_data['horse_name'].astype(str) + '_' + df_raw_data['date'].astype(str)\n"
   ]
  },
  {
   "cell_type": "code",
   "execution_count": null,
   "id": "c63003e8",
   "metadata": {},
   "outputs": [],
   "source": [
    "df_raw_data['horse_name'].isin(list(missing_horses))"
   ]
  },
  {
   "cell_type": "code",
   "execution_count": null,
   "id": "2d1979d5",
   "metadata": {},
   "outputs": [],
   "source": [
    "# missing_horses_condition = df_raw_data['horse_name'].map(lambda x: x in list(missing_horses))\n",
    "# missing_horses_condition\n",
    "missing_horses_condition = df_raw_data['horse_name'].isin(list(missing_horses))"
   ]
  },
  {
   "cell_type": "code",
   "execution_count": null,
   "id": "cd3644e9",
   "metadata": {},
   "outputs": [],
   "source": [
    "missing_horses_df = df_raw_data[missing_horses_condition]\n",
    "missing_horses_df"
   ]
  },
  {
   "cell_type": "code",
   "execution_count": null,
   "id": "09b1c438",
   "metadata": {},
   "outputs": [],
   "source": [
    "from pipeline_cleaning import clean_data, transforming_data\n",
    "missing_horses_df_clean =clean_data(missing_horses_df)\n",
    "missing_horses_df_clean.head()"
   ]
  },
  {
   "cell_type": "code",
   "execution_count": null,
   "id": "9d03f402",
   "metadata": {},
   "outputs": [],
   "source": [
    "df_raw_data['date'] = pd.to_datetime(df_raw_data['date'])\n",
    "combined['Date'] = pd.to_datetime(combined['Date'])\n",
    "df_raw_data.date.min(), combined.Date.min()"
   ]
  },
  {
   "cell_type": "code",
   "execution_count": null,
   "id": "c3847d4a",
   "metadata": {},
   "outputs": [],
   "source": [
    "missing_horses_df_clean[missing_horses_df_clean.date > '2020-10-04 00:00:00'].race_class_normalised.value_counts()"
   ]
  },
  {
   "cell_type": "code",
   "execution_count": null,
   "id": "53bd3e7b",
   "metadata": {},
   "outputs": [],
   "source": [
    "df_raw_data = df_raw_data[df_raw_data.date > '2020-10-04 00:00:00']\n"
   ]
  },
  {
   "cell_type": "code",
   "execution_count": null,
   "id": "f616136f",
   "metadata": {},
   "outputs": [],
   "source": []
  },
  {
   "cell_type": "code",
   "execution_count": null,
   "id": "e275c5a2",
   "metadata": {},
   "outputs": [],
   "source": [
    "combined.columns"
   ]
  },
  {
   "cell_type": "code",
   "execution_count": null,
   "id": "8db3bc58",
   "metadata": {},
   "outputs": [],
   "source": [
    "bet_cols_to_merge =['Date', 'Place', 'Runners',\n",
    "       'OffR', 'Min Price',\n",
    "       'Max Price', 'BSP', '15 Mins', '10 mins', '5 mins', '3 mins', '2 mins',\n",
    "       '1 min ', 'Post Time', 'Last Traded Price', 'id_lewagon']"
   ]
  },
  {
   "cell_type": "code",
   "execution_count": null,
   "id": "6d430152",
   "metadata": {},
   "outputs": [],
   "source": [
    "combined[combined.id_lewagon == 'secret potion_2021-06-22']\n"
   ]
  },
  {
   "cell_type": "code",
   "execution_count": null,
   "id": "a6b969f1",
   "metadata": {},
   "outputs": [],
   "source": [
    "df_raw_data[df_raw_data.id_lewagon == 'secret potion_2021-06-22']"
   ]
  },
  {
   "cell_type": "code",
   "execution_count": null,
   "id": "cb2afc89",
   "metadata": {},
   "outputs": [],
   "source": [
    "combined.drop(93460, axis=0, inplace=True)\n"
   ]
  },
  {
   "cell_type": "code",
   "execution_count": null,
   "id": "a3e72852",
   "metadata": {},
   "outputs": [],
   "source": [
    "combined[combined.id_lewagon == 'secret potion_2021-06-22']"
   ]
  },
  {
   "cell_type": "code",
   "execution_count": null,
   "id": "981e4545",
   "metadata": {},
   "outputs": [],
   "source": [
    "df_merge = df_raw_data.merge(combined[bet_cols_to_merge], on='id_lewagon', how='left')\n",
    "df_merge"
   ]
  },
  {
   "cell_type": "code",
   "execution_count": null,
   "id": "d246c5c9",
   "metadata": {},
   "outputs": [],
   "source": [
    "df_raw_data.shape, df_merge.shape"
   ]
  },
  {
   "cell_type": "code",
   "execution_count": null,
   "id": "5f0a8d3f",
   "metadata": {},
   "outputs": [],
   "source": [
    "df_merge.to_csv( \"../raw_data/merge_dfs.csv\", index=False)"
   ]
  },
  {
   "cell_type": "markdown",
   "id": "d3bf7b41",
   "metadata": {},
   "source": [
    "# Concat Weather"
   ]
  },
  {
   "cell_type": "code",
   "execution_count": null,
   "id": "ea652167",
   "metadata": {},
   "outputs": [],
   "source": [
    "import pandas as pd"
   ]
  },
  {
   "cell_type": "code",
   "execution_count": null,
   "id": "953a2c51",
   "metadata": {},
   "outputs": [],
   "source": [
    "weathere = pd.read_csv(\"../raw_data/race_day_weather.csv\")\n",
    "pd_concated = pd.read_csv(\"../raw_data/merge_dfs.csv\")"
   ]
  },
  {
   "cell_type": "code",
   "execution_count": 10,
   "id": "2c8799cb",
   "metadata": {},
   "outputs": [],
   "source": [
    "weathere.drop(columns=['Unnamed: 0'], inplace=True)"
   ]
  },
  {
   "cell_type": "code",
   "execution_count": 11,
   "id": "7b429321",
   "metadata": {},
   "outputs": [
    {
     "data": {
      "text/html": [
       "<div>\n",
       "<style scoped>\n",
       "    .dataframe tbody tr th:only-of-type {\n",
       "        vertical-align: middle;\n",
       "    }\n",
       "\n",
       "    .dataframe tbody tr th {\n",
       "        vertical-align: top;\n",
       "    }\n",
       "\n",
       "    .dataframe thead th {\n",
       "        text-align: right;\n",
       "    }\n",
       "</style>\n",
       "<table border=\"1\" class=\"dataframe\">\n",
       "  <thead>\n",
       "    <tr style=\"text-align: right;\">\n",
       "      <th></th>\n",
       "      <th>date</th>\n",
       "      <th>meeting_name</th>\n",
       "      <th>temperature_2m_mean</th>\n",
       "      <th>precipitation_sum</th>\n",
       "      <th>wind_speed_10m_max</th>\n",
       "    </tr>\n",
       "  </thead>\n",
       "  <tbody>\n",
       "    <tr>\n",
       "      <th>0</th>\n",
       "      <td>2021-08-20</td>\n",
       "      <td>NEWCASTLE</td>\n",
       "      <td>16.2</td>\n",
       "      <td>1.1</td>\n",
       "      <td>7.6</td>\n",
       "    </tr>\n",
       "    <tr>\n",
       "      <th>1</th>\n",
       "      <td>2021-09-15</td>\n",
       "      <td>BEVERLEY</td>\n",
       "      <td>14.9</td>\n",
       "      <td>0.1</td>\n",
       "      <td>9.1</td>\n",
       "    </tr>\n",
       "    <tr>\n",
       "      <th>2</th>\n",
       "      <td>2021-10-02</td>\n",
       "      <td>REDCAR</td>\n",
       "      <td>10.6</td>\n",
       "      <td>9.5</td>\n",
       "      <td>22.1</td>\n",
       "    </tr>\n",
       "    <tr>\n",
       "      <th>3</th>\n",
       "      <td>2021-10-13</td>\n",
       "      <td>NOTTINGHAM</td>\n",
       "      <td>12.4</td>\n",
       "      <td>0.1</td>\n",
       "      <td>10.8</td>\n",
       "    </tr>\n",
       "    <tr>\n",
       "      <th>4</th>\n",
       "      <td>2021-04-12</td>\n",
       "      <td>REDCAR</td>\n",
       "      <td>2.6</td>\n",
       "      <td>0.6</td>\n",
       "      <td>10.7</td>\n",
       "    </tr>\n",
       "  </tbody>\n",
       "</table>\n",
       "</div>"
      ],
      "text/plain": [
       "         date meeting_name  temperature_2m_mean  precipitation_sum  \\\n",
       "0  2021-08-20    NEWCASTLE                 16.2                1.1   \n",
       "1  2021-09-15     BEVERLEY                 14.9                0.1   \n",
       "2  2021-10-02       REDCAR                 10.6                9.5   \n",
       "3  2021-10-13   NOTTINGHAM                 12.4                0.1   \n",
       "4  2021-04-12       REDCAR                  2.6                0.6   \n",
       "\n",
       "   wind_speed_10m_max  \n",
       "0                 7.6  \n",
       "1                 9.1  \n",
       "2                22.1  \n",
       "3                10.8  \n",
       "4                10.7  "
      ]
     },
     "execution_count": 11,
     "metadata": {},
     "output_type": "execute_result"
    }
   ],
   "source": [
    "weathere.head()"
   ]
  },
  {
   "cell_type": "code",
   "execution_count": 15,
   "id": "e8404839",
   "metadata": {},
   "outputs": [
    {
     "data": {
      "text/plain": [
       "182156"
      ]
     },
     "execution_count": 15,
     "metadata": {},
     "output_type": "execute_result"
    }
   ],
   "source": [
    "len(pd_concated)"
   ]
  },
  {
   "cell_type": "code",
   "execution_count": 35,
   "id": "834ef8fc",
   "metadata": {},
   "outputs": [],
   "source": [
    "df_with_weather = pd_concated.merge(weathere, left_on=['meeting_name', 'date'], right_on=['meeting_name', 'date'], how='left')"
   ]
  },
  {
   "cell_type": "code",
   "execution_count": 16,
   "id": "24bcc824",
   "metadata": {},
   "outputs": [
    {
     "data": {
      "text/plain": [
       "182156"
      ]
     },
     "execution_count": 16,
     "metadata": {},
     "output_type": "execute_result"
    }
   ],
   "source": [
    "len(df_with_weather)"
   ]
  },
  {
   "cell_type": "code",
   "execution_count": 31,
   "id": "31d038b7",
   "metadata": {},
   "outputs": [
    {
     "data": {
      "text/plain": [
       "182156"
      ]
     },
     "execution_count": 31,
     "metadata": {},
     "output_type": "execute_result"
    }
   ],
   "source": [
    "len(pd_concated['meeting_name'].str.split())"
   ]
  },
  {
   "cell_type": "code",
   "execution_count": 34,
   "id": "b8e2897e",
   "metadata": {},
   "outputs": [
    {
     "data": {
      "text/plain": [
       "3319"
      ]
     },
     "execution_count": 34,
     "metadata": {},
     "output_type": "execute_result"
    }
   ],
   "source": [
    "len(weathere['meeting_name'].str.split())"
   ]
  },
  {
   "cell_type": "code",
   "execution_count": 40,
   "id": "d1bba98d",
   "metadata": {},
   "outputs": [
    {
     "data": {
      "text/plain": [
       "['2020-10-05',\n",
       " '2020-10-06',\n",
       " '2020-10-07',\n",
       " '2020-10-08',\n",
       " '2020-10-09',\n",
       " '2020-10-10',\n",
       " '2020-10-11',\n",
       " '2020-10-12',\n",
       " '2020-10-13',\n",
       " '2020-10-14',\n",
       " '2020-10-15',\n",
       " '2020-10-16',\n",
       " '2020-10-17',\n",
       " '2020-10-18',\n",
       " '2020-10-19',\n",
       " '2020-10-20',\n",
       " '2020-10-21',\n",
       " '2020-10-22',\n",
       " '2020-10-23',\n",
       " '2020-10-24',\n",
       " '2020-10-25',\n",
       " '2020-10-26',\n",
       " '2020-10-27',\n",
       " '2020-10-28',\n",
       " '2020-10-29',\n",
       " '2020-10-30',\n",
       " '2020-10-31',\n",
       " '2020-11-01',\n",
       " '2020-11-02',\n",
       " '2020-11-03',\n",
       " '2020-11-04',\n",
       " '2020-11-05',\n",
       " '2020-11-06',\n",
       " '2020-11-07',\n",
       " '2020-11-08',\n",
       " '2020-11-09',\n",
       " '2020-11-10',\n",
       " '2020-11-11',\n",
       " '2020-11-12',\n",
       " '2020-11-13',\n",
       " '2020-11-14',\n",
       " '2020-11-15',\n",
       " '2020-11-16',\n",
       " '2020-11-17',\n",
       " '2020-11-18',\n",
       " '2020-11-19',\n",
       " '2020-11-20',\n",
       " '2020-11-21',\n",
       " '2020-11-22',\n",
       " '2020-11-23',\n",
       " '2020-11-24',\n",
       " '2020-11-25',\n",
       " '2020-11-26',\n",
       " '2020-11-27',\n",
       " '2020-11-28',\n",
       " '2020-11-29',\n",
       " '2020-11-30',\n",
       " '2020-12-01',\n",
       " '2020-12-02',\n",
       " '2020-12-03',\n",
       " '2020-12-04',\n",
       " '2020-12-05',\n",
       " '2020-12-06',\n",
       " '2020-12-07',\n",
       " '2020-12-08',\n",
       " '2020-12-09',\n",
       " '2020-12-10',\n",
       " '2020-12-11',\n",
       " '2020-12-12',\n",
       " '2020-12-13',\n",
       " '2020-12-14',\n",
       " '2020-12-15',\n",
       " '2020-12-16',\n",
       " '2020-12-17',\n",
       " '2020-12-18',\n",
       " '2020-12-19',\n",
       " '2020-12-20',\n",
       " '2020-12-21',\n",
       " '2020-12-22',\n",
       " '2020-12-26',\n",
       " '2020-12-27',\n",
       " '2020-12-28',\n",
       " '2020-12-29',\n",
       " '2020-12-30',\n",
       " '2020-12-31',\n",
       " '2021-01-01',\n",
       " '2021-01-02',\n",
       " '2021-01-03',\n",
       " '2021-01-04',\n",
       " '2021-01-05',\n",
       " '2021-01-06',\n",
       " '2021-01-07',\n",
       " '2021-01-08',\n",
       " '2021-01-09',\n",
       " '2021-01-10',\n",
       " '2021-01-11',\n",
       " '2021-01-12',\n",
       " '2021-01-13',\n",
       " '2021-01-14',\n",
       " '2021-01-15',\n",
       " '2021-01-16',\n",
       " '2021-01-17',\n",
       " '2021-01-18',\n",
       " '2021-01-19',\n",
       " '2021-01-20',\n",
       " '2021-01-21',\n",
       " '2021-01-22',\n",
       " '2021-01-23',\n",
       " '2021-01-24',\n",
       " '2021-01-25',\n",
       " '2021-01-26',\n",
       " '2021-01-27',\n",
       " '2021-01-28',\n",
       " '2021-01-29',\n",
       " '2021-01-30',\n",
       " '2021-01-31',\n",
       " '2021-02-01',\n",
       " '2021-02-02',\n",
       " '2021-02-03',\n",
       " '2021-02-04',\n",
       " '2021-02-05',\n",
       " '2021-02-06',\n",
       " '2021-02-07',\n",
       " '2021-02-08',\n",
       " '2021-02-09',\n",
       " '2021-02-10',\n",
       " '2021-02-11',\n",
       " '2021-02-12',\n",
       " '2021-02-13',\n",
       " '2021-02-14',\n",
       " '2021-02-15',\n",
       " '2021-02-16',\n",
       " '2021-02-17',\n",
       " '2021-02-18',\n",
       " '2021-02-19',\n",
       " '2021-02-20',\n",
       " '2021-02-21',\n",
       " '2021-02-22',\n",
       " '2021-02-23',\n",
       " '2021-02-24',\n",
       " '2021-02-25',\n",
       " '2021-02-26',\n",
       " '2021-02-27',\n",
       " '2021-02-28',\n",
       " '2021-03-01',\n",
       " '2021-03-02',\n",
       " '2021-03-03',\n",
       " '2021-03-04',\n",
       " '2021-03-05',\n",
       " '2021-03-06',\n",
       " '2021-03-07',\n",
       " '2021-03-08',\n",
       " '2021-03-09',\n",
       " '2021-03-10',\n",
       " '2021-03-11',\n",
       " '2021-03-12',\n",
       " '2021-03-13',\n",
       " '2021-03-14',\n",
       " '2021-03-16',\n",
       " '2021-03-17',\n",
       " '2021-03-18',\n",
       " '2021-03-19',\n",
       " '2021-03-20',\n",
       " '2021-03-21',\n",
       " '2021-03-22',\n",
       " '2021-03-23',\n",
       " '2021-03-24',\n",
       " '2021-03-25',\n",
       " '2021-03-26',\n",
       " '2021-03-27',\n",
       " '2021-03-28',\n",
       " '2021-03-29',\n",
       " '2021-03-30',\n",
       " '2021-03-31',\n",
       " '2021-04-01',\n",
       " '2021-04-02',\n",
       " '2021-04-03',\n",
       " '2021-04-04',\n",
       " '2021-04-05',\n",
       " '2021-04-06',\n",
       " '2021-04-07',\n",
       " '2021-04-08',\n",
       " '2021-04-09',\n",
       " '2021-04-10',\n",
       " '2021-04-11',\n",
       " '2021-04-12',\n",
       " '2021-04-13',\n",
       " '2021-04-14',\n",
       " '2021-04-15',\n",
       " '2021-04-16',\n",
       " '2021-04-17',\n",
       " '2021-04-18',\n",
       " '2021-04-19',\n",
       " '2021-04-20',\n",
       " '2021-04-21',\n",
       " '2021-04-22',\n",
       " '2021-04-23',\n",
       " '2021-04-24',\n",
       " '2021-04-25',\n",
       " '2021-04-26',\n",
       " '2021-04-27',\n",
       " '2021-04-28',\n",
       " '2021-04-29',\n",
       " '2021-04-30',\n",
       " '2021-05-01',\n",
       " '2021-05-02',\n",
       " '2021-05-03',\n",
       " '2021-05-04',\n",
       " '2021-05-05',\n",
       " '2021-05-06',\n",
       " '2021-05-07',\n",
       " '2021-05-08',\n",
       " '2021-05-09',\n",
       " '2021-05-10',\n",
       " '2021-05-11',\n",
       " '2021-05-12',\n",
       " '2021-05-13',\n",
       " '2021-05-14',\n",
       " '2021-05-15',\n",
       " '2021-05-16',\n",
       " '2021-05-17',\n",
       " '2021-05-18',\n",
       " '2021-05-19',\n",
       " '2021-05-20',\n",
       " '2021-05-21',\n",
       " '2021-05-22',\n",
       " '2021-05-23',\n",
       " '2021-05-24',\n",
       " '2021-05-25',\n",
       " '2021-05-26',\n",
       " '2021-05-27',\n",
       " '2021-05-28',\n",
       " '2021-05-29',\n",
       " '2021-05-30',\n",
       " '2021-05-31',\n",
       " '2021-06-01',\n",
       " '2021-06-02',\n",
       " '2021-06-03',\n",
       " '2021-06-04',\n",
       " '2021-06-05',\n",
       " '2021-06-06',\n",
       " '2021-06-07',\n",
       " '2021-06-08',\n",
       " '2021-06-09',\n",
       " '2021-06-10',\n",
       " '2021-06-11',\n",
       " '2021-06-12',\n",
       " '2021-06-14',\n",
       " '2021-06-15',\n",
       " '2021-06-16',\n",
       " '2021-06-17',\n",
       " '2021-06-18',\n",
       " '2021-06-19',\n",
       " '2021-06-20',\n",
       " '2021-06-21',\n",
       " '2021-06-22',\n",
       " '2021-06-23',\n",
       " '2021-06-24',\n",
       " '2021-06-25',\n",
       " '2021-06-26',\n",
       " '2021-06-27',\n",
       " '2021-06-28',\n",
       " '2021-06-29',\n",
       " '2021-06-30',\n",
       " '2021-07-01',\n",
       " '2021-07-02',\n",
       " '2021-07-03',\n",
       " '2021-07-04',\n",
       " '2021-07-05',\n",
       " '2021-07-06',\n",
       " '2021-07-07',\n",
       " '2021-07-08',\n",
       " '2021-07-09',\n",
       " '2021-07-10',\n",
       " '2021-07-11',\n",
       " '2021-07-12',\n",
       " '2021-07-13',\n",
       " '2021-07-14',\n",
       " '2021-07-15',\n",
       " '2021-07-16',\n",
       " '2021-07-17',\n",
       " '2021-07-18',\n",
       " '2021-07-19',\n",
       " '2021-07-20',\n",
       " '2021-07-21',\n",
       " '2021-07-22',\n",
       " '2021-07-23',\n",
       " '2021-07-24',\n",
       " '2021-07-25',\n",
       " '2021-07-26',\n",
       " '2021-07-27',\n",
       " '2021-07-28',\n",
       " '2021-07-29',\n",
       " '2021-07-30',\n",
       " '2021-07-31',\n",
       " '2021-08-01',\n",
       " '2021-08-02',\n",
       " '2021-08-03',\n",
       " '2021-08-04',\n",
       " '2021-08-05',\n",
       " '2021-08-06',\n",
       " '2021-08-07',\n",
       " '2021-08-08',\n",
       " '2021-08-09',\n",
       " '2021-08-10',\n",
       " '2021-08-11',\n",
       " '2021-08-12',\n",
       " '2021-08-13',\n",
       " '2021-08-14',\n",
       " '2021-08-15',\n",
       " '2021-08-16',\n",
       " '2021-08-17',\n",
       " '2021-08-18',\n",
       " '2021-08-19',\n",
       " '2021-08-20',\n",
       " '2021-08-21',\n",
       " '2021-08-22',\n",
       " '2021-08-23',\n",
       " '2021-08-24',\n",
       " '2021-08-25',\n",
       " '2021-08-26',\n",
       " '2021-08-27',\n",
       " '2021-08-28',\n",
       " '2021-08-29',\n",
       " '2021-08-30',\n",
       " '2021-08-31',\n",
       " '2021-09-01',\n",
       " '2021-09-02',\n",
       " '2021-09-03',\n",
       " '2021-09-04',\n",
       " '2021-09-05',\n",
       " '2021-09-06',\n",
       " '2021-09-07',\n",
       " '2021-09-08',\n",
       " '2021-09-09',\n",
       " '2021-09-10',\n",
       " '2021-09-11',\n",
       " '2021-09-12',\n",
       " '2021-09-13',\n",
       " '2021-09-14',\n",
       " '2021-09-15',\n",
       " '2021-09-16',\n",
       " '2021-09-17',\n",
       " '2021-09-18',\n",
       " '2021-09-19',\n",
       " '2021-09-20',\n",
       " '2021-09-21',\n",
       " '2021-09-22',\n",
       " '2021-09-23',\n",
       " '2021-09-24',\n",
       " '2021-09-25',\n",
       " '2021-09-26',\n",
       " '2021-09-27',\n",
       " '2021-09-28',\n",
       " '2021-09-29',\n",
       " '2021-09-30',\n",
       " '2021-10-01',\n",
       " '2021-10-02',\n",
       " '2021-10-04',\n",
       " '2021-10-05',\n",
       " '2021-10-06',\n",
       " '2021-10-07',\n",
       " '2021-10-08',\n",
       " '2021-10-09',\n",
       " '2021-10-10',\n",
       " '2021-10-11',\n",
       " '2021-10-12',\n",
       " '2021-10-13',\n",
       " '2021-10-14',\n",
       " '2021-10-15',\n",
       " '2021-10-16',\n",
       " '2021-10-17',\n",
       " '2021-10-18',\n",
       " '2021-10-19',\n",
       " '2021-10-20',\n",
       " '2021-10-21',\n",
       " '2021-10-22',\n",
       " '2021-10-23',\n",
       " '2021-10-24',\n",
       " '2021-10-25',\n",
       " '2021-10-26',\n",
       " '2021-10-27',\n",
       " '2021-10-28',\n",
       " '2021-10-29',\n",
       " '2021-10-30',\n",
       " '2021-10-31',\n",
       " '2021-11-01',\n",
       " '2021-11-02',\n",
       " '2021-11-03',\n",
       " '2021-11-04',\n",
       " '2021-11-05',\n",
       " '2021-11-06',\n",
       " '2021-11-07',\n",
       " '2021-11-08',\n",
       " '2021-11-09',\n",
       " '2021-11-10',\n",
       " '2021-11-11',\n",
       " '2021-11-12',\n",
       " '2021-11-13',\n",
       " '2021-11-14',\n",
       " '2021-11-16',\n",
       " '2021-11-17',\n",
       " '2021-11-18',\n",
       " '2021-11-19',\n",
       " '2021-11-20',\n",
       " '2021-11-22',\n",
       " '2021-11-23',\n",
       " '2021-11-24',\n",
       " '2021-11-25',\n",
       " '2021-11-26',\n",
       " '2021-11-27',\n",
       " '2021-11-29',\n",
       " '2021-11-30',\n",
       " '2021-12-01',\n",
       " '2021-12-02',\n",
       " '2021-12-03',\n",
       " '2021-12-04',\n",
       " '2021-12-05',\n",
       " '2021-12-06',\n",
       " '2021-12-07',\n",
       " '2021-12-08',\n",
       " '2021-12-09',\n",
       " '2021-12-10',\n",
       " '2021-12-11',\n",
       " '2021-12-12',\n",
       " '2021-12-13',\n",
       " '2021-12-14',\n",
       " '2021-12-16',\n",
       " '2021-12-17',\n",
       " '2021-12-18',\n",
       " '2021-12-19',\n",
       " '2021-12-20',\n",
       " '2021-12-21',\n",
       " '2021-12-22',\n",
       " '2021-12-26',\n",
       " '2021-12-27',\n",
       " '2021-12-28',\n",
       " '2021-12-29',\n",
       " '2021-12-30',\n",
       " '2021-12-31',\n",
       " '2022-01-01',\n",
       " '2022-01-02',\n",
       " '2022-01-03',\n",
       " '2022-01-04',\n",
       " '2022-01-05',\n",
       " '2022-01-06',\n",
       " '2022-01-07',\n",
       " '2022-01-08',\n",
       " '2022-01-09',\n",
       " '2022-01-10',\n",
       " '2022-01-11',\n",
       " '2022-01-12',\n",
       " '2022-01-13',\n",
       " '2022-01-14',\n",
       " '2022-01-15',\n",
       " '2022-01-16',\n",
       " '2022-01-17',\n",
       " '2022-01-18',\n",
       " '2022-01-19',\n",
       " '2022-01-20',\n",
       " '2022-01-21',\n",
       " '2022-01-22',\n",
       " '2022-01-23',\n",
       " '2022-01-24',\n",
       " '2022-01-25',\n",
       " '2022-01-26',\n",
       " '2022-01-27',\n",
       " '2022-01-28',\n",
       " '2022-01-29',\n",
       " '2022-01-30',\n",
       " '2022-01-31',\n",
       " '2022-02-01',\n",
       " '2022-02-02',\n",
       " '2022-02-03',\n",
       " '2022-02-04',\n",
       " '2022-02-05',\n",
       " '2022-02-06',\n",
       " '2022-02-07',\n",
       " '2022-02-08',\n",
       " '2022-02-09',\n",
       " '2022-02-10',\n",
       " '2022-02-11',\n",
       " '2022-02-12',\n",
       " '2022-02-13',\n",
       " '2022-02-14',\n",
       " '2022-02-15',\n",
       " '2022-02-16',\n",
       " '2022-02-17',\n",
       " '2022-02-18',\n",
       " '2022-02-19',\n",
       " '2022-02-20',\n",
       " '2022-02-21',\n",
       " '2022-02-22',\n",
       " '2022-02-23',\n",
       " '2022-02-24',\n",
       " '2022-02-25',\n",
       " '2022-02-26',\n",
       " '2022-02-27',\n",
       " '2022-02-28',\n",
       " '2022-03-01',\n",
       " '2022-03-02',\n",
       " '2022-03-03',\n",
       " '2022-03-04',\n",
       " '2022-03-05',\n",
       " '2022-03-06',\n",
       " '2022-03-07',\n",
       " '2022-03-08',\n",
       " '2022-03-09',\n",
       " '2022-03-10',\n",
       " '2022-03-11',\n",
       " '2022-03-12',\n",
       " '2022-03-13',\n",
       " '2022-03-14',\n",
       " '2022-03-15',\n",
       " '2022-03-16',\n",
       " '2022-03-17',\n",
       " '2022-03-18',\n",
       " '2022-03-19',\n",
       " '2022-03-20',\n",
       " '2022-03-21',\n",
       " '2022-03-22',\n",
       " '2022-03-24',\n",
       " '2022-03-25',\n",
       " '2022-03-26',\n",
       " '2022-03-27',\n",
       " '2022-03-28',\n",
       " '2022-03-29',\n",
       " '2022-03-30',\n",
       " '2022-03-31',\n",
       " '2022-04-01',\n",
       " '2022-04-02',\n",
       " '2022-04-03',\n",
       " '2022-04-04',\n",
       " '2022-04-05',\n",
       " '2022-04-06',\n",
       " '2022-04-07',\n",
       " '2022-04-08',\n",
       " '2022-04-09',\n",
       " '2022-04-11',\n",
       " '2022-04-12',\n",
       " '2022-04-13',\n",
       " '2022-04-14',\n",
       " '2022-04-15',\n",
       " '2022-04-16',\n",
       " '2022-04-17',\n",
       " '2022-04-18',\n",
       " '2022-04-19',\n",
       " '2022-04-20',\n",
       " '2022-04-21',\n",
       " '2022-04-22',\n",
       " '2022-04-23',\n",
       " '2022-04-24',\n",
       " '2022-04-25',\n",
       " '2022-04-26',\n",
       " '2022-04-27',\n",
       " '2022-04-28',\n",
       " '2022-04-29',\n",
       " '2022-04-30',\n",
       " '2022-05-01',\n",
       " '2022-05-02',\n",
       " '2022-05-03',\n",
       " '2022-05-04',\n",
       " '2022-05-05',\n",
       " '2022-05-06',\n",
       " '2022-05-07',\n",
       " '2022-05-08',\n",
       " '2022-05-09',\n",
       " '2022-05-10',\n",
       " '2022-05-11',\n",
       " '2022-05-12',\n",
       " '2022-05-13',\n",
       " '2022-05-14',\n",
       " '2022-05-15',\n",
       " '2022-05-16',\n",
       " '2022-05-17',\n",
       " '2022-05-18',\n",
       " '2022-05-19',\n",
       " '2022-05-20',\n",
       " '2022-05-21',\n",
       " '2022-05-22',\n",
       " '2022-05-23',\n",
       " '2022-05-24',\n",
       " '2022-05-25',\n",
       " '2022-05-26',\n",
       " '2022-05-27',\n",
       " '2022-05-28',\n",
       " '2022-05-29',\n",
       " '2022-05-30',\n",
       " '2022-05-31',\n",
       " '2022-06-01',\n",
       " '2022-06-02',\n",
       " '2022-06-03',\n",
       " '2022-06-04',\n",
       " '2022-06-05',\n",
       " '2022-06-06',\n",
       " '2022-06-07',\n",
       " '2022-06-08',\n",
       " '2022-06-09',\n",
       " '2022-06-10',\n",
       " '2022-06-11',\n",
       " '2022-06-12',\n",
       " '2022-06-13',\n",
       " '2022-06-14',\n",
       " '2022-06-15',\n",
       " '2022-06-16',\n",
       " '2022-06-17',\n",
       " '2022-06-18',\n",
       " '2022-06-19',\n",
       " '2022-06-20',\n",
       " '2022-06-21',\n",
       " '2022-06-22',\n",
       " '2022-06-23',\n",
       " '2022-06-24',\n",
       " '2022-06-25',\n",
       " '2022-06-26',\n",
       " '2022-06-27',\n",
       " '2022-06-28',\n",
       " '2022-06-29',\n",
       " '2022-06-30',\n",
       " '2022-07-01',\n",
       " '2022-07-02',\n",
       " '2022-07-03',\n",
       " '2022-07-04',\n",
       " '2022-07-05',\n",
       " '2022-07-06',\n",
       " '2022-07-07',\n",
       " '2022-07-08',\n",
       " '2022-07-09',\n",
       " '2022-07-11',\n",
       " '2022-07-12',\n",
       " '2022-07-13',\n",
       " '2022-07-14',\n",
       " '2022-07-15',\n",
       " '2022-07-16',\n",
       " '2022-07-17',\n",
       " '2022-07-18',\n",
       " '2022-07-19',\n",
       " '2022-07-20',\n",
       " '2022-07-21',\n",
       " '2022-07-22',\n",
       " '2022-07-25',\n",
       " '2022-07-26',\n",
       " '2022-07-27',\n",
       " '2022-07-28',\n",
       " '2022-07-29',\n",
       " '2022-07-30',\n",
       " '2022-07-31',\n",
       " '2022-08-01',\n",
       " '2022-08-02',\n",
       " '2022-08-03',\n",
       " '2022-08-04',\n",
       " '2022-08-05',\n",
       " '2022-08-06',\n",
       " '2022-08-07',\n",
       " '2022-08-08',\n",
       " '2022-08-09',\n",
       " '2022-08-10',\n",
       " '2022-08-11',\n",
       " '2022-08-12',\n",
       " '2022-08-13',\n",
       " '2022-08-14',\n",
       " '2022-08-15',\n",
       " '2022-08-16',\n",
       " '2022-08-17',\n",
       " '2022-08-18',\n",
       " '2022-08-19',\n",
       " '2022-08-20',\n",
       " '2022-08-21',\n",
       " '2022-08-22',\n",
       " '2022-08-23',\n",
       " '2022-08-24',\n",
       " '2022-08-25',\n",
       " '2022-08-26',\n",
       " '2022-08-27',\n",
       " '2022-08-28',\n",
       " '2022-08-29',\n",
       " '2022-08-30',\n",
       " '2022-08-31',\n",
       " '2022-09-01',\n",
       " '2022-09-02',\n",
       " '2022-09-03',\n",
       " '2022-09-04',\n",
       " '2022-09-05',\n",
       " '2022-09-06',\n",
       " '2022-09-07',\n",
       " '2022-09-08',\n",
       " '2022-09-11',\n",
       " '2022-09-12',\n",
       " '2022-09-13',\n",
       " '2022-09-14',\n",
       " '2022-09-15',\n",
       " '2022-09-16',\n",
       " '2022-09-17',\n",
       " '2022-09-18',\n",
       " '2022-09-20',\n",
       " '2022-09-21',\n",
       " '2022-09-22',\n",
       " '2022-09-23',\n",
       " '2022-09-24',\n",
       " '2022-09-25',\n",
       " '2022-09-26',\n",
       " '2022-09-27',\n",
       " '2022-09-28',\n",
       " '2022-09-29',\n",
       " '2022-09-30',\n",
       " '2022-10-01',\n",
       " '2022-10-03',\n",
       " '2022-10-04',\n",
       " '2022-10-05',\n",
       " '2022-10-06',\n",
       " '2022-10-07',\n",
       " '2022-10-08',\n",
       " '2022-10-09',\n",
       " '2022-10-10',\n",
       " '2022-10-11',\n",
       " '2022-10-14',\n",
       " '2022-10-15',\n",
       " '2022-10-16',\n",
       " '2022-10-18',\n",
       " '2022-10-19',\n",
       " '2022-10-20',\n",
       " '2022-10-21',\n",
       " '2022-10-22',\n",
       " '2022-10-23',\n",
       " '2022-10-26',\n",
       " '2022-10-27',\n",
       " '2022-10-28',\n",
       " '2022-10-29',\n",
       " '2022-10-30',\n",
       " '2022-10-31',\n",
       " '2022-11-01',\n",
       " '2022-11-02',\n",
       " '2022-11-03',\n",
       " '2022-11-04',\n",
       " '2022-11-05',\n",
       " '2022-11-07',\n",
       " '2022-11-08',\n",
       " '2022-11-09',\n",
       " '2022-11-10',\n",
       " '2022-11-11',\n",
       " '2022-11-12',\n",
       " '2022-11-13',\n",
       " '2022-11-14',\n",
       " '2022-11-15',\n",
       " '2022-11-16',\n",
       " '2022-11-17',\n",
       " '2022-11-18',\n",
       " '2022-11-19',\n",
       " '2022-11-22',\n",
       " '2022-11-23',\n",
       " '2022-11-25',\n",
       " '2022-11-26',\n",
       " '2022-11-27',\n",
       " '2022-11-28',\n",
       " '2022-11-29',\n",
       " '2022-11-30',\n",
       " '2022-12-01',\n",
       " '2022-12-02',\n",
       " '2022-12-03',\n",
       " '2022-12-04',\n",
       " '2022-12-05',\n",
       " '2022-12-06',\n",
       " '2022-12-07',\n",
       " '2022-12-08',\n",
       " '2022-12-09',\n",
       " '2022-12-10',\n",
       " '2022-12-11',\n",
       " '2022-12-12',\n",
       " '2022-12-13',\n",
       " '2022-12-14',\n",
       " '2022-12-15',\n",
       " '2022-12-16',\n",
       " '2022-12-18',\n",
       " '2022-12-19',\n",
       " '2022-12-20',\n",
       " '2022-12-21',\n",
       " '2022-12-22',\n",
       " '2022-12-26',\n",
       " '2022-12-27',\n",
       " '2022-12-28',\n",
       " '2022-12-29',\n",
       " '2022-12-30',\n",
       " '2022-12-31',\n",
       " '2023-01-01',\n",
       " '2023-01-02',\n",
       " '2023-01-03',\n",
       " '2023-01-04',\n",
       " '2023-01-05',\n",
       " '2023-01-06',\n",
       " '2023-01-07',\n",
       " '2023-01-08',\n",
       " '2023-01-09',\n",
       " '2023-01-10',\n",
       " '2023-01-11',\n",
       " '2023-01-12',\n",
       " '2023-01-13',\n",
       " '2023-01-14',\n",
       " '2023-01-15',\n",
       " '2023-01-16',\n",
       " '2023-01-17',\n",
       " '2023-01-18',\n",
       " '2023-01-19',\n",
       " '2023-01-20',\n",
       " '2023-01-21',\n",
       " '2023-01-22',\n",
       " '2023-01-23',\n",
       " '2023-01-24',\n",
       " '2023-01-25',\n",
       " '2023-01-26',\n",
       " '2023-01-27',\n",
       " '2023-01-28',\n",
       " '2023-01-29',\n",
       " '2023-01-30',\n",
       " '2023-01-31',\n",
       " '2023-02-01',\n",
       " '2023-02-02',\n",
       " '2023-02-03',\n",
       " '2023-02-04',\n",
       " '2023-02-05',\n",
       " '2023-02-06',\n",
       " '2023-02-07',\n",
       " '2023-02-08',\n",
       " '2023-02-09',\n",
       " '2023-02-10',\n",
       " '2023-02-11',\n",
       " '2023-02-12',\n",
       " '2023-02-13',\n",
       " '2023-02-14',\n",
       " '2023-02-15',\n",
       " '2023-02-16',\n",
       " '2023-02-17',\n",
       " '2023-02-18',\n",
       " '2023-02-19',\n",
       " '2023-02-20',\n",
       " '2023-02-21',\n",
       " '2023-02-22',\n",
       " '2023-02-23',\n",
       " '2023-02-24',\n",
       " '2023-02-25',\n",
       " '2023-02-26',\n",
       " '2023-02-27',\n",
       " '2023-02-28',\n",
       " '2023-03-01',\n",
       " '2023-03-02',\n",
       " '2023-03-03',\n",
       " '2023-03-04',\n",
       " '2023-03-05',\n",
       " '2023-03-06',\n",
       " '2023-03-07',\n",
       " '2023-03-08',\n",
       " '2023-03-09',\n",
       " '2023-03-10',\n",
       " '2023-03-11',\n",
       " '2023-03-12',\n",
       " '2023-03-13',\n",
       " '2023-03-14',\n",
       " '2023-03-15',\n",
       " '2023-03-16',\n",
       " '2023-03-17',\n",
       " '2023-03-18',\n",
       " '2023-03-19',\n",
       " '2023-03-20',\n",
       " '2023-03-21',\n",
       " '2023-03-23',\n",
       " '2023-03-24',\n",
       " '2023-03-25',\n",
       " '2023-03-26',\n",
       " '2023-03-27',\n",
       " '2023-03-28',\n",
       " '2023-03-29',\n",
       " '2023-03-30',\n",
       " '2023-03-31',\n",
       " '2023-04-01',\n",
       " '2023-04-02',\n",
       " '2023-04-03',\n",
       " '2023-04-04',\n",
       " '2023-04-05',\n",
       " '2023-04-06',\n",
       " '2023-04-07',\n",
       " '2023-04-08',\n",
       " '2023-04-09',\n",
       " '2023-04-10',\n",
       " '2023-04-11',\n",
       " '2023-04-12',\n",
       " '2023-04-13',\n",
       " '2023-04-14',\n",
       " '2023-04-16',\n",
       " '2023-04-17',\n",
       " '2023-04-18',\n",
       " '2023-04-19',\n",
       " '2023-04-20',\n",
       " '2023-04-21',\n",
       " '2023-04-22',\n",
       " '2023-04-23',\n",
       " '2023-04-24',\n",
       " '2023-04-25',\n",
       " '2023-04-26',\n",
       " '2023-04-27',\n",
       " '2023-04-28',\n",
       " '2023-04-29',\n",
       " '2023-04-30',\n",
       " '2023-05-01',\n",
       " '2023-05-02',\n",
       " '2023-05-03',\n",
       " '2023-05-04',\n",
       " '2023-05-05',\n",
       " '2023-05-06',\n",
       " '2023-05-07',\n",
       " '2023-05-08',\n",
       " '2023-05-10',\n",
       " '2023-05-11',\n",
       " '2023-05-12',\n",
       " '2023-05-13',\n",
       " '2023-05-14',\n",
       " '2023-05-15',\n",
       " '2023-05-16',\n",
       " '2023-05-17',\n",
       " '2023-05-18',\n",
       " '2023-05-19',\n",
       " '2023-05-21',\n",
       " '2023-05-22',\n",
       " '2023-05-23',\n",
       " '2023-05-24',\n",
       " '2023-05-25',\n",
       " '2023-05-26',\n",
       " '2023-05-27',\n",
       " '2023-05-28',\n",
       " '2023-05-29',\n",
       " '2023-05-30',\n",
       " '2023-05-31',\n",
       " '2023-06-01',\n",
       " '2023-06-02',\n",
       " '2023-06-03',\n",
       " '2023-06-04',\n",
       " '2023-06-05',\n",
       " '2023-06-06',\n",
       " '2023-06-08',\n",
       " '2023-06-09',\n",
       " '2023-06-10',\n",
       " '2023-06-11',\n",
       " '2023-06-12',\n",
       " '2023-06-13',\n",
       " '2023-06-14',\n",
       " '2023-06-15',\n",
       " '2023-06-16',\n",
       " '2023-06-17',\n",
       " '2023-06-18',\n",
       " '2023-06-19',\n",
       " '2023-06-20',\n",
       " '2023-06-21',\n",
       " '2023-06-22',\n",
       " '2023-06-23',\n",
       " '2023-06-24',\n",
       " '2023-06-25',\n",
       " '2023-06-26',\n",
       " '2023-06-27',\n",
       " '2023-06-28',\n",
       " '2023-06-29',\n",
       " '2023-06-30',\n",
       " '2023-07-01',\n",
       " '2023-07-02',\n",
       " '2023-07-03',\n",
       " '2023-07-04',\n",
       " '2023-07-05',\n",
       " '2023-07-06',\n",
       " '2023-07-07',\n",
       " '2023-07-08',\n",
       " '2023-07-09',\n",
       " '2023-07-10',\n",
       " '2023-07-11',\n",
       " '2023-07-12',\n",
       " '2023-07-13',\n",
       " '2023-07-14',\n",
       " '2023-07-15',\n",
       " '2023-07-17',\n",
       " '2023-07-18',\n",
       " '2023-07-19',\n",
       " '2023-07-20',\n",
       " '2023-07-21',\n",
       " '2023-07-22',\n",
       " '2023-07-23',\n",
       " '2023-07-24',\n",
       " '2023-07-25',\n",
       " '2023-07-26',\n",
       " '2023-07-27',\n",
       " '2023-07-28',\n",
       " '2023-07-29',\n",
       " '2023-07-30',\n",
       " '2023-07-31',\n",
       " '2023-08-01',\n",
       " '2023-08-02',\n",
       " '2023-08-03',\n",
       " '2023-08-04',\n",
       " '2023-08-05',\n",
       " '2023-08-06',\n",
       " '2023-08-07',\n",
       " '2023-08-08',\n",
       " '2023-08-09',\n",
       " '2023-08-10',\n",
       " '2023-08-11',\n",
       " ...]"
      ]
     },
     "execution_count": 40,
     "metadata": {},
     "output_type": "execute_result"
    }
   ],
   "source": [
    "sorted(list(weathere['date'].unique()))"
   ]
  },
  {
   "cell_type": "code",
   "execution_count": 36,
   "id": "73d6cc6d",
   "metadata": {},
   "outputs": [
    {
     "data": {
      "text/plain": [
       "meeting_id                 0\n",
       "meeting_name               0\n",
       "date                       0\n",
       "country_code               0\n",
       "event_number               0\n",
       "                       ...  \n",
       "Post Time              10509\n",
       "Last Traded Price      10717\n",
       "temperature_2m_mean    10171\n",
       "precipitation_sum      10171\n",
       "wind_speed_10m_max     10171\n",
       "Length: 140, dtype: int64"
      ]
     },
     "execution_count": 36,
     "metadata": {},
     "output_type": "execute_result"
    }
   ],
   "source": [
    "df_with_weather.isna().sum()"
   ]
  },
  {
   "cell_type": "code",
   "execution_count": 18,
   "id": "67e87916",
   "metadata": {},
   "outputs": [],
   "source": [
    "df_with_weather.to_csv(\"../raw_data/final_df.csv\", index=False)"
   ]
  },
  {
   "cell_type": "code",
   "execution_count": null,
   "id": "2325fc82",
   "metadata": {},
   "outputs": [],
   "source": []
  }
 ],
 "metadata": {
  "kernelspec": {
   "display_name": "Python 3 (ipykernel)",
   "language": "python",
   "name": "python3"
  },
  "language_info": {
   "codemirror_mode": {
    "name": "ipython",
    "version": 3
   },
   "file_extension": ".py",
   "mimetype": "text/x-python",
   "name": "python",
   "nbconvert_exporter": "python",
   "pygments_lexer": "ipython3",
   "version": "3.10.6"
  },
  "toc": {
   "base_numbering": 1,
   "nav_menu": {},
   "number_sections": true,
   "sideBar": true,
   "skip_h1_title": false,
   "title_cell": "Table of Contents",
   "title_sidebar": "Contents",
   "toc_cell": false,
   "toc_position": {},
   "toc_section_display": true,
   "toc_window_display": false
  }
 },
 "nbformat": 4,
 "nbformat_minor": 5
}
