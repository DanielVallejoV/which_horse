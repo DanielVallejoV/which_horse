{
 "cells": [
  {
   "cell_type": "code",
   "execution_count": 11,
   "id": "db675247",
   "metadata": {},
   "outputs": [
    {
     "name": "stdout",
     "output_type": "stream",
     "text": [
      "/home/tomi/code/Harlequinht/which_horse/notebook\n",
      "The autoreload extension is already loaded. To reload it, use:\n",
      "  %reload_ext autoreload\n"
     ]
    }
   ],
   "source": [
    "!pwd\n",
    "import warnings\n",
    "warnings.filterwarnings('ignore')\n",
    "%load_ext autoreload\n",
    "%autoreload 2"
   ]
  },
  {
   "cell_type": "code",
   "execution_count": 5,
   "id": "4e6eae6b",
   "metadata": {
    "collapsed": true
   },
   "outputs": [
    {
     "name": "stdout",
     "output_type": "stream",
     "text": [
      "'Concat Data.ipynb'\t\t   Modelling_testing.ipynb\n",
      " Deep_Learning_model-0803.ipynb    pipeline_cleaning.py\n",
      " Deep_Learning_model.ipynb\t   WeatherAPI.ipynb\n",
      " Feature_Engineering_Clean.ipynb   which_horse_flat.ipynb\n",
      " HorseAgeAtRace.ipynb\t\t   which_horse.ipynb\n"
     ]
    },
    {
     "name": "stdout",
     "output_type": "stream",
     "text": [
      "Requirement already satisfied: tensorflow in /home/tomi/.pyenv/versions/3.10.6/envs/which_horse/lib/python3.10/site-packages (2.15.0.post1)\n",
      "Requirement already satisfied: absl-py>=1.0.0 in /home/tomi/.pyenv/versions/3.10.6/envs/which_horse/lib/python3.10/site-packages (from tensorflow) (2.1.0)\n",
      "Requirement already satisfied: astunparse>=1.6.0 in /home/tomi/.pyenv/versions/3.10.6/envs/which_horse/lib/python3.10/site-packages (from tensorflow) (1.6.3)\n",
      "Requirement already satisfied: flatbuffers>=23.5.26 in /home/tomi/.pyenv/versions/3.10.6/envs/which_horse/lib/python3.10/site-packages (from tensorflow) (24.3.7)\n",
      "Requirement already satisfied: gast!=0.5.0,!=0.5.1,!=0.5.2,>=0.2.1 in /home/tomi/.pyenv/versions/3.10.6/envs/which_horse/lib/python3.10/site-packages (from tensorflow) (0.5.4)\n",
      "Requirement already satisfied: google-pasta>=0.1.1 in /home/tomi/.pyenv/versions/3.10.6/envs/which_horse/lib/python3.10/site-packages (from tensorflow) (0.2.0)\n",
      "Requirement already satisfied: h5py>=2.9.0 in /home/tomi/.pyenv/versions/3.10.6/envs/which_horse/lib/python3.10/site-packages (from tensorflow) (3.10.0)\n",
      "Requirement already satisfied: libclang>=13.0.0 in /home/tomi/.pyenv/versions/3.10.6/envs/which_horse/lib/python3.10/site-packages (from tensorflow) (16.0.6)\n",
      "Requirement already satisfied: ml-dtypes~=0.2.0 in /home/tomi/.pyenv/versions/3.10.6/envs/which_horse/lib/python3.10/site-packages (from tensorflow) (0.2.0)\n",
      "Requirement already satisfied: numpy<2.0.0,>=1.23.5 in /home/tomi/.pyenv/versions/3.10.6/envs/which_horse/lib/python3.10/site-packages (from tensorflow) (1.26.4)\n",
      "Requirement already satisfied: opt-einsum>=2.3.2 in /home/tomi/.pyenv/versions/3.10.6/envs/which_horse/lib/python3.10/site-packages (from tensorflow) (3.3.0)\n",
      "Requirement already satisfied: packaging in /home/tomi/.pyenv/versions/3.10.6/envs/which_horse/lib/python3.10/site-packages (from tensorflow) (23.2)\n",
      "Requirement already satisfied: protobuf!=4.21.0,!=4.21.1,!=4.21.2,!=4.21.3,!=4.21.4,!=4.21.5,<5.0.0dev,>=3.20.3 in /home/tomi/.pyenv/versions/3.10.6/envs/which_horse/lib/python3.10/site-packages (from tensorflow) (4.25.3)\n",
      "Requirement already satisfied: setuptools in /home/tomi/.pyenv/versions/3.10.6/envs/which_horse/lib/python3.10/site-packages (from tensorflow) (63.2.0)\n",
      "Requirement already satisfied: six>=1.12.0 in /home/tomi/.pyenv/versions/3.10.6/envs/which_horse/lib/python3.10/site-packages (from tensorflow) (1.16.0)\n",
      "Requirement already satisfied: termcolor>=1.1.0 in /home/tomi/.pyenv/versions/3.10.6/envs/which_horse/lib/python3.10/site-packages (from tensorflow) (2.4.0)\n",
      "Requirement already satisfied: typing-extensions>=3.6.6 in /home/tomi/.pyenv/versions/3.10.6/envs/which_horse/lib/python3.10/site-packages (from tensorflow) (4.10.0)\n",
      "Requirement already satisfied: wrapt<1.15,>=1.11.0 in /home/tomi/.pyenv/versions/3.10.6/envs/which_horse/lib/python3.10/site-packages (from tensorflow) (1.14.1)\n",
      "Requirement already satisfied: tensorflow-io-gcs-filesystem>=0.23.1 in /home/tomi/.pyenv/versions/3.10.6/envs/which_horse/lib/python3.10/site-packages (from tensorflow) (0.36.0)\n",
      "Requirement already satisfied: grpcio<2.0,>=1.24.3 in /home/tomi/.pyenv/versions/3.10.6/envs/which_horse/lib/python3.10/site-packages (from tensorflow) (1.62.0)\n",
      "Requirement already satisfied: tensorboard<2.16,>=2.15 in /home/tomi/.pyenv/versions/3.10.6/envs/which_horse/lib/python3.10/site-packages (from tensorflow) (2.15.2)\n",
      "Requirement already satisfied: tensorflow-estimator<2.16,>=2.15.0 in /home/tomi/.pyenv/versions/3.10.6/envs/which_horse/lib/python3.10/site-packages (from tensorflow) (2.15.0)\n",
      "Requirement already satisfied: keras<2.16,>=2.15.0 in /home/tomi/.pyenv/versions/3.10.6/envs/which_horse/lib/python3.10/site-packages (from tensorflow) (2.15.0)\n",
      "Requirement already satisfied: wheel<1.0,>=0.23.0 in /home/tomi/.pyenv/versions/3.10.6/envs/which_horse/lib/python3.10/site-packages (from astunparse>=1.6.0->tensorflow) (0.42.0)\n",
      "Requirement already satisfied: google-auth<3,>=1.6.3 in /home/tomi/.pyenv/versions/3.10.6/envs/which_horse/lib/python3.10/site-packages (from tensorboard<2.16,>=2.15->tensorflow) (2.28.1)\n",
      "Requirement already satisfied: google-auth-oauthlib<2,>=0.5 in /home/tomi/.pyenv/versions/3.10.6/envs/which_horse/lib/python3.10/site-packages (from tensorboard<2.16,>=2.15->tensorflow) (1.2.0)\n",
      "Requirement already satisfied: markdown>=2.6.8 in /home/tomi/.pyenv/versions/3.10.6/envs/which_horse/lib/python3.10/site-packages (from tensorboard<2.16,>=2.15->tensorflow) (3.5.2)\n",
      "Requirement already satisfied: requests<3,>=2.21.0 in /home/tomi/.pyenv/versions/3.10.6/envs/which_horse/lib/python3.10/site-packages (from tensorboard<2.16,>=2.15->tensorflow) (2.31.0)\n",
      "Requirement already satisfied: tensorboard-data-server<0.8.0,>=0.7.0 in /home/tomi/.pyenv/versions/3.10.6/envs/which_horse/lib/python3.10/site-packages (from tensorboard<2.16,>=2.15->tensorflow) (0.7.2)\n",
      "Requirement already satisfied: werkzeug>=1.0.1 in /home/tomi/.pyenv/versions/3.10.6/envs/which_horse/lib/python3.10/site-packages (from tensorboard<2.16,>=2.15->tensorflow) (3.0.1)\n",
      "Requirement already satisfied: cachetools<6.0,>=2.0.0 in /home/tomi/.pyenv/versions/3.10.6/envs/which_horse/lib/python3.10/site-packages (from google-auth<3,>=1.6.3->tensorboard<2.16,>=2.15->tensorflow) (5.3.3)\n",
      "Requirement already satisfied: pyasn1-modules>=0.2.1 in /home/tomi/.pyenv/versions/3.10.6/envs/which_horse/lib/python3.10/site-packages (from google-auth<3,>=1.6.3->tensorboard<2.16,>=2.15->tensorflow) (0.3.0)\n",
      "Requirement already satisfied: rsa<5,>=3.1.4 in /home/tomi/.pyenv/versions/3.10.6/envs/which_horse/lib/python3.10/site-packages (from google-auth<3,>=1.6.3->tensorboard<2.16,>=2.15->tensorflow) (4.9)\n",
      "Requirement already satisfied: requests-oauthlib>=0.7.0 in /home/tomi/.pyenv/versions/3.10.6/envs/which_horse/lib/python3.10/site-packages (from google-auth-oauthlib<2,>=0.5->tensorboard<2.16,>=2.15->tensorflow) (1.3.1)\n",
      "Requirement already satisfied: charset-normalizer<4,>=2 in /home/tomi/.pyenv/versions/3.10.6/envs/which_horse/lib/python3.10/site-packages (from requests<3,>=2.21.0->tensorboard<2.16,>=2.15->tensorflow) (3.3.2)\n",
      "Requirement already satisfied: idna<4,>=2.5 in /home/tomi/.pyenv/versions/3.10.6/envs/which_horse/lib/python3.10/site-packages (from requests<3,>=2.21.0->tensorboard<2.16,>=2.15->tensorflow) (3.6)\n",
      "Requirement already satisfied: urllib3<3,>=1.21.1 in /home/tomi/.pyenv/versions/3.10.6/envs/which_horse/lib/python3.10/site-packages (from requests<3,>=2.21.0->tensorboard<2.16,>=2.15->tensorflow) (2.2.1)\n",
      "Requirement already satisfied: certifi>=2017.4.17 in /home/tomi/.pyenv/versions/3.10.6/envs/which_horse/lib/python3.10/site-packages (from requests<3,>=2.21.0->tensorboard<2.16,>=2.15->tensorflow) (2024.2.2)\n",
      "Requirement already satisfied: MarkupSafe>=2.1.1 in /home/tomi/.pyenv/versions/3.10.6/envs/which_horse/lib/python3.10/site-packages (from werkzeug>=1.0.1->tensorboard<2.16,>=2.15->tensorflow) (2.1.5)\n",
      "Requirement already satisfied: pyasn1<0.6.0,>=0.4.6 in /home/tomi/.pyenv/versions/3.10.6/envs/which_horse/lib/python3.10/site-packages (from pyasn1-modules>=0.2.1->google-auth<3,>=1.6.3->tensorboard<2.16,>=2.15->tensorflow) (0.5.1)\n",
      "Requirement already satisfied: oauthlib>=3.0.0 in /home/tomi/.pyenv/versions/3.10.6/envs/which_horse/lib/python3.10/site-packages (from requests-oauthlib>=0.7.0->google-auth-oauthlib<2,>=0.5->tensorboard<2.16,>=2.15->tensorflow) (3.2.2)\n"
     ]
    }
   ],
   "source": [
    "!ls\n",
    "!pip install --upgrade tensorflow"
   ]
  },
  {
   "cell_type": "code",
   "execution_count": 6,
   "id": "2613caa6",
   "metadata": {},
   "outputs": [],
   "source": [
    "# import pandas as pd\n",
    "# import seaborn as sns\n",
    "# import matplotlib.pyplot as plt\n",
    "# import numpy as np\n",
    "# from sklearn.model_selection import train_test_split\n",
    "# !pip install tensorflow --upgrade"
   ]
  },
  {
   "cell_type": "code",
   "execution_count": 12,
   "id": "c726f477",
   "metadata": {},
   "outputs": [],
   "source": [
    "import pandas as pd\n",
    "import numpy as np\n",
    "import sklearn.model_selection as model_selection\n",
    "import matplotlib.pyplot as plt\n",
    "import seaborn as sns\n",
    "from tensorflow.keras.optimizers import Adam\n",
    "import tensorflow as tf"
   ]
  },
  {
   "cell_type": "code",
   "execution_count": 13,
   "id": "82924c0c",
   "metadata": {},
   "outputs": [],
   "source": [
    "from tensorflow.keras import Sequential, layers\n",
    "from tensorflow.keras import metrics\n",
    "from tensorflow.keras.layers import Normalization \n",
    "from sklearn.pipeline import make_pipeline\n",
    "from sklearn.model_selection import train_test_split\n",
    "import datetime as dt\n",
    "from tensorflow.keras import models"
   ]
  },
  {
   "cell_type": "code",
   "execution_count": 14,
   "id": "83ed6c9b",
   "metadata": {},
   "outputs": [],
   "source": [
    "from tensorflow import keras\n",
    "from keras import Model, Sequential, layers, regularizers, optimizers\n",
    "from keras.callbacks import EarlyStopping"
   ]
  },
  {
   "cell_type": "code",
   "execution_count": 15,
   "id": "e0842898",
   "metadata": {},
   "outputs": [],
   "source": [
    "from tensorflow.keras.callbacks import EarlyStopping"
   ]
  },
  {
   "cell_type": "code",
   "execution_count": 13,
   "id": "1a691160",
   "metadata": {},
   "outputs": [
    {
     "name": "stdout",
     "output_type": "stream",
     "text": [
      "'Concat Data.ipynb'\t\t   Modelling_testing.ipynb\n",
      " Deep_Learning_model-0803.ipynb    pipeline_cleaning.py\n",
      " Deep_Learning_model.ipynb\t   WeatherAPI.ipynb\n",
      " Feature_Engineering_Clean.ipynb   which_horse_flat.ipynb\n",
      " HorseAgeAtRace.ipynb\t\t   which_horse.ipynb\n"
     ]
    }
   ],
   "source": [
    "!ls"
   ]
  },
  {
   "cell_type": "code",
   "execution_count": 25,
   "id": "1a729a72",
   "metadata": {},
   "outputs": [],
   "source": [
    "df = pd.read_csv('../raw_data/combined_flat2_csv.csv')"
   ]
  },
  {
   "cell_type": "code",
   "execution_count": 26,
   "id": "0311cfcb",
   "metadata": {
    "collapsed": true
   },
   "outputs": [
    {
     "data": {
      "text/html": [
       "<div>\n",
       "<style scoped>\n",
       "    .dataframe tbody tr th:only-of-type {\n",
       "        vertical-align: middle;\n",
       "    }\n",
       "\n",
       "    .dataframe tbody tr th {\n",
       "        vertical-align: top;\n",
       "    }\n",
       "\n",
       "    .dataframe thead th {\n",
       "        text-align: right;\n",
       "    }\n",
       "</style>\n",
       "<table border=\"1\" class=\"dataframe\">\n",
       "  <thead>\n",
       "    <tr style=\"text-align: right;\">\n",
       "      <th></th>\n",
       "      <th>barrier_1</th>\n",
       "      <th>barrier_2</th>\n",
       "      <th>barrier_3</th>\n",
       "      <th>barrier_4</th>\n",
       "      <th>barrier_5</th>\n",
       "      <th>barrier_6</th>\n",
       "      <th>barrier_7</th>\n",
       "      <th>barrier_8</th>\n",
       "      <th>barrier_9</th>\n",
       "      <th>barrier_10</th>\n",
       "      <th>...</th>\n",
       "      <th>dslr</th>\n",
       "      <th>official rating</th>\n",
       "      <th>wfa</th>\n",
       "      <th>weight_adjustment</th>\n",
       "      <th>betfair_starting_price</th>\n",
       "      <th>pre_race_master_rating_int</th>\n",
       "      <th>starting_price</th>\n",
       "      <th>current_age</th>\n",
       "      <th>win_or_lose</th>\n",
       "      <th>gear</th>\n",
       "    </tr>\n",
       "  </thead>\n",
       "  <tbody>\n",
       "    <tr>\n",
       "      <th>0</th>\n",
       "      <td>0.0</td>\n",
       "      <td>0.0</td>\n",
       "      <td>0.0</td>\n",
       "      <td>0.0</td>\n",
       "      <td>0.0</td>\n",
       "      <td>0.0</td>\n",
       "      <td>0.0</td>\n",
       "      <td>1.0</td>\n",
       "      <td>0.0</td>\n",
       "      <td>0.0</td>\n",
       "      <td>...</td>\n",
       "      <td>-0.341000</td>\n",
       "      <td>-0.277886</td>\n",
       "      <td>-0.339061</td>\n",
       "      <td>-0.712174</td>\n",
       "      <td>-0.372942</td>\n",
       "      <td>-0.384102</td>\n",
       "      <td>-0.581721</td>\n",
       "      <td>-0.023006</td>\n",
       "      <td>0.0</td>\n",
       "      <td>0.0</td>\n",
       "    </tr>\n",
       "    <tr>\n",
       "      <th>1</th>\n",
       "      <td>0.0</td>\n",
       "      <td>0.0</td>\n",
       "      <td>0.0</td>\n",
       "      <td>0.0</td>\n",
       "      <td>0.0</td>\n",
       "      <td>1.0</td>\n",
       "      <td>0.0</td>\n",
       "      <td>0.0</td>\n",
       "      <td>0.0</td>\n",
       "      <td>0.0</td>\n",
       "      <td>...</td>\n",
       "      <td>-0.341000</td>\n",
       "      <td>-0.530630</td>\n",
       "      <td>-0.339061</td>\n",
       "      <td>-0.071595</td>\n",
       "      <td>-0.368995</td>\n",
       "      <td>-0.384102</td>\n",
       "      <td>-0.573259</td>\n",
       "      <td>-0.353048</td>\n",
       "      <td>0.0</td>\n",
       "      <td>0.0</td>\n",
       "    </tr>\n",
       "    <tr>\n",
       "      <th>2</th>\n",
       "      <td>0.0</td>\n",
       "      <td>0.0</td>\n",
       "      <td>0.0</td>\n",
       "      <td>1.0</td>\n",
       "      <td>0.0</td>\n",
       "      <td>0.0</td>\n",
       "      <td>0.0</td>\n",
       "      <td>0.0</td>\n",
       "      <td>0.0</td>\n",
       "      <td>0.0</td>\n",
       "      <td>...</td>\n",
       "      <td>-0.548722</td>\n",
       "      <td>-0.404258</td>\n",
       "      <td>-0.339061</td>\n",
       "      <td>0.088550</td>\n",
       "      <td>-0.129512</td>\n",
       "      <td>-1.090881</td>\n",
       "      <td>0.052875</td>\n",
       "      <td>-0.353048</td>\n",
       "      <td>0.0</td>\n",
       "      <td>0.0</td>\n",
       "    </tr>\n",
       "    <tr>\n",
       "      <th>3</th>\n",
       "      <td>0.0</td>\n",
       "      <td>0.0</td>\n",
       "      <td>0.0</td>\n",
       "      <td>0.0</td>\n",
       "      <td>0.0</td>\n",
       "      <td>0.0</td>\n",
       "      <td>1.0</td>\n",
       "      <td>0.0</td>\n",
       "      <td>0.0</td>\n",
       "      <td>0.0</td>\n",
       "      <td>...</td>\n",
       "      <td>-0.600653</td>\n",
       "      <td>-0.277886</td>\n",
       "      <td>-0.339061</td>\n",
       "      <td>-0.231739</td>\n",
       "      <td>-0.375343</td>\n",
       "      <td>-0.266306</td>\n",
       "      <td>-0.581721</td>\n",
       "      <td>-0.683090</td>\n",
       "      <td>1.0</td>\n",
       "      <td>0.0</td>\n",
       "    </tr>\n",
       "    <tr>\n",
       "      <th>4</th>\n",
       "      <td>0.0</td>\n",
       "      <td>1.0</td>\n",
       "      <td>0.0</td>\n",
       "      <td>0.0</td>\n",
       "      <td>0.0</td>\n",
       "      <td>0.0</td>\n",
       "      <td>0.0</td>\n",
       "      <td>0.0</td>\n",
       "      <td>0.0</td>\n",
       "      <td>0.0</td>\n",
       "      <td>...</td>\n",
       "      <td>-0.341000</td>\n",
       "      <td>-0.277886</td>\n",
       "      <td>-0.339061</td>\n",
       "      <td>-0.712174</td>\n",
       "      <td>-0.078739</td>\n",
       "      <td>-2.916727</td>\n",
       "      <td>0.222101</td>\n",
       "      <td>-0.023006</td>\n",
       "      <td>0.0</td>\n",
       "      <td>0.0</td>\n",
       "    </tr>\n",
       "    <tr>\n",
       "      <th>...</th>\n",
       "      <td>...</td>\n",
       "      <td>...</td>\n",
       "      <td>...</td>\n",
       "      <td>...</td>\n",
       "      <td>...</td>\n",
       "      <td>...</td>\n",
       "      <td>...</td>\n",
       "      <td>...</td>\n",
       "      <td>...</td>\n",
       "      <td>...</td>\n",
       "      <td>...</td>\n",
       "      <td>...</td>\n",
       "      <td>...</td>\n",
       "      <td>...</td>\n",
       "      <td>...</td>\n",
       "      <td>...</td>\n",
       "      <td>...</td>\n",
       "      <td>...</td>\n",
       "      <td>...</td>\n",
       "      <td>...</td>\n",
       "      <td>...</td>\n",
       "    </tr>\n",
       "    <tr>\n",
       "      <th>129639</th>\n",
       "      <td>0.0</td>\n",
       "      <td>0.0</td>\n",
       "      <td>0.0</td>\n",
       "      <td>0.0</td>\n",
       "      <td>1.0</td>\n",
       "      <td>0.0</td>\n",
       "      <td>0.0</td>\n",
       "      <td>0.0</td>\n",
       "      <td>0.0</td>\n",
       "      <td>0.0</td>\n",
       "      <td>...</td>\n",
       "      <td>-0.496792</td>\n",
       "      <td>0.859464</td>\n",
       "      <td>-0.339061</td>\n",
       "      <td>0.088550</td>\n",
       "      <td>-0.388832</td>\n",
       "      <td>1.088354</td>\n",
       "      <td>-0.624027</td>\n",
       "      <td>0.967119</td>\n",
       "      <td>0.0</td>\n",
       "      <td>0.0</td>\n",
       "    </tr>\n",
       "    <tr>\n",
       "      <th>129640</th>\n",
       "      <td>0.0</td>\n",
       "      <td>0.0</td>\n",
       "      <td>0.0</td>\n",
       "      <td>0.0</td>\n",
       "      <td>0.0</td>\n",
       "      <td>1.0</td>\n",
       "      <td>0.0</td>\n",
       "      <td>0.0</td>\n",
       "      <td>0.0</td>\n",
       "      <td>0.0</td>\n",
       "      <td>...</td>\n",
       "      <td>-0.410241</td>\n",
       "      <td>0.859464</td>\n",
       "      <td>-0.339061</td>\n",
       "      <td>0.088550</td>\n",
       "      <td>-0.266600</td>\n",
       "      <td>0.676067</td>\n",
       "      <td>-0.370189</td>\n",
       "      <td>0.967119</td>\n",
       "      <td>0.0</td>\n",
       "      <td>0.0</td>\n",
       "    </tr>\n",
       "    <tr>\n",
       "      <th>129641</th>\n",
       "      <td>1.0</td>\n",
       "      <td>0.0</td>\n",
       "      <td>0.0</td>\n",
       "      <td>0.0</td>\n",
       "      <td>0.0</td>\n",
       "      <td>0.0</td>\n",
       "      <td>0.0</td>\n",
       "      <td>0.0</td>\n",
       "      <td>0.0</td>\n",
       "      <td>0.0</td>\n",
       "      <td>...</td>\n",
       "      <td>-0.479482</td>\n",
       "      <td>0.922650</td>\n",
       "      <td>-0.339061</td>\n",
       "      <td>-0.071595</td>\n",
       "      <td>-0.099048</td>\n",
       "      <td>0.793863</td>\n",
       "      <td>0.052875</td>\n",
       "      <td>0.967119</td>\n",
       "      <td>0.0</td>\n",
       "      <td>1.0</td>\n",
       "    </tr>\n",
       "    <tr>\n",
       "      <th>129642</th>\n",
       "      <td>0.0</td>\n",
       "      <td>1.0</td>\n",
       "      <td>0.0</td>\n",
       "      <td>0.0</td>\n",
       "      <td>0.0</td>\n",
       "      <td>0.0</td>\n",
       "      <td>0.0</td>\n",
       "      <td>0.0</td>\n",
       "      <td>0.0</td>\n",
       "      <td>0.0</td>\n",
       "      <td>...</td>\n",
       "      <td>-0.496792</td>\n",
       "      <td>0.859464</td>\n",
       "      <td>-0.339061</td>\n",
       "      <td>0.088550</td>\n",
       "      <td>-0.261739</td>\n",
       "      <td>1.147253</td>\n",
       "      <td>-0.327882</td>\n",
       "      <td>1.297161</td>\n",
       "      <td>0.0</td>\n",
       "      <td>0.0</td>\n",
       "    </tr>\n",
       "    <tr>\n",
       "      <th>129643</th>\n",
       "      <td>0.0</td>\n",
       "      <td>0.0</td>\n",
       "      <td>0.0</td>\n",
       "      <td>0.0</td>\n",
       "      <td>0.0</td>\n",
       "      <td>1.0</td>\n",
       "      <td>0.0</td>\n",
       "      <td>0.0</td>\n",
       "      <td>0.0</td>\n",
       "      <td>0.0</td>\n",
       "      <td>...</td>\n",
       "      <td>-0.479482</td>\n",
       "      <td>1.112208</td>\n",
       "      <td>-0.339061</td>\n",
       "      <td>0.729129</td>\n",
       "      <td>-0.347584</td>\n",
       "      <td>0.322677</td>\n",
       "      <td>-0.518261</td>\n",
       "      <td>1.957245</td>\n",
       "      <td>0.0</td>\n",
       "      <td>0.0</td>\n",
       "    </tr>\n",
       "  </tbody>\n",
       "</table>\n",
       "<p>129644 rows × 65 columns</p>\n",
       "</div>"
      ],
      "text/plain": [
       "        barrier_1  barrier_2  barrier_3  barrier_4  barrier_5  barrier_6  \\\n",
       "0             0.0        0.0        0.0        0.0        0.0        0.0   \n",
       "1             0.0        0.0        0.0        0.0        0.0        1.0   \n",
       "2             0.0        0.0        0.0        1.0        0.0        0.0   \n",
       "3             0.0        0.0        0.0        0.0        0.0        0.0   \n",
       "4             0.0        1.0        0.0        0.0        0.0        0.0   \n",
       "...           ...        ...        ...        ...        ...        ...   \n",
       "129639        0.0        0.0        0.0        0.0        1.0        0.0   \n",
       "129640        0.0        0.0        0.0        0.0        0.0        1.0   \n",
       "129641        1.0        0.0        0.0        0.0        0.0        0.0   \n",
       "129642        0.0        1.0        0.0        0.0        0.0        0.0   \n",
       "129643        0.0        0.0        0.0        0.0        0.0        1.0   \n",
       "\n",
       "        barrier_7  barrier_8  barrier_9  barrier_10  ...      dslr  \\\n",
       "0             0.0        1.0        0.0         0.0  ... -0.341000   \n",
       "1             0.0        0.0        0.0         0.0  ... -0.341000   \n",
       "2             0.0        0.0        0.0         0.0  ... -0.548722   \n",
       "3             1.0        0.0        0.0         0.0  ... -0.600653   \n",
       "4             0.0        0.0        0.0         0.0  ... -0.341000   \n",
       "...           ...        ...        ...         ...  ...       ...   \n",
       "129639        0.0        0.0        0.0         0.0  ... -0.496792   \n",
       "129640        0.0        0.0        0.0         0.0  ... -0.410241   \n",
       "129641        0.0        0.0        0.0         0.0  ... -0.479482   \n",
       "129642        0.0        0.0        0.0         0.0  ... -0.496792   \n",
       "129643        0.0        0.0        0.0         0.0  ... -0.479482   \n",
       "\n",
       "        official rating       wfa  weight_adjustment  betfair_starting_price  \\\n",
       "0             -0.277886 -0.339061          -0.712174               -0.372942   \n",
       "1             -0.530630 -0.339061          -0.071595               -0.368995   \n",
       "2             -0.404258 -0.339061           0.088550               -0.129512   \n",
       "3             -0.277886 -0.339061          -0.231739               -0.375343   \n",
       "4             -0.277886 -0.339061          -0.712174               -0.078739   \n",
       "...                 ...       ...                ...                     ...   \n",
       "129639         0.859464 -0.339061           0.088550               -0.388832   \n",
       "129640         0.859464 -0.339061           0.088550               -0.266600   \n",
       "129641         0.922650 -0.339061          -0.071595               -0.099048   \n",
       "129642         0.859464 -0.339061           0.088550               -0.261739   \n",
       "129643         1.112208 -0.339061           0.729129               -0.347584   \n",
       "\n",
       "        pre_race_master_rating_int  starting_price  current_age  win_or_lose  \\\n",
       "0                        -0.384102       -0.581721    -0.023006          0.0   \n",
       "1                        -0.384102       -0.573259    -0.353048          0.0   \n",
       "2                        -1.090881        0.052875    -0.353048          0.0   \n",
       "3                        -0.266306       -0.581721    -0.683090          1.0   \n",
       "4                        -2.916727        0.222101    -0.023006          0.0   \n",
       "...                            ...             ...          ...          ...   \n",
       "129639                    1.088354       -0.624027     0.967119          0.0   \n",
       "129640                    0.676067       -0.370189     0.967119          0.0   \n",
       "129641                    0.793863        0.052875     0.967119          0.0   \n",
       "129642                    1.147253       -0.327882     1.297161          0.0   \n",
       "129643                    0.322677       -0.518261     1.957245          0.0   \n",
       "\n",
       "        gear  \n",
       "0        0.0  \n",
       "1        0.0  \n",
       "2        0.0  \n",
       "3        0.0  \n",
       "4        0.0  \n",
       "...      ...  \n",
       "129639   0.0  \n",
       "129640   0.0  \n",
       "129641   1.0  \n",
       "129642   0.0  \n",
       "129643   0.0  \n",
       "\n",
       "[129644 rows x 65 columns]"
      ]
     },
     "execution_count": 26,
     "metadata": {},
     "output_type": "execute_result"
    }
   ],
   "source": [
    "#testing pipeline\n",
    "import pipeline_cleaning\n",
    "\n",
    "pipeline_cleaning.transforming_data(pipeline_cleaning.clean_data(df))[0]\n"
   ]
  },
  {
   "cell_type": "markdown",
   "id": "221d632b",
   "metadata": {},
   "source": [
    "# training data"
   ]
  },
  {
   "cell_type": "code",
   "execution_count": 18,
   "id": "f94285ef",
   "metadata": {},
   "outputs": [],
   "source": [
    "# X_train = df.loc[(df['date'] < '2023-01-01')]"
   ]
  },
  {
   "cell_type": "code",
   "execution_count": null,
   "id": "03dc3f3f",
   "metadata": {},
   "outputs": [],
   "source": [
    "# X_train"
   ]
  },
  {
   "cell_type": "code",
   "execution_count": null,
   "id": "8f10f11d",
   "metadata": {},
   "outputs": [],
   "source": [
    "# y_train_tmp = df.loc[(df['date'] < '2023-01-01')]"
   ]
  },
  {
   "cell_type": "code",
   "execution_count": null,
   "id": "7b8593d9",
   "metadata": {},
   "outputs": [],
   "source": [
    "# y_train = y_train_tmp[['win_or_lose']]"
   ]
  },
  {
   "cell_type": "code",
   "execution_count": null,
   "id": "551794a0",
   "metadata": {},
   "outputs": [],
   "source": [
    "# test = np.expand_dims(y_train,(2,0))"
   ]
  },
  {
   "cell_type": "code",
   "execution_count": null,
   "id": "28ffbdd4",
   "metadata": {},
   "outputs": [],
   "source": [
    "# test.shape"
   ]
  },
  {
   "cell_type": "code",
   "execution_count": null,
   "id": "1953168e",
   "metadata": {
    "collapsed": true
   },
   "outputs": [],
   "source": [
    "# X_train = X_train.drop(['Unnamed: 0','win_or_lose', 'date', 'birth_date'], axis = 1)"
   ]
  },
  {
   "cell_type": "code",
   "execution_count": null,
   "id": "b09b0f56",
   "metadata": {
    "collapsed": true
   },
   "outputs": [],
   "source": [
    "# X_train.columns"
   ]
  },
  {
   "cell_type": "code",
   "execution_count": null,
   "id": "a074eeb1",
   "metadata": {},
   "outputs": [],
   "source": [
    "# y_train"
   ]
  },
  {
   "cell_type": "markdown",
   "id": "b9ebd82f",
   "metadata": {},
   "source": [
    "# testing data"
   ]
  },
  {
   "cell_type": "code",
   "execution_count": null,
   "id": "f5d271a4",
   "metadata": {},
   "outputs": [],
   "source": [
    "# X_test = df.loc[(df['date'] > '2023-01-01') < = (df['date'] > '2023-01-01')]"
   ]
  },
  {
   "cell_type": "code",
   "execution_count": null,
   "id": "c59556af",
   "metadata": {},
   "outputs": [],
   "source": [
    "# X_test"
   ]
  },
  {
   "cell_type": "code",
   "execution_count": null,
   "id": "d9f0bf70",
   "metadata": {},
   "outputs": [],
   "source": [
    "# y_test_tmp = df.loc[(df['date'] > '2023-01-01')]"
   ]
  },
  {
   "cell_type": "code",
   "execution_count": null,
   "id": "78e72d62",
   "metadata": {},
   "outputs": [],
   "source": [
    "# y_test = y_test_tmp['win_or_lose']"
   ]
  },
  {
   "cell_type": "code",
   "execution_count": null,
   "id": "42b4d5d7",
   "metadata": {},
   "outputs": [],
   "source": [
    "# X_test = X_test.drop(['win_or_lose', 'date', 'birth_date'], axis = 1)"
   ]
  },
  {
   "cell_type": "code",
   "execution_count": null,
   "id": "7a388063",
   "metadata": {
    "collapsed": true
   },
   "outputs": [],
   "source": [
    "# filtered_df"
   ]
  },
  {
   "cell_type": "code",
   "execution_count": null,
   "id": "96dcd775",
   "metadata": {},
   "outputs": [],
   "source": [
    "#X_train_split = len(X_train)*.2"
   ]
  },
  {
   "cell_type": "code",
   "execution_count": null,
   "id": "5f155e3e",
   "metadata": {},
   "outputs": [],
   "source": [
    "# type(df['date'])"
   ]
  },
  {
   "cell_type": "code",
   "execution_count": null,
   "id": "6994f88a",
   "metadata": {},
   "outputs": [],
   "source": [
    "# df_filtered = filtered_df.drop(columns='Unnamed: 0')"
   ]
  },
  {
   "cell_type": "code",
   "execution_count": null,
   "id": "df51f56b",
   "metadata": {},
   "outputs": [],
   "source": [
    "# df_filtered.dtypes"
   ]
  },
  {
   "cell_type": "code",
   "execution_count": null,
   "id": "97190734",
   "metadata": {
    "scrolled": false
   },
   "outputs": [],
   "source": [
    "# object_info = df.select_dtypes(include = 'object')"
   ]
  },
  {
   "cell_type": "code",
   "execution_count": null,
   "id": "ad45ced7",
   "metadata": {},
   "outputs": [],
   "source": [
    "# object_info.head(5)"
   ]
  },
  {
   "cell_type": "code",
   "execution_count": null,
   "id": "3c16d7b9",
   "metadata": {},
   "outputs": [],
   "source": [
    "# #drop unnamed column as it's a replica of the index \n",
    "# df = df.drop(['date', 'birth_date'], axis = 1)"
   ]
  },
  {
   "cell_type": "code",
   "execution_count": null,
   "id": "ede7fd99",
   "metadata": {},
   "outputs": [
    {
     "data": {
      "text/html": [
       "<div>\n",
       "<style scoped>\n",
       "    .dataframe tbody tr th:only-of-type {\n",
       "        vertical-align: middle;\n",
       "    }\n",
       "\n",
       "    .dataframe tbody tr th {\n",
       "        vertical-align: top;\n",
       "    }\n",
       "\n",
       "    .dataframe thead th {\n",
       "        text-align: right;\n",
       "    }\n",
       "</style>\n",
       "<table border=\"1\" class=\"dataframe\">\n",
       "  <thead>\n",
       "    <tr style=\"text-align: right;\">\n",
       "      <th></th>\n",
       "      <th>Unnamed: 0</th>\n",
       "      <th>meeting_id</th>\n",
       "      <th>event_number</th>\n",
       "      <th>distance</th>\n",
       "      <th>distance_raw_furlongs</th>\n",
       "      <th>total_prize_money</th>\n",
       "      <th>track_type</th>\n",
       "      <th>barrier</th>\n",
       "      <th>number</th>\n",
       "      <th>finish_position</th>\n",
       "      <th>...</th>\n",
       "      <th>race_class_normalised_Group 3</th>\n",
       "      <th>race_class_normalised_Handicap</th>\n",
       "      <th>race_class_normalised_Listed</th>\n",
       "      <th>race_class_normalised_Maiden</th>\n",
       "      <th>race_class_normalised_NHF</th>\n",
       "      <th>race_class_normalised_Novice</th>\n",
       "      <th>race_class_normalised_Selling</th>\n",
       "      <th>race_class_normalised_nan</th>\n",
       "      <th>life_days</th>\n",
       "      <th>current_age</th>\n",
       "    </tr>\n",
       "  </thead>\n",
       "  <tbody>\n",
       "    <tr>\n",
       "      <th>0</th>\n",
       "      <td>0</td>\n",
       "      <td>3668</td>\n",
       "      <td>1</td>\n",
       "      <td>1100</td>\n",
       "      <td>5.0</td>\n",
       "      <td>4231</td>\n",
       "      <td>1</td>\n",
       "      <td>8</td>\n",
       "      <td>1</td>\n",
       "      <td>2.0</td>\n",
       "      <td>...</td>\n",
       "      <td>0.0</td>\n",
       "      <td>1.0</td>\n",
       "      <td>0.0</td>\n",
       "      <td>0.0</td>\n",
       "      <td>0.0</td>\n",
       "      <td>0.0</td>\n",
       "      <td>0.0</td>\n",
       "      <td>0.0</td>\n",
       "      <td>1269</td>\n",
       "      <td>5</td>\n",
       "    </tr>\n",
       "    <tr>\n",
       "      <th>1</th>\n",
       "      <td>1</td>\n",
       "      <td>3668</td>\n",
       "      <td>7</td>\n",
       "      <td>1760</td>\n",
       "      <td>8.0</td>\n",
       "      <td>4231</td>\n",
       "      <td>1</td>\n",
       "      <td>6</td>\n",
       "      <td>4</td>\n",
       "      <td>2.0</td>\n",
       "      <td>...</td>\n",
       "      <td>0.0</td>\n",
       "      <td>1.0</td>\n",
       "      <td>0.0</td>\n",
       "      <td>0.0</td>\n",
       "      <td>0.0</td>\n",
       "      <td>0.0</td>\n",
       "      <td>0.0</td>\n",
       "      <td>0.0</td>\n",
       "      <td>1600</td>\n",
       "      <td>4</td>\n",
       "    </tr>\n",
       "    <tr>\n",
       "      <th>2</th>\n",
       "      <td>2</td>\n",
       "      <td>3668</td>\n",
       "      <td>7</td>\n",
       "      <td>1760</td>\n",
       "      <td>8.0</td>\n",
       "      <td>4231</td>\n",
       "      <td>1</td>\n",
       "      <td>4</td>\n",
       "      <td>3</td>\n",
       "      <td>7.0</td>\n",
       "      <td>...</td>\n",
       "      <td>0.0</td>\n",
       "      <td>1.0</td>\n",
       "      <td>0.0</td>\n",
       "      <td>0.0</td>\n",
       "      <td>0.0</td>\n",
       "      <td>0.0</td>\n",
       "      <td>0.0</td>\n",
       "      <td>0.0</td>\n",
       "      <td>3433</td>\n",
       "      <td>4</td>\n",
       "    </tr>\n",
       "    <tr>\n",
       "      <th>3</th>\n",
       "      <td>3</td>\n",
       "      <td>3668</td>\n",
       "      <td>7</td>\n",
       "      <td>1760</td>\n",
       "      <td>8.0</td>\n",
       "      <td>4231</td>\n",
       "      <td>1</td>\n",
       "      <td>7</td>\n",
       "      <td>2</td>\n",
       "      <td>1.0</td>\n",
       "      <td>...</td>\n",
       "      <td>0.0</td>\n",
       "      <td>1.0</td>\n",
       "      <td>0.0</td>\n",
       "      <td>0.0</td>\n",
       "      <td>0.0</td>\n",
       "      <td>0.0</td>\n",
       "      <td>0.0</td>\n",
       "      <td>0.0</td>\n",
       "      <td>1576</td>\n",
       "      <td>3</td>\n",
       "    </tr>\n",
       "    <tr>\n",
       "      <th>4</th>\n",
       "      <td>4</td>\n",
       "      <td>3668</td>\n",
       "      <td>7</td>\n",
       "      <td>1760</td>\n",
       "      <td>8.0</td>\n",
       "      <td>4231</td>\n",
       "      <td>1</td>\n",
       "      <td>2</td>\n",
       "      <td>1</td>\n",
       "      <td>8.0</td>\n",
       "      <td>...</td>\n",
       "      <td>0.0</td>\n",
       "      <td>1.0</td>\n",
       "      <td>0.0</td>\n",
       "      <td>0.0</td>\n",
       "      <td>0.0</td>\n",
       "      <td>0.0</td>\n",
       "      <td>0.0</td>\n",
       "      <td>0.0</td>\n",
       "      <td>1617</td>\n",
       "      <td>5</td>\n",
       "    </tr>\n",
       "    <tr>\n",
       "      <th>...</th>\n",
       "      <td>...</td>\n",
       "      <td>...</td>\n",
       "      <td>...</td>\n",
       "      <td>...</td>\n",
       "      <td>...</td>\n",
       "      <td>...</td>\n",
       "      <td>...</td>\n",
       "      <td>...</td>\n",
       "      <td>...</td>\n",
       "      <td>...</td>\n",
       "      <td>...</td>\n",
       "      <td>...</td>\n",
       "      <td>...</td>\n",
       "      <td>...</td>\n",
       "      <td>...</td>\n",
       "      <td>...</td>\n",
       "      <td>...</td>\n",
       "      <td>...</td>\n",
       "      <td>...</td>\n",
       "      <td>...</td>\n",
       "      <td>...</td>\n",
       "    </tr>\n",
       "    <tr>\n",
       "      <th>207209</th>\n",
       "      <td>282000</td>\n",
       "      <td>37996</td>\n",
       "      <td>3</td>\n",
       "      <td>1320</td>\n",
       "      <td>6.0</td>\n",
       "      <td>46920</td>\n",
       "      <td>1</td>\n",
       "      <td>2</td>\n",
       "      <td>2</td>\n",
       "      <td>1.0</td>\n",
       "      <td>...</td>\n",
       "      <td>0.0</td>\n",
       "      <td>1.0</td>\n",
       "      <td>0.0</td>\n",
       "      <td>0.0</td>\n",
       "      <td>0.0</td>\n",
       "      <td>0.0</td>\n",
       "      <td>0.0</td>\n",
       "      <td>0.0</td>\n",
       "      <td>1331</td>\n",
       "      <td>7</td>\n",
       "    </tr>\n",
       "    <tr>\n",
       "      <th>207210</th>\n",
       "      <td>282001</td>\n",
       "      <td>37996</td>\n",
       "      <td>3</td>\n",
       "      <td>1320</td>\n",
       "      <td>6.0</td>\n",
       "      <td>46920</td>\n",
       "      <td>1</td>\n",
       "      <td>6</td>\n",
       "      <td>1</td>\n",
       "      <td>9.0</td>\n",
       "      <td>...</td>\n",
       "      <td>0.0</td>\n",
       "      <td>1.0</td>\n",
       "      <td>0.0</td>\n",
       "      <td>0.0</td>\n",
       "      <td>0.0</td>\n",
       "      <td>0.0</td>\n",
       "      <td>0.0</td>\n",
       "      <td>0.0</td>\n",
       "      <td>2761</td>\n",
       "      <td>6</td>\n",
       "    </tr>\n",
       "    <tr>\n",
       "      <th>207211</th>\n",
       "      <td>282002</td>\n",
       "      <td>37996</td>\n",
       "      <td>2</td>\n",
       "      <td>1760</td>\n",
       "      <td>8.0</td>\n",
       "      <td>14296</td>\n",
       "      <td>1</td>\n",
       "      <td>9</td>\n",
       "      <td>9</td>\n",
       "      <td>4.0</td>\n",
       "      <td>...</td>\n",
       "      <td>0.0</td>\n",
       "      <td>1.0</td>\n",
       "      <td>0.0</td>\n",
       "      <td>0.0</td>\n",
       "      <td>0.0</td>\n",
       "      <td>0.0</td>\n",
       "      <td>0.0</td>\n",
       "      <td>0.0</td>\n",
       "      <td>924</td>\n",
       "      <td>6</td>\n",
       "    </tr>\n",
       "    <tr>\n",
       "      <th>207212</th>\n",
       "      <td>282003</td>\n",
       "      <td>37996</td>\n",
       "      <td>2</td>\n",
       "      <td>1760</td>\n",
       "      <td>8.0</td>\n",
       "      <td>14296</td>\n",
       "      <td>1</td>\n",
       "      <td>4</td>\n",
       "      <td>8</td>\n",
       "      <td>5.0</td>\n",
       "      <td>...</td>\n",
       "      <td>0.0</td>\n",
       "      <td>1.0</td>\n",
       "      <td>0.0</td>\n",
       "      <td>0.0</td>\n",
       "      <td>0.0</td>\n",
       "      <td>0.0</td>\n",
       "      <td>0.0</td>\n",
       "      <td>0.0</td>\n",
       "      <td>969</td>\n",
       "      <td>7</td>\n",
       "    </tr>\n",
       "    <tr>\n",
       "      <th>207213</th>\n",
       "      <td>282004</td>\n",
       "      <td>37996</td>\n",
       "      <td>3</td>\n",
       "      <td>1320</td>\n",
       "      <td>6.0</td>\n",
       "      <td>46920</td>\n",
       "      <td>1</td>\n",
       "      <td>8</td>\n",
       "      <td>9</td>\n",
       "      <td>5.0</td>\n",
       "      <td>...</td>\n",
       "      <td>0.0</td>\n",
       "      <td>1.0</td>\n",
       "      <td>0.0</td>\n",
       "      <td>0.0</td>\n",
       "      <td>0.0</td>\n",
       "      <td>0.0</td>\n",
       "      <td>0.0</td>\n",
       "      <td>0.0</td>\n",
       "      <td>1313</td>\n",
       "      <td>7</td>\n",
       "    </tr>\n",
       "  </tbody>\n",
       "</table>\n",
       "<p>207214 rows × 64 columns</p>\n",
       "</div>"
      ],
      "text/plain": [
       "        Unnamed: 0  meeting_id  event_number  distance  distance_raw_furlongs  \\\n",
       "0                0        3668             1      1100                    5.0   \n",
       "1                1        3668             7      1760                    8.0   \n",
       "2                2        3668             7      1760                    8.0   \n",
       "3                3        3668             7      1760                    8.0   \n",
       "4                4        3668             7      1760                    8.0   \n",
       "...            ...         ...           ...       ...                    ...   \n",
       "207209      282000       37996             3      1320                    6.0   \n",
       "207210      282001       37996             3      1320                    6.0   \n",
       "207211      282002       37996             2      1760                    8.0   \n",
       "207212      282003       37996             2      1760                    8.0   \n",
       "207213      282004       37996             3      1320                    6.0   \n",
       "\n",
       "        total_prize_money  track_type  barrier  number  finish_position  ...  \\\n",
       "0                    4231           1        8       1              2.0  ...   \n",
       "1                    4231           1        6       4              2.0  ...   \n",
       "2                    4231           1        4       3              7.0  ...   \n",
       "3                    4231           1        7       2              1.0  ...   \n",
       "4                    4231           1        2       1              8.0  ...   \n",
       "...                   ...         ...      ...     ...              ...  ...   \n",
       "207209              46920           1        2       2              1.0  ...   \n",
       "207210              46920           1        6       1              9.0  ...   \n",
       "207211              14296           1        9       9              4.0  ...   \n",
       "207212              14296           1        4       8              5.0  ...   \n",
       "207213              46920           1        8       9              5.0  ...   \n",
       "\n",
       "        race_class_normalised_Group 3  race_class_normalised_Handicap  \\\n",
       "0                                 0.0                             1.0   \n",
       "1                                 0.0                             1.0   \n",
       "2                                 0.0                             1.0   \n",
       "3                                 0.0                             1.0   \n",
       "4                                 0.0                             1.0   \n",
       "...                               ...                             ...   \n",
       "207209                            0.0                             1.0   \n",
       "207210                            0.0                             1.0   \n",
       "207211                            0.0                             1.0   \n",
       "207212                            0.0                             1.0   \n",
       "207213                            0.0                             1.0   \n",
       "\n",
       "        race_class_normalised_Listed  race_class_normalised_Maiden  \\\n",
       "0                                0.0                           0.0   \n",
       "1                                0.0                           0.0   \n",
       "2                                0.0                           0.0   \n",
       "3                                0.0                           0.0   \n",
       "4                                0.0                           0.0   \n",
       "...                              ...                           ...   \n",
       "207209                           0.0                           0.0   \n",
       "207210                           0.0                           0.0   \n",
       "207211                           0.0                           0.0   \n",
       "207212                           0.0                           0.0   \n",
       "207213                           0.0                           0.0   \n",
       "\n",
       "        race_class_normalised_NHF  race_class_normalised_Novice  \\\n",
       "0                             0.0                           0.0   \n",
       "1                             0.0                           0.0   \n",
       "2                             0.0                           0.0   \n",
       "3                             0.0                           0.0   \n",
       "4                             0.0                           0.0   \n",
       "...                           ...                           ...   \n",
       "207209                        0.0                           0.0   \n",
       "207210                        0.0                           0.0   \n",
       "207211                        0.0                           0.0   \n",
       "207212                        0.0                           0.0   \n",
       "207213                        0.0                           0.0   \n",
       "\n",
       "        race_class_normalised_Selling  race_class_normalised_nan  life_days  \\\n",
       "0                                 0.0                        0.0       1269   \n",
       "1                                 0.0                        0.0       1600   \n",
       "2                                 0.0                        0.0       3433   \n",
       "3                                 0.0                        0.0       1576   \n",
       "4                                 0.0                        0.0       1617   \n",
       "...                               ...                        ...        ...   \n",
       "207209                            0.0                        0.0       1331   \n",
       "207210                            0.0                        0.0       2761   \n",
       "207211                            0.0                        0.0        924   \n",
       "207212                            0.0                        0.0        969   \n",
       "207213                            0.0                        0.0       1313   \n",
       "\n",
       "        current_age  \n",
       "0                 5  \n",
       "1                 4  \n",
       "2                 4  \n",
       "3                 3  \n",
       "4                 5  \n",
       "...             ...  \n",
       "207209            7  \n",
       "207210            6  \n",
       "207211            6  \n",
       "207212            7  \n",
       "207213            7  \n",
       "\n",
       "[207214 rows x 64 columns]"
      ]
     },
     "execution_count": 14,
     "metadata": {},
     "output_type": "execute_result"
    }
   ],
   "source": [
    "df.select_dtypes(exclude = 'O')"
   ]
  },
  {
   "cell_type": "code",
   "execution_count": null,
   "id": "8c5fa92e",
   "metadata": {},
   "outputs": [],
   "source": [
    "df = df.select_dtypes(exclude = ['object'])"
   ]
  },
  {
   "cell_type": "code",
   "execution_count": null,
   "id": "c6833405",
   "metadata": {},
   "outputs": [
    {
     "data": {
      "text/plain": [
       "array([dtype('int64'), dtype('float64')], dtype=object)"
      ]
     },
     "execution_count": 29,
     "metadata": {},
     "output_type": "execute_result"
    }
   ],
   "source": [
    "df.dtypes.unique()"
   ]
  },
  {
   "cell_type": "code",
   "execution_count": null,
   "id": "fb180d63",
   "metadata": {},
   "outputs": [
    {
     "data": {
      "text/plain": [
       "dtype('int64')"
      ]
     },
     "execution_count": 30,
     "metadata": {},
     "output_type": "execute_result"
    }
   ],
   "source": [
    "df.failed_to_finish_reason.dtype"
   ]
  },
  {
   "cell_type": "code",
   "execution_count": null,
   "id": "18962bf8",
   "metadata": {},
   "outputs": [
    {
     "data": {
      "text/plain": [
       "Index(['Unnamed: 0', 'meeting_id', 'event_number', 'distance',\n",
       "       'distance_raw_furlongs', 'total_prize_money', 'track_type', 'barrier',\n",
       "       'number', 'finish_position', 'win_or_lose', 'failed_to_finish_reason',\n",
       "       'margin', 'gear', 'jockey_allowance', 'handicap_weight', 'jockey_id',\n",
       "       'tainer_id', 'dslr', 'horse_id', 'age', 'official rating', 'wfa',\n",
       "       'weight_adjustment', 'betfair_starting_price',\n",
       "       'pre_race_master_rating_int', 'starting_price', 'track_condition_FAST',\n",
       "       'track_condition_FIRM', 'track_condition_GOOD',\n",
       "       'track_condition_GOOD TO FIRM', 'track_condition_GOOD TO SOFT',\n",
       "       'track_condition_GOOD TO YIELDING', 'track_condition_HEAVY',\n",
       "       'track_condition_SLOW', 'track_condition_SOFT',\n",
       "       'track_condition_STANDARD', 'track_condition_STANDARD TO FAST',\n",
       "       'track_condition_STANDARD TO SLOW', 'race_type_FLAT',\n",
       "       'race_type_NATIONAL_HUNT_FLAT', 'race_class_1', 'race_class_2',\n",
       "       'race_class_3', 'race_class_4', 'race_class_5', 'race_class_6',\n",
       "       'race_class_7', 'race_class_normalised_Claiming',\n",
       "       'race_class_normalised_Conditions', 'race_class_normalised_Grade 1',\n",
       "       'race_class_normalised_Grade 2', 'race_class_normalised_Group 1',\n",
       "       'race_class_normalised_Group 2', 'race_class_normalised_Group 3',\n",
       "       'race_class_normalised_Handicap', 'race_class_normalised_Listed',\n",
       "       'race_class_normalised_Maiden', 'race_class_normalised_NHF',\n",
       "       'race_class_normalised_Novice', 'race_class_normalised_Selling',\n",
       "       'race_class_normalised_nan', 'life_days', 'current_age'],\n",
       "      dtype='object')"
      ]
     },
     "execution_count": 31,
     "metadata": {},
     "output_type": "execute_result"
    }
   ],
   "source": [
    "df.columns"
   ]
  },
  {
   "cell_type": "code",
   "execution_count": null,
   "id": "ca701fd1",
   "metadata": {},
   "outputs": [],
   "source": [
    "df = df.drop(['finish_position', 'Unnamed: 0', 'failed_to_finish_reason'], axis =1)"
   ]
  },
  {
   "cell_type": "code",
   "execution_count": null,
   "id": "0fba2673",
   "metadata": {},
   "outputs": [
    {
     "data": {
      "text/plain": [
       "Index(['meeting_id', 'event_number', 'distance', 'distance_raw_furlongs',\n",
       "       'total_prize_money', 'track_type', 'barrier', 'number', 'win_or_lose',\n",
       "       'margin', 'gear', 'jockey_allowance', 'handicap_weight', 'jockey_id',\n",
       "       'tainer_id', 'dslr', 'horse_id', 'age', 'official rating', 'wfa',\n",
       "       'weight_adjustment', 'betfair_starting_price',\n",
       "       'pre_race_master_rating_int', 'starting_price', 'track_condition_FAST',\n",
       "       'track_condition_FIRM', 'track_condition_GOOD',\n",
       "       'track_condition_GOOD TO FIRM', 'track_condition_GOOD TO SOFT',\n",
       "       'track_condition_GOOD TO YIELDING', 'track_condition_HEAVY',\n",
       "       'track_condition_SLOW', 'track_condition_SOFT',\n",
       "       'track_condition_STANDARD', 'track_condition_STANDARD TO FAST',\n",
       "       'track_condition_STANDARD TO SLOW', 'race_type_FLAT',\n",
       "       'race_type_NATIONAL_HUNT_FLAT', 'race_class_1', 'race_class_2',\n",
       "       'race_class_3', 'race_class_4', 'race_class_5', 'race_class_6',\n",
       "       'race_class_7', 'race_class_normalised_Claiming',\n",
       "       'race_class_normalised_Conditions', 'race_class_normalised_Grade 1',\n",
       "       'race_class_normalised_Grade 2', 'race_class_normalised_Group 1',\n",
       "       'race_class_normalised_Group 2', 'race_class_normalised_Group 3',\n",
       "       'race_class_normalised_Handicap', 'race_class_normalised_Listed',\n",
       "       'race_class_normalised_Maiden', 'race_class_normalised_NHF',\n",
       "       'race_class_normalised_Novice', 'race_class_normalised_Selling',\n",
       "       'race_class_normalised_nan', 'life_days', 'current_age'],\n",
       "      dtype='object')"
      ]
     },
     "execution_count": 38,
     "metadata": {},
     "output_type": "execute_result"
    }
   ],
   "source": [
    "df.columns"
   ]
  },
  {
   "cell_type": "code",
   "execution_count": null,
   "id": "8156753a",
   "metadata": {},
   "outputs": [],
   "source": [
    "y = df.copy()[['win_or_lose']]"
   ]
  },
  {
   "cell_type": "code",
   "execution_count": null,
   "id": "efe8a9be",
   "metadata": {},
   "outputs": [],
   "source": [
    "X = df.copy().drop(columns='win_or_lose')"
   ]
  },
  {
   "cell_type": "code",
   "execution_count": null,
   "id": "d9fcc5cf",
   "metadata": {},
   "outputs": [],
   "source": [
    "# X = X.drop(['date', 'birth_date','sire','dam'], axis = 1)"
   ]
  },
  {
   "cell_type": "code",
   "execution_count": null,
   "id": "ea728a5c",
   "metadata": {},
   "outputs": [
    {
     "data": {
      "text/plain": [
       "Index(['meeting_id', 'event_number', 'distance', 'distance_raw_furlongs',\n",
       "       'total_prize_money', 'track_type', 'barrier', 'number', 'margin',\n",
       "       'gear', 'jockey_allowance', 'handicap_weight', 'jockey_id', 'tainer_id',\n",
       "       'dslr', 'horse_id', 'age', 'official rating', 'wfa',\n",
       "       'weight_adjustment', 'betfair_starting_price',\n",
       "       'pre_race_master_rating_int', 'starting_price', 'track_condition_FAST',\n",
       "       'track_condition_FIRM', 'track_condition_GOOD',\n",
       "       'track_condition_GOOD TO FIRM', 'track_condition_GOOD TO SOFT',\n",
       "       'track_condition_GOOD TO YIELDING', 'track_condition_HEAVY',\n",
       "       'track_condition_SLOW', 'track_condition_SOFT',\n",
       "       'track_condition_STANDARD', 'track_condition_STANDARD TO FAST',\n",
       "       'track_condition_STANDARD TO SLOW', 'race_type_FLAT',\n",
       "       'race_type_NATIONAL_HUNT_FLAT', 'race_class_1', 'race_class_2',\n",
       "       'race_class_3', 'race_class_4', 'race_class_5', 'race_class_6',\n",
       "       'race_class_7', 'race_class_normalised_Claiming',\n",
       "       'race_class_normalised_Conditions', 'race_class_normalised_Grade 1',\n",
       "       'race_class_normalised_Grade 2', 'race_class_normalised_Group 1',\n",
       "       'race_class_normalised_Group 2', 'race_class_normalised_Group 3',\n",
       "       'race_class_normalised_Handicap', 'race_class_normalised_Listed',\n",
       "       'race_class_normalised_Maiden', 'race_class_normalised_NHF',\n",
       "       'race_class_normalised_Novice', 'race_class_normalised_Selling',\n",
       "       'race_class_normalised_nan', 'life_days', 'current_age'],\n",
       "      dtype='object')"
      ]
     },
     "execution_count": 43,
     "metadata": {},
     "output_type": "execute_result"
    }
   ],
   "source": [
    "X.columns"
   ]
  },
  {
   "cell_type": "code",
   "execution_count": null,
   "id": "7e0c7a0b",
   "metadata": {},
   "outputs": [],
   "source": [
    "# X = X.drop(['Unnamed: 0'], axis = 1, inplace= True)"
   ]
  },
  {
   "cell_type": "code",
   "execution_count": null,
   "id": "87620f2f",
   "metadata": {},
   "outputs": [],
   "source": [
    "# X"
   ]
  },
  {
   "cell_type": "code",
   "execution_count": null,
   "id": "eadcc7a5",
   "metadata": {},
   "outputs": [
    {
     "data": {
      "text/plain": [
       "array([dtype('int64'), dtype('float64')], dtype=object)"
      ]
     },
     "execution_count": 47,
     "metadata": {},
     "output_type": "execute_result"
    }
   ],
   "source": [
    "# X.dtypes.unique()"
   ]
  },
  {
   "cell_type": "code",
   "execution_count": null,
   "id": "d8bf9e9a",
   "metadata": {},
   "outputs": [],
   "source": [
    "# X_test = X.loc[(df['date'] > '2023-01-01')]"
   ]
  },
  {
   "cell_type": "code",
   "execution_count": null,
   "id": "1abee036",
   "metadata": {},
   "outputs": [],
   "source": [
    "# X_train = X.loc[(df['date'] < '2023-01-01')]"
   ]
  },
  {
   "cell_type": "code",
   "execution_count": null,
   "id": "13be21b0",
   "metadata": {},
   "outputs": [],
   "source": [
    "# y_test = y.loc[(df['date'] > '2023-01-01')]"
   ]
  },
  {
   "cell_type": "code",
   "execution_count": null,
   "id": "c610853f",
   "metadata": {},
   "outputs": [],
   "source": [
    "# y_train = y.loc[(df['date'] > '2023-01-01')]"
   ]
  },
  {
   "cell_type": "code",
   "execution_count": null,
   "id": "0840be31",
   "metadata": {},
   "outputs": [],
   "source": [
    "# y_train.shape"
   ]
  },
  {
   "cell_type": "code",
   "execution_count": null,
   "id": "821ca4ac",
   "metadata": {},
   "outputs": [],
   "source": [
    "# X.columns"
   ]
  },
  {
   "cell_type": "code",
   "execution_count": null,
   "id": "eda797f3",
   "metadata": {
    "collapsed": true
   },
   "outputs": [],
   "source": [
    "# pd.DataFrame(X).describe()"
   ]
  },
  {
   "cell_type": "code",
   "execution_count": null,
   "id": "355bc61b",
   "metadata": {},
   "outputs": [],
   "source": [
    "# #remove novice races - remove horse races look at where race class normalized is handicapped\n",
    "# X = X.drop(['date', 'birth_date', 'Unnamed: 0'], axis = 1)"
   ]
  },
  {
   "cell_type": "code",
   "execution_count": null,
   "id": "750f5145",
   "metadata": {},
   "outputs": [],
   "source": [
    "# X.drop(['dam', 'sire'], axis = 1)"
   ]
  },
  {
   "cell_type": "code",
   "execution_count": null,
   "id": "d2cfb2b3",
   "metadata": {},
   "outputs": [],
   "source": [
    "# X_train.select_dtypes(include='object')"
   ]
  },
  {
   "cell_type": "code",
   "execution_count": null,
   "id": "84a8d494",
   "metadata": {},
   "outputs": [
    {
     "data": {
      "text/plain": [
       "((145049, 60), (62165, 60), (145049, 1), (62165, 1))"
      ]
     },
     "execution_count": 50,
     "metadata": {},
     "output_type": "execute_result"
    }
   ],
   "source": [
    "X_train, X_val, y_train, y_val = train_test_split(X, y, test_size = 0.3)\n",
    "X_train.shape, X_val.shape, y_train.shape, y_val.shape"
   ]
  },
  {
   "cell_type": "code",
   "execution_count": null,
   "id": "2b06f526",
   "metadata": {},
   "outputs": [
    {
     "name": "stdout",
     "output_type": "stream",
     "text": [
      "X_train.shape = (145049, 60)\n",
      "y_train.shape = (145049, 1)\n",
      "X_val.shape = (62165, 60)\n",
      "y_val.shape = (62165, 1)\n",
      "X_test.shape = (62165, 60)\n",
      "y_test.shape = (62165, 1)\n"
     ]
    }
   ],
   "source": [
    "print(f\"X_train.shape = {X_train.shape}\")\n",
    "print(f\"y_train.shape = {y_train.shape}\")\n",
    "print(f\"X_val.shape = {X_val.shape}\")\n",
    "print(f\"y_val.shape = {y_val.shape}\")\n",
    "print(f\"X_test.shape = {X_test.shape}\")\n",
    "print(f\"y_test.shape = {y_test.shape}\")"
   ]
  },
  {
   "cell_type": "code",
   "execution_count": null,
   "id": "a8985984",
   "metadata": {
    "scrolled": true
   },
   "outputs": [],
   "source": [
    "metrics = [\n",
    "    keras.metrics.Recall(name='recall'),\n",
    "    keras.metrics.Precision(name='precision'),\n",
    "    keras.metrics.AUC(name='prc', curve='PR')\n",
    "    # keras.metrics.\n",
    "    # keras.metrics.F1 ,  # precision-recall curve add precsion, F1, accuracy\n",
    "]"
   ]
  },
  {
   "cell_type": "code",
   "execution_count": null,
   "id": "780b9745",
   "metadata": {},
   "outputs": [],
   "source": [
    "es = EarlyStopping(patience=4),"
   ]
  },
  {
   "cell_type": "code",
   "execution_count": null,
   "id": "e42c837e",
   "metadata": {},
   "outputs": [],
   "source": [
    "#build model\n",
    "def inititialize_model(X):\n",
    "   \n",
    "    #architecture\n",
    "#     normaliser = Normalization() commented as already have normalizing method applied as part of pipeline\n",
    "    model = models.Sequential()\n",
    "    model.add(layers.Dense(1000, activation = 'relu', input_dim=X_train.shape[-1]))\n",
    "    # model.add(layers.Dropout(rate=0.2))\n",
    "    # model.add(layers.Dense(500, activation = 'relu'))\n",
    "    # model.add(layers.Dropout(rate=0.2))\n",
    "    # model.add(layers.Dense(100, activation = 'relu'))\n",
    "    model.add(layers.Dropout(rate=0.2))\n",
    "    model.add(layers.Dense(1, activation = 'softmax'))\n",
    "    \n",
    "    # classification comilation\n",
    "    optimizer = Adam(learning_rate=0.0001)\n",
    "    model.compile(loss='categorical_crossentropy',\n",
    "              optimizer=optimizer, \n",
    "              metrics=metrics)\n",
    "    return model"
   ]
  },
  {
   "cell_type": "code",
   "execution_count": null,
   "id": "acf166a1",
   "metadata": {},
   "outputs": [
    {
     "ename": "NameError",
     "evalue": "name 'X_train' is not defined",
     "output_type": "error",
     "traceback": [
      "\u001b[0;31m---------------------------------------------------------------------------\u001b[0m",
      "\u001b[0;31mNameError\u001b[0m                                 Traceback (most recent call last)",
      "Cell \u001b[0;32mIn[3], line 2\u001b[0m\n\u001b[1;32m      1\u001b[0m \u001b[38;5;66;03m#initialize model\u001b[39;00m\n\u001b[0;32m----> 2\u001b[0m model \u001b[38;5;241m=\u001b[39m inititialize_model(\u001b[43mX_train\u001b[49m)\n\u001b[1;32m      3\u001b[0m model\u001b[38;5;241m.\u001b[39msummary()\n",
      "\u001b[0;31mNameError\u001b[0m: name 'X_train' is not defined"
     ]
    }
   ],
   "source": [
    "#initialize model\n",
    "model = inititialize_model(X_train)\n",
    "model.summary()"
   ]
  },
  {
   "cell_type": "code",
   "execution_count": null,
   "id": "9e7cda91",
   "metadata": {},
   "outputs": [
    {
     "name": "stdout",
     "output_type": "stream",
     "text": [
      "Epoch 1/10\n",
      "4533/4533 [==============================] - 35s 8ms/step - loss: 0.0000e+00 - recall: 6.1778e-05 - precision: 0.0833 - prc: 0.1115 - val_loss: 0.0000e+00 - val_recall: 0.0000e+00 - val_precision: 0.0000e+00 - val_prc: 0.1128\n",
      "Epoch 2/10\n",
      "4533/4533 [==============================] - 31s 7ms/step - loss: 0.0000e+00 - recall: 0.0000e+00 - precision: 0.0000e+00 - prc: 0.1116 - val_loss: 0.0000e+00 - val_recall: 0.0000e+00 - val_precision: 0.0000e+00 - val_prc: 0.1128\n",
      "Epoch 3/10\n",
      "4533/4533 [==============================] - 30s 7ms/step - loss: 0.0000e+00 - recall: 0.0000e+00 - precision: 0.0000e+00 - prc: 0.1116 - val_loss: 0.0000e+00 - val_recall: 0.0000e+00 - val_precision: 0.0000e+00 - val_prc: 0.1128\n",
      "Epoch 4/10\n",
      "4533/4533 [==============================] - 30s 7ms/step - loss: 0.0000e+00 - recall: 0.0000e+00 - precision: 0.0000e+00 - prc: 0.1116 - val_loss: 0.0000e+00 - val_recall: 0.0000e+00 - val_precision: 0.0000e+00 - val_prc: 0.1128\n",
      "Epoch 5/10\n",
      "4533/4533 [==============================] - 30s 7ms/step - loss: 0.0000e+00 - recall: 0.0000e+00 - precision: 0.0000e+00 - prc: 0.1116 - val_loss: 0.0000e+00 - val_recall: 0.0000e+00 - val_precision: 0.0000e+00 - val_prc: 0.1128\n"
     ]
    }
   ],
   "source": [
    "# Train the model\n",
    "history = model.fit(X_train, y_train,\n",
    "                    validation_data = (X_val, y_val),\n",
    "                    epochs=10,\n",
    "                    batch_size=32, # Large enough?/\n",
    "                    callbacks=[es])"
   ]
  },
  {
   "cell_type": "code",
   "execution_count": null,
   "id": "09c2d776",
   "metadata": {},
   "outputs": [],
   "source": []
  },
  {
   "cell_type": "code",
   "execution_count": null,
   "id": "961b984e",
   "metadata": {},
   "outputs": [],
   "source": [
    "# history = model.fit(X_train, y_train,\n",
    "#                     validation_data = (X_val, y_val),\n",
    "#                     epochs=100,\n",
    "#                     batch_size=64, # Large enough to get a decent chance of containing fraudulent transactions \n",
    "#                     callbacks=[es], shuffle=True)"
   ]
  },
  {
   "cell_type": "code",
   "execution_count": null,
   "id": "428d1755",
   "metadata": {},
   "outputs": [],
   "source": []
  },
  {
   "cell_type": "code",
   "execution_count": null,
   "id": "c31bb1c0",
   "metadata": {},
   "outputs": [],
   "source": [
    "    \n",
    "    # #fit model\n",
    "    # model.fit(X_train, y_train, batch_size=32, epochs=100)"
   ]
  }
 ],
 "metadata": {
  "kernelspec": {
   "display_name": "Python 3 (ipykernel)",
   "language": "python",
   "name": "python3"
  },
  "language_info": {
   "codemirror_mode": {
    "name": "ipython",
    "version": 3
   },
   "file_extension": ".py",
   "mimetype": "text/x-python",
   "name": "python",
   "nbconvert_exporter": "python",
   "pygments_lexer": "ipython3",
   "version": "3.10.6"
  },
  "toc": {
   "base_numbering": 1,
   "nav_menu": {},
   "number_sections": true,
   "sideBar": true,
   "skip_h1_title": false,
   "title_cell": "Table of Contents",
   "title_sidebar": "Contents",
   "toc_cell": false,
   "toc_position": {},
   "toc_section_display": true,
   "toc_window_display": false
  }
 },
 "nbformat": 4,
 "nbformat_minor": 5
}
