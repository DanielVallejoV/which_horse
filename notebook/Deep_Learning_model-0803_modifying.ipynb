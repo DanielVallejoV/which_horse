{
 "cells": [
  {
   "cell_type": "code",
   "execution_count": 71,
   "id": "db675247",
   "metadata": {},
   "outputs": [
    {
     "name": "stdout",
     "output_type": "stream",
     "text": [
      "/home/tomi/code/Harlequinht/which_horse/notebook\n",
      "The autoreload extension is already loaded. To reload it, use:\n",
      "  %reload_ext autoreload\n"
     ]
    }
   ],
   "source": [
    "!pwd\n",
    "import warnings\n",
    "warnings.filterwarnings('ignore')\n",
    "%load_ext autoreload\n",
    "%autoreload 2"
   ]
  },
  {
   "cell_type": "code",
   "execution_count": 72,
   "id": "4e6eae6b",
   "metadata": {
    "collapsed": true
   },
   "outputs": [
    {
     "name": "stdout",
     "output_type": "stream",
     "text": [
      "'Concat Data.ipynb'\n",
      " custom_loss.py\n",
      " Deep_Learning_model-0803.ipynb\n",
      " Deep_Learning_model-0803_modifying.ipynb\n",
      " Deep_Learning_model-0803_modifying.ipynb:Zone.Identifier\n",
      " Deep_Learning_model.ipynb\n",
      " Feature_Engineering_Clean.ipynb\n",
      " HorseAgeAtRace.ipynb\n",
      " loss_function.py\n",
      " ML_flat.py\n",
      " Modelling_testing.ipynb\n",
      " pipeline_cleaning.py\n",
      " pipeline_test.ipynb\n",
      " __pycache__\n",
      " WeatherAPI.ipynb\n",
      " which_horse_flat.ipynb\n",
      " which_horse_flat_modeling.ipynb\n",
      " which_horse.ipynb\n"
     ]
    }
   ],
   "source": [
    "!ls\n",
    "# !pip install tensorflow==2.10.0"
   ]
  },
  {
   "cell_type": "code",
   "execution_count": 73,
   "id": "c6f5bb73",
   "metadata": {},
   "outputs": [
    {
     "name": "stdout",
     "output_type": "stream",
     "text": [
      "tensorflow                   2.10.0\n",
      "tensorflow-estimator         2.10.0\n",
      "tensorflow-io-gcs-filesystem 0.36.0\n"
     ]
    }
   ],
   "source": [
    "!pip list | grep tensorflow"
   ]
  },
  {
   "cell_type": "code",
   "execution_count": 74,
   "id": "2613caa6",
   "metadata": {},
   "outputs": [],
   "source": [
    "# import pandas as pd\n",
    "# import seaborn as sns\n",
    "# import matplotlib.pyplot as plt\n",
    "# import numpy as np\n",
    "# from sklearn.model_selection import train_test_split\n",
    "# !pip install tensorflow --upgrade"
   ]
  },
  {
   "cell_type": "code",
   "execution_count": 75,
   "id": "c726f477",
   "metadata": {},
   "outputs": [],
   "source": [
    "import pandas as pd\n",
    "import numpy as np\n",
    "import sklearn.model_selection as model_selection\n",
    "import matplotlib.pyplot as plt\n",
    "import seaborn as sns\n",
    "from tensorflow.keras.optimizers import Adam\n",
    "import tensorflow as tf"
   ]
  },
  {
   "cell_type": "code",
   "execution_count": 76,
   "id": "82924c0c",
   "metadata": {},
   "outputs": [],
   "source": [
    "from tensorflow.keras import Sequential, layers\n",
    "from tensorflow.keras import metrics\n",
    "from tensorflow.keras.layers import Normalization \n",
    "from sklearn.pipeline import make_pipeline\n",
    "from sklearn.model_selection import train_test_split\n",
    "import datetime as dt\n",
    "from tensorflow.keras import models"
   ]
  },
  {
   "cell_type": "code",
   "execution_count": 77,
   "id": "83ed6c9b",
   "metadata": {},
   "outputs": [],
   "source": [
    "from tensorflow import keras\n",
    "from tensorflow.keras import Model, Sequential, layers, regularizers, optimizers\n",
    "from tensorflow.keras.callbacks import EarlyStopping"
   ]
  },
  {
   "cell_type": "code",
   "execution_count": 78,
   "id": "e0842898",
   "metadata": {},
   "outputs": [],
   "source": [
    "from tensorflow.keras.callbacks import EarlyStopping"
   ]
  },
  {
   "cell_type": "code",
   "execution_count": 79,
   "id": "1a691160",
   "metadata": {},
   "outputs": [
    {
     "name": "stdout",
     "output_type": "stream",
     "text": [
      "'Concat Data.ipynb'\n",
      " custom_loss.py\n",
      " Deep_Learning_model-0803.ipynb\n",
      " Deep_Learning_model-0803_modifying.ipynb\n",
      " Deep_Learning_model-0803_modifying.ipynb:Zone.Identifier\n",
      " Deep_Learning_model.ipynb\n",
      " Feature_Engineering_Clean.ipynb\n",
      " HorseAgeAtRace.ipynb\n",
      " loss_function.py\n",
      " ML_flat.py\n",
      " Modelling_testing.ipynb\n",
      " pipeline_cleaning.py\n",
      " pipeline_test.ipynb\n",
      " __pycache__\n",
      " WeatherAPI.ipynb\n",
      " which_horse_flat.ipynb\n",
      " which_horse_flat_modeling.ipynb\n",
      " which_horse.ipynb\n"
     ]
    }
   ],
   "source": [
    "!ls"
   ]
  },
  {
   "cell_type": "code",
   "execution_count": 80,
   "id": "1a729a72",
   "metadata": {},
   "outputs": [],
   "source": [
    "df = pd.read_csv('../raw_data/combined_flat2_csv.csv')\n",
    "df['randNumCol'] = np.random.choice([1, 9, 20], df.shape[0])\n"
   ]
  },
  {
   "cell_type": "code",
   "execution_count": 81,
   "id": "0311cfcb",
   "metadata": {
    "collapsed": true
   },
   "outputs": [],
   "source": [
    "#testing pipeline\n",
    "from pipeline_cleaning import clean_data\n",
    "from pipeline_cleaning import transforming_data"
   ]
  },
  {
   "cell_type": "code",
   "execution_count": 82,
   "id": "f5bec9f1",
   "metadata": {},
   "outputs": [],
   "source": [
    "df_clean= clean_data(df)"
   ]
  },
  {
   "cell_type": "code",
   "execution_count": 83,
   "id": "2ccec9c9",
   "metadata": {},
   "outputs": [],
   "source": [
    "df_transform = transforming_data(df_clean)"
   ]
  },
  {
   "cell_type": "code",
   "execution_count": 84,
   "id": "5ddc4c6e",
   "metadata": {},
   "outputs": [],
   "source": [
    "train = df_transform[0]\n",
    "val = df_transform[1]\n",
    "test = df_transform[2]"
   ]
  },
  {
   "cell_type": "code",
   "execution_count": 85,
   "id": "eb8f4813",
   "metadata": {},
   "outputs": [],
   "source": [
    "X_train = train.drop(columns = ['win_or_lose', 'randNumCol'], axis =1)\n",
    "X_val = val.drop(columns = ['win_or_lose', 'randNumCol'], axis =1)\n",
    "X_test = test.drop(columns = ['win_or_lose', 'randNumCol'], axis =1 )"
   ]
  },
  {
   "cell_type": "code",
   "execution_count": 86,
   "id": "817158a2",
   "metadata": {},
   "outputs": [],
   "source": [
    "y_train = train[['win_or_lose', 'randNumCol']]\n",
    "y_val = val[['win_or_lose', 'randNumCol']]\n",
    "y_test = test[['win_or_lose', 'randNumCol']]"
   ]
  },
  {
   "cell_type": "markdown",
   "id": "221d632b",
   "metadata": {},
   "source": [
    "# training data"
   ]
  },
  {
   "cell_type": "code",
   "execution_count": 87,
   "id": "f94285ef",
   "metadata": {},
   "outputs": [],
   "source": [
    "# X_train = df.loc[(df['date'] < '2023-01-01')]"
   ]
  },
  {
   "cell_type": "code",
   "execution_count": 88,
   "id": "03dc3f3f",
   "metadata": {},
   "outputs": [],
   "source": [
    "# X_train"
   ]
  },
  {
   "cell_type": "code",
   "execution_count": 89,
   "id": "8f10f11d",
   "metadata": {},
   "outputs": [],
   "source": [
    "# y_train_tmp = df.loc[(df['date'] < '2023-01-01')]"
   ]
  },
  {
   "cell_type": "code",
   "execution_count": 90,
   "id": "7b8593d9",
   "metadata": {},
   "outputs": [],
   "source": [
    "# y_train = y_train_tmp[['win_or_lose']]"
   ]
  },
  {
   "cell_type": "code",
   "execution_count": 91,
   "id": "551794a0",
   "metadata": {},
   "outputs": [],
   "source": [
    "# test = np.expand_dims(y_train,(2,0))"
   ]
  },
  {
   "cell_type": "code",
   "execution_count": 92,
   "id": "28ffbdd4",
   "metadata": {},
   "outputs": [],
   "source": [
    "# test.shape"
   ]
  },
  {
   "cell_type": "code",
   "execution_count": 93,
   "id": "1953168e",
   "metadata": {
    "collapsed": true
   },
   "outputs": [],
   "source": [
    "# X_train = X_train.drop(['Unnamed: 0','win_or_lose', 'date', 'birth_date'], axis = 1)"
   ]
  },
  {
   "cell_type": "code",
   "execution_count": 94,
   "id": "b09b0f56",
   "metadata": {
    "collapsed": true
   },
   "outputs": [],
   "source": [
    "# X_train.columns"
   ]
  },
  {
   "cell_type": "code",
   "execution_count": 95,
   "id": "a074eeb1",
   "metadata": {},
   "outputs": [],
   "source": [
    "# y_train"
   ]
  },
  {
   "cell_type": "markdown",
   "id": "b9ebd82f",
   "metadata": {},
   "source": [
    "# testing data"
   ]
  },
  {
   "cell_type": "code",
   "execution_count": 96,
   "id": "f5d271a4",
   "metadata": {},
   "outputs": [],
   "source": [
    "# X_test = df.loc[(df['date'] > '2023-01-01') < = (df['date'] > '2023-01-01')]"
   ]
  },
  {
   "cell_type": "code",
   "execution_count": 97,
   "id": "c59556af",
   "metadata": {},
   "outputs": [],
   "source": [
    "# X_test"
   ]
  },
  {
   "cell_type": "code",
   "execution_count": 98,
   "id": "d9f0bf70",
   "metadata": {},
   "outputs": [],
   "source": [
    "# y_test_tmp = df.loc[(df['date'] > '2023-01-01')]"
   ]
  },
  {
   "cell_type": "code",
   "execution_count": 99,
   "id": "78e72d62",
   "metadata": {},
   "outputs": [],
   "source": [
    "# y_test = y_test_tmp['win_or_lose']"
   ]
  },
  {
   "cell_type": "code",
   "execution_count": 100,
   "id": "42b4d5d7",
   "metadata": {},
   "outputs": [],
   "source": [
    "# X_test = X_test.drop(['win_or_lose', 'date', 'birth_date'], axis = 1)"
   ]
  },
  {
   "cell_type": "code",
   "execution_count": 101,
   "id": "7a388063",
   "metadata": {
    "collapsed": true
   },
   "outputs": [],
   "source": [
    "# filtered_df"
   ]
  },
  {
   "cell_type": "code",
   "execution_count": 102,
   "id": "96dcd775",
   "metadata": {},
   "outputs": [],
   "source": [
    "#X_train_split = len(X_train)*.2"
   ]
  },
  {
   "cell_type": "code",
   "execution_count": 103,
   "id": "5f155e3e",
   "metadata": {},
   "outputs": [],
   "source": [
    "# type(df['date'])"
   ]
  },
  {
   "cell_type": "code",
   "execution_count": 104,
   "id": "6994f88a",
   "metadata": {},
   "outputs": [],
   "source": [
    "# df_filtered = filtered_df.drop(columns='Unnamed: 0')"
   ]
  },
  {
   "cell_type": "code",
   "execution_count": 105,
   "id": "df51f56b",
   "metadata": {},
   "outputs": [],
   "source": [
    "# df_filtered.dtypes"
   ]
  },
  {
   "cell_type": "code",
   "execution_count": 106,
   "id": "97190734",
   "metadata": {
    "scrolled": false
   },
   "outputs": [],
   "source": [
    "# object_info = df.select_dtypes(include = 'object')"
   ]
  },
  {
   "cell_type": "code",
   "execution_count": 107,
   "id": "ad45ced7",
   "metadata": {},
   "outputs": [],
   "source": [
    "# object_info.head(5)"
   ]
  },
  {
   "cell_type": "code",
   "execution_count": 108,
   "id": "3c16d7b9",
   "metadata": {},
   "outputs": [],
   "source": [
    "# #drop unnamed column as it's a replica of the index \n",
    "# df = df.drop(['date', 'birth_date'], axis = 1)"
   ]
  },
  {
   "cell_type": "code",
   "execution_count": 109,
   "id": "ede7fd99",
   "metadata": {},
   "outputs": [],
   "source": [
    "# df.select_dtypes(exclude = 'O')"
   ]
  },
  {
   "cell_type": "code",
   "execution_count": 110,
   "id": "8c5fa92e",
   "metadata": {},
   "outputs": [],
   "source": [
    "# df = df.select_dtypes(exclude = ['object'])"
   ]
  },
  {
   "cell_type": "code",
   "execution_count": 111,
   "id": "c6833405",
   "metadata": {},
   "outputs": [],
   "source": [
    "# df.dtypes.unique()"
   ]
  },
  {
   "cell_type": "code",
   "execution_count": 112,
   "id": "fb180d63",
   "metadata": {},
   "outputs": [],
   "source": [
    "# df.failed_to_finish_reason.dtype"
   ]
  },
  {
   "cell_type": "code",
   "execution_count": 113,
   "id": "18962bf8",
   "metadata": {},
   "outputs": [],
   "source": [
    "# df.columns"
   ]
  },
  {
   "cell_type": "code",
   "execution_count": 114,
   "id": "ca701fd1",
   "metadata": {},
   "outputs": [],
   "source": [
    "# df = df.drop(['finish_position', 'Unnamed: 0', 'failed_to_finish_reason'], axis =1)"
   ]
  },
  {
   "cell_type": "code",
   "execution_count": 115,
   "id": "0fba2673",
   "metadata": {},
   "outputs": [],
   "source": [
    "# df.columns"
   ]
  },
  {
   "cell_type": "code",
   "execution_count": 116,
   "id": "efe8a9be",
   "metadata": {},
   "outputs": [],
   "source": [
    "# X = df.copy().drop(columns='win_or_lose')"
   ]
  },
  {
   "cell_type": "code",
   "execution_count": 117,
   "id": "d9fcc5cf",
   "metadata": {},
   "outputs": [],
   "source": [
    "# X = X.drop(['date', 'birth_date','sire','dam'], axis = 1)"
   ]
  },
  {
   "cell_type": "code",
   "execution_count": 118,
   "id": "ea728a5c",
   "metadata": {},
   "outputs": [],
   "source": [
    "# X.columns"
   ]
  },
  {
   "cell_type": "code",
   "execution_count": 119,
   "id": "7e0c7a0b",
   "metadata": {},
   "outputs": [],
   "source": [
    "# X = X.drop(['Unnamed: 0'], axis = 1, inplace= True)"
   ]
  },
  {
   "cell_type": "code",
   "execution_count": 120,
   "id": "87620f2f",
   "metadata": {},
   "outputs": [],
   "source": [
    "# X"
   ]
  },
  {
   "cell_type": "code",
   "execution_count": 121,
   "id": "eadcc7a5",
   "metadata": {},
   "outputs": [],
   "source": [
    "# X.dtypes.unique()"
   ]
  },
  {
   "cell_type": "code",
   "execution_count": 122,
   "id": "d8bf9e9a",
   "metadata": {},
   "outputs": [],
   "source": [
    "# X_test = X.loc[(df['date'] > '2023-01-01')]"
   ]
  },
  {
   "cell_type": "code",
   "execution_count": 123,
   "id": "1abee036",
   "metadata": {},
   "outputs": [],
   "source": [
    "# X_train = X.loc[(df['date'] < '2023-01-01')]"
   ]
  },
  {
   "cell_type": "code",
   "execution_count": 124,
   "id": "13be21b0",
   "metadata": {},
   "outputs": [],
   "source": [
    "# y_test = y.loc[(df['date'] > '2023-01-01')]"
   ]
  },
  {
   "cell_type": "code",
   "execution_count": 125,
   "id": "c610853f",
   "metadata": {},
   "outputs": [],
   "source": [
    "# y_train = y.loc[(df['date'] > '2023-01-01')]"
   ]
  },
  {
   "cell_type": "code",
   "execution_count": 126,
   "id": "0840be31",
   "metadata": {},
   "outputs": [],
   "source": [
    "# y_train.shape"
   ]
  },
  {
   "cell_type": "code",
   "execution_count": 127,
   "id": "821ca4ac",
   "metadata": {},
   "outputs": [],
   "source": [
    "# X.columns"
   ]
  },
  {
   "cell_type": "code",
   "execution_count": 128,
   "id": "eda797f3",
   "metadata": {
    "collapsed": true
   },
   "outputs": [],
   "source": [
    "# pd.DataFrame(X).describe()"
   ]
  },
  {
   "cell_type": "code",
   "execution_count": 129,
   "id": "355bc61b",
   "metadata": {},
   "outputs": [],
   "source": [
    "# #remove novice races - remove horse races look at where race class normalized is handicapped\n",
    "# X = X.drop(['date', 'birth_date', 'Unnamed: 0'], axis = 1)"
   ]
  },
  {
   "cell_type": "code",
   "execution_count": 130,
   "id": "750f5145",
   "metadata": {},
   "outputs": [],
   "source": [
    "# X.drop(['dam', 'sire'], axis = 1)"
   ]
  },
  {
   "cell_type": "code",
   "execution_count": 131,
   "id": "d2cfb2b3",
   "metadata": {},
   "outputs": [],
   "source": [
    "# X_train.select_dtypes(include='object')"
   ]
  },
  {
   "cell_type": "code",
   "execution_count": 132,
   "id": "84a8d494",
   "metadata": {},
   "outputs": [],
   "source": [
    "# X_train, X_val, y_train, y_val = train_test_split(X, y, test_size = 0.3)\n",
    "# X_train.shape, X_val.shape, y_train.shape, y_val.shape"
   ]
  },
  {
   "cell_type": "code",
   "execution_count": 133,
   "id": "2b06f526",
   "metadata": {},
   "outputs": [],
   "source": [
    "# print(f\"X_train.shape = {X_train.shape}\")\n",
    "# print(f\"y_train.shape = {y_train.shape}\")\n",
    "# print(f\"X_val.shape = {X_val.shape}\")\n",
    "# print(f\"y_val.shape = {y_val.shape}\")\n",
    "# print(f\"X_test.shape = {X_test.shape}\")\n",
    "# print(f\"y_test.shape = {y_test.shape}\")"
   ]
  },
  {
   "cell_type": "markdown",
   "id": "009a0489",
   "metadata": {},
   "source": [
    "# Model"
   ]
  },
  {
   "cell_type": "code",
   "execution_count": 134,
   "id": "a8985984",
   "metadata": {
    "scrolled": true
   },
   "outputs": [],
   "source": [
    "metrics = [\n",
    "    keras.metrics.Recall(name='recall'),\n",
    "    keras.metrics.Precision(name='precision'),\n",
    "    keras.metrics.AUC(name='prc', curve='PR')\n",
    "    # keras.metrics.\n",
    "    # keras.metrics.F1 ,  # precision-recall curve add precsion, F1, accuracy\n",
    "]"
   ]
  },
  {
   "cell_type": "code",
   "execution_count": 135,
   "id": "780b9745",
   "metadata": {},
   "outputs": [],
   "source": [
    "es = EarlyStopping(patience=4)"
   ]
  },
  {
   "cell_type": "code",
   "execution_count": 158,
   "id": "144bf013",
   "metadata": {},
   "outputs": [],
   "source": [
    "# from loss_function import custom_loss_function\n",
    "get_custom_objects().update({\"custom_loss_function\": custom_loss_function})"
   ]
  },
  {
   "cell_type": "code",
   "execution_count": 159,
   "id": "e42c837e",
   "metadata": {},
   "outputs": [],
   "source": [
    "#build model\n",
    "def inititialize_model(X_train):\n",
    "   \n",
    "    #architecture\n",
    "#     normaliser = Normalization() commented as already have normalizing method applied as part of pipeline\n",
    "    model = models.Sequential()\n",
    "    model.add(layers.Dense(1000, activation = 'relu', input_dim=X_train.shape[-1]))\n",
    "    # model.add(layers.Dropout(rate=0.2))\n",
    "    # model.add(layers.Dense(500, activation = 'relu'))\n",
    "    # model.add(layers.Dropout(rate=0.2))\n",
    "    # model.add(layers.Dense(100, activation = 'relu'))\n",
    "    model.add(layers.Dropout(rate=0.2))\n",
    "    model.add(layers.Dense(2, activation = 'softmax'))\n",
    "    \n",
    "    # classification comilation\n",
    "    optimizer = Adam(learning_rate=0.0001)\n",
    "    model.compile(loss=\"custom_loss_function\",\n",
    "              optimizer=optimizer, \n",
    "              metrics=metrics)\n",
    "    return model"
   ]
  },
  {
   "cell_type": "code",
   "execution_count": 147,
   "id": "4eb6b778",
   "metadata": {},
   "outputs": [],
   "source": [
    "# def get_model(input_dim):\n",
    "\n",
    "#     input_layer = keras.Input(shape=(input_dim,), name=\"input_layer\")\n",
    "\n",
    "#     dense_1 = keras.layers.Dense(input_dim, name = 'dense_1')(input_layer)\n",
    "#     dense_2 = keras.layers.Dense(input_dim, name = 'dense_2')(dense_1)\n",
    "\n",
    "#     regression_output = keras.layers.Dense(1, activation = 'linear', name = 'regression_output')(dense_2)\n",
    "#     classification_output = keras.layers.Dense(1, activation = 'sigmoid', name = 'classification_output')(dense_2)\n",
    "#     model = keras.Model(inputs=input_layer,outputs=[regression_output, classification_output])\n",
    "    \n",
    "#     return(model)"
   ]
  },
  {
   "cell_type": "code",
   "execution_count": 160,
   "id": "acf166a1",
   "metadata": {},
   "outputs": [
    {
     "name": "stdout",
     "output_type": "stream",
     "text": [
      "Model: \"sequential_5\"\n",
      "_________________________________________________________________\n",
      " Layer (type)                Output Shape              Param #   \n",
      "=================================================================\n",
      " dense_10 (Dense)            (None, 1000)              65000     \n",
      "                                                                 \n",
      " dropout_5 (Dropout)         (None, 1000)              0         \n",
      "                                                                 \n",
      " dense_11 (Dense)            (None, 2)                 2002      \n",
      "                                                                 \n",
      "=================================================================\n",
      "Total params: 67,002\n",
      "Trainable params: 67,002\n",
      "Non-trainable params: 0\n",
      "_________________________________________________________________\n"
     ]
    }
   ],
   "source": [
    "#initialize model\n",
    "model = inititialize_model(X_train)\n",
    "model.summary()"
   ]
  },
  {
   "cell_type": "code",
   "execution_count": 161,
   "id": "9e7cda91",
   "metadata": {},
   "outputs": [
    {
     "name": "stdout",
     "output_type": "stream",
     "text": [
      "Epoch 1/10\n",
      "4052/4052 [==============================] - 12s 3ms/step - loss: -0.0303 - recall: 0.4756 - precision: 0.5289 - prc: 0.6497 - val_loss: -0.0403 - val_recall: 0.5448 - val_precision: 0.6078 - val_prc: 0.7350\n",
      "Epoch 2/10\n",
      "4052/4052 [==============================] - 11s 3ms/step - loss: -0.0388 - recall: 0.5303 - precision: 0.5890 - prc: 0.6963 - val_loss: -0.0431 - val_recall: 0.5455 - val_precision: 0.6086 - val_prc: 0.7023\n",
      "Epoch 3/10\n",
      "4052/4052 [==============================] - 9s 2ms/step - loss: -0.0402 - recall: 0.5537 - precision: 0.6150 - prc: 0.6971 - val_loss: -0.0436 - val_recall: 0.5731 - val_precision: 0.6394 - val_prc: 0.7172\n",
      "Epoch 4/10\n",
      "4052/4052 [==============================] - 10s 2ms/step - loss: -0.0409 - recall: 0.5677 - precision: 0.6306 - prc: 0.6926 - val_loss: -0.0440 - val_recall: 0.5711 - val_precision: 0.6372 - val_prc: 0.6871\n",
      "Epoch 5/10\n",
      "4052/4052 [==============================] - 10s 3ms/step - loss: -0.0413 - recall: 0.5762 - precision: 0.6399 - prc: 0.6896 - val_loss: -0.0443 - val_recall: 0.5787 - val_precision: 0.6456 - val_prc: 0.6892\n",
      "Epoch 6/10\n",
      "4052/4052 [==============================] - 9s 2ms/step - loss: -0.0417 - recall: 0.5855 - precision: 0.6503 - prc: 0.6937 - val_loss: -0.0445 - val_recall: 0.5607 - val_precision: 0.6256 - val_prc: 0.6545\n",
      "Epoch 7/10\n",
      "4052/4052 [==============================] - 10s 2ms/step - loss: -0.0420 - recall: 0.5883 - precision: 0.6535 - prc: 0.6889 - val_loss: -0.0445 - val_recall: 0.5634 - val_precision: 0.6285 - val_prc: 0.6528\n",
      "Epoch 8/10\n",
      "4052/4052 [==============================] - 10s 2ms/step - loss: -0.0420 - recall: 0.5873 - precision: 0.6523 - prc: 0.6847 - val_loss: -0.0446 - val_recall: 0.5905 - val_precision: 0.6588 - val_prc: 0.6844\n",
      "Epoch 9/10\n",
      "4052/4052 [==============================] - 10s 3ms/step - loss: -0.0423 - recall: 0.5873 - precision: 0.6523 - prc: 0.6776 - val_loss: -0.0445 - val_recall: 0.5968 - val_precision: 0.6658 - val_prc: 0.6902\n",
      "Epoch 10/10\n",
      "4052/4052 [==============================] - 10s 3ms/step - loss: -0.0425 - recall: 0.5922 - precision: 0.6578 - prc: 0.6805 - val_loss: -0.0444 - val_recall: 0.5853 - val_precision: 0.6529 - val_prc: 0.6716\n"
     ]
    }
   ],
   "source": [
    "# Train the model\n",
    "history = model.fit(X_train, y_train,\n",
    "                    validation_data = (X_val, y_val),\n",
    "                    epochs=10,\n",
    "                    batch_size=32, # Large enough?/\n",
    "                    callbacks=[es])"
   ]
  },
  {
   "cell_type": "code",
   "execution_count": 153,
   "id": "20bdb5e0",
   "metadata": {},
   "outputs": [
    {
     "data": {
      "text/html": [
       "<div>\n",
       "<style scoped>\n",
       "    .dataframe tbody tr th:only-of-type {\n",
       "        vertical-align: middle;\n",
       "    }\n",
       "\n",
       "    .dataframe tbody tr th {\n",
       "        vertical-align: top;\n",
       "    }\n",
       "\n",
       "    .dataframe thead th {\n",
       "        text-align: right;\n",
       "    }\n",
       "</style>\n",
       "<table border=\"1\" class=\"dataframe\">\n",
       "  <thead>\n",
       "    <tr style=\"text-align: right;\">\n",
       "      <th></th>\n",
       "      <th>win_or_lose</th>\n",
       "      <th>randNumCol</th>\n",
       "    </tr>\n",
       "  </thead>\n",
       "  <tbody>\n",
       "    <tr>\n",
       "      <th>0</th>\n",
       "      <td>0.0</td>\n",
       "      <td>9.0</td>\n",
       "    </tr>\n",
       "    <tr>\n",
       "      <th>1</th>\n",
       "      <td>0.0</td>\n",
       "      <td>9.0</td>\n",
       "    </tr>\n",
       "    <tr>\n",
       "      <th>2</th>\n",
       "      <td>0.0</td>\n",
       "      <td>9.0</td>\n",
       "    </tr>\n",
       "    <tr>\n",
       "      <th>3</th>\n",
       "      <td>1.0</td>\n",
       "      <td>20.0</td>\n",
       "    </tr>\n",
       "    <tr>\n",
       "      <th>4</th>\n",
       "      <td>0.0</td>\n",
       "      <td>9.0</td>\n",
       "    </tr>\n",
       "    <tr>\n",
       "      <th>...</th>\n",
       "      <td>...</td>\n",
       "      <td>...</td>\n",
       "    </tr>\n",
       "    <tr>\n",
       "      <th>129639</th>\n",
       "      <td>0.0</td>\n",
       "      <td>1.0</td>\n",
       "    </tr>\n",
       "    <tr>\n",
       "      <th>129640</th>\n",
       "      <td>0.0</td>\n",
       "      <td>20.0</td>\n",
       "    </tr>\n",
       "    <tr>\n",
       "      <th>129641</th>\n",
       "      <td>0.0</td>\n",
       "      <td>1.0</td>\n",
       "    </tr>\n",
       "    <tr>\n",
       "      <th>129642</th>\n",
       "      <td>0.0</td>\n",
       "      <td>9.0</td>\n",
       "    </tr>\n",
       "    <tr>\n",
       "      <th>129643</th>\n",
       "      <td>0.0</td>\n",
       "      <td>9.0</td>\n",
       "    </tr>\n",
       "  </tbody>\n",
       "</table>\n",
       "<p>129644 rows × 2 columns</p>\n",
       "</div>"
      ],
      "text/plain": [
       "        win_or_lose  randNumCol\n",
       "0               0.0         9.0\n",
       "1               0.0         9.0\n",
       "2               0.0         9.0\n",
       "3               1.0        20.0\n",
       "4               0.0         9.0\n",
       "...             ...         ...\n",
       "129639          0.0         1.0\n",
       "129640          0.0        20.0\n",
       "129641          0.0         1.0\n",
       "129642          0.0         9.0\n",
       "129643          0.0         9.0\n",
       "\n",
       "[129644 rows x 2 columns]"
      ]
     },
     "execution_count": 153,
     "metadata": {},
     "output_type": "execute_result"
    }
   ],
   "source": [
    "y_train"
   ]
  },
  {
   "cell_type": "code",
   "execution_count": null,
   "id": "09c2d776",
   "metadata": {},
   "outputs": [],
   "source": []
  },
  {
   "cell_type": "code",
   "execution_count": null,
   "id": "961b984e",
   "metadata": {},
   "outputs": [],
   "source": [
    "# history = model.fit(X_train, y_train,\n",
    "#                     validation_data = (X_val, y_val),\n",
    "#                     epochs=100,\n",
    "#                     batch_size=64, # Large enough to get a decent chance of containing fraudulent transactions \n",
    "#                     callbacks=[es], shuffle=True)"
   ]
  },
  {
   "cell_type": "code",
   "execution_count": null,
   "id": "428d1755",
   "metadata": {},
   "outputs": [],
   "source": []
  },
  {
   "cell_type": "code",
   "execution_count": null,
   "id": "c31bb1c0",
   "metadata": {},
   "outputs": [],
   "source": [
    "    \n",
    "    # #fit model\n",
    "    # model.fit(X_train, y_train, batch_size=32, epochs=100)"
   ]
  }
 ],
 "metadata": {
  "kernelspec": {
   "display_name": "Python 3 (ipykernel)",
   "language": "python",
   "name": "python3"
  },
  "language_info": {
   "codemirror_mode": {
    "name": "ipython",
    "version": 3
   },
   "file_extension": ".py",
   "mimetype": "text/x-python",
   "name": "python",
   "nbconvert_exporter": "python",
   "pygments_lexer": "ipython3",
   "version": "3.10.6"
  },
  "toc": {
   "base_numbering": 1,
   "nav_menu": {},
   "number_sections": true,
   "sideBar": true,
   "skip_h1_title": false,
   "title_cell": "Table of Contents",
   "title_sidebar": "Contents",
   "toc_cell": false,
   "toc_position": {},
   "toc_section_display": true,
   "toc_window_display": false
  }
 },
 "nbformat": 4,
 "nbformat_minor": 5
}
