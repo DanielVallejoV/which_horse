{
 "cells": [
  {
   "cell_type": "code",
   "execution_count": 2,
   "id": "ee6b2e96-5a18-44f3-8cd2-e670a63c20ee",
   "metadata": {},
   "outputs": [],
   "source": [
    "import pandas as pd"
   ]
  },
  {
   "cell_type": "code",
   "execution_count": 4,
   "id": "59e7f7be-9178-4f44-a739-2737ade118b1",
   "metadata": {},
   "outputs": [],
   "source": [
    "file_csv = '~/code/harlqeuinht/which_horse/raw_data/combined_flat2_csv.csv'"
   ]
  },
  {
   "cell_type": "code",
   "execution_count": 26,
   "id": "c64d40c7-77a4-45c2-bcd0-15fe92aacc8c",
   "metadata": {},
   "outputs": [
    {
     "name": "stderr",
     "output_type": "stream",
     "text": [
      "/tmp/ipykernel_288178/2212549057.py:1: DtypeWarning: Columns (22,53,62,71,80,89,98,107,116) have mixed types. Specify dtype option on import or set low_memory=False.\n",
      "  raw_df = pd.read_csv(file_csv)\n"
     ]
    }
   ],
   "source": [
    "raw_df = pd.read_csv(file_csv)"
   ]
  },
  {
   "cell_type": "markdown",
   "id": "7f78afc9-a4d7-4b81-b788-d810875f7e27",
   "metadata": {},
   "source": [
    "Drop all columns containing 6, 7 or 8 -> referring to races 6, 7 and 8"
   ]
  },
  {
   "cell_type": "code",
   "execution_count": 27,
   "id": "a6c17b8d-71aa-4775-bc06-aab46abb120d",
   "metadata": {},
   "outputs": [],
   "source": [
    "columns_to_drop = raw_df.filter(regex='[678]').columns"
   ]
  },
  {
   "cell_type": "markdown",
   "id": "29a08f09-eeae-47c3-b22e-816ed361b1a0",
   "metadata": {},
   "source": [
    "Retain the column 'bet365_odds' as this does not refer to the races we want to drop"
   ]
  },
  {
   "cell_type": "code",
   "execution_count": 28,
   "id": "4e4cd47a-4403-4672-89b5-c291735b243e",
   "metadata": {},
   "outputs": [],
   "source": [
    "columns_to_drop = columns_to_drop.drop('bet365_odds')"
   ]
  },
  {
   "cell_type": "code",
   "execution_count": 31,
   "id": "36eab50c-5d29-4035-897b-2c5c2751956a",
   "metadata": {},
   "outputs": [],
   "source": [
    "df = raw_df.drop(columns=(columns_to_drop))"
   ]
  },
  {
   "cell_type": "markdown",
   "id": "ca8c978f-5069-410b-ba9b-e409254a93a3",
   "metadata": {},
   "source": [
    "Check columns have been dropped correctly"
   ]
  },
  {
   "cell_type": "code",
   "execution_count": 33,
   "id": "6c0568fc-13b1-4f6a-863d-742cf48c6825",
   "metadata": {},
   "outputs": [
    {
     "name": "stdout",
     "output_type": "stream",
     "text": [
      "raw_df columns = 121\n",
      "df columns = 94\n"
     ]
    }
   ],
   "source": [
    "print('raw_df columns = ' + str(len(raw_df.columns)))\n",
    "print('df columns = ' + str(len(df.columns)))"
   ]
  },
  {
   "cell_type": "code",
   "execution_count": 37,
   "id": "00cbc45a-57fc-42cd-964b-84f6a99a689f",
   "metadata": {
    "scrolled": true
   },
   "outputs": [
    {
     "data": {
      "text/plain": [
       "Index(['meeting_id', 'meeting_name', 'date', 'country_code', 'event_number',\n",
       "       'distance', 'distance_unit', 'distance_furlongs',\n",
       "       'distance_raw_furlongs', 'race_class', 'race_class_normalised',\n",
       "       'prize_money_currency', 'total_prize_money', 'track_condition',\n",
       "       'race_type', 'track_type', 'barrier', 'number', 'finish_position',\n",
       "       'win_or_lose', 'failed_to_finish_reason', 'margin', 'gear',\n",
       "       'jockey_allowance', 'jockey_allowance_unit', 'handicap_weight',\n",
       "       'handicap_weight_unit', 'jockey_id', 'jockey_name', 'tainer_id',\n",
       "       'trainer_name', 'dslr', 'horse_id', 'horse_name', 'sire', 'dam', 'age',\n",
       "       'birth_date', 'official rating', 'wfa', 'weight_adjustment',\n",
       "       'bet365_odds', 'pmu_odds', 'betfair_starting_price',\n",
       "       'pre_race_master_rating_int', 'pre_race_master_rating_symbol',\n",
       "       'post_race_master_rating_int', 'post_race_master_rating_symbol',\n",
       "       'starting_price', 'run_1_raw_post_race_rating_int',\n",
       "       'run_1_raw_post_race_rating_symbol', 'run_1_final_rating_int',\n",
       "       'run_1_race_type', 'run_1_race_class_normalised', 'run_1_race_class',\n",
       "       'run_1_track_type', 'run_1_win_lose', 'run_1_dsr',\n",
       "       'run_2_raw_post_race_rating_int', 'run_2_raw_post_race_rating_symbol',\n",
       "       'run_2_final_rating_int', 'run_2_race_type', 'run_2_race_class',\n",
       "       'run_2_race_class_normalised', 'run_2_track_type', 'run_2_win_lose',\n",
       "       'run_2_dsr', 'run_3_raw_post_race_rating_int',\n",
       "       'run_3_raw_post_race_rating_symbol', 'run_3_final_rating_int',\n",
       "       'run_3_race_type', 'run_3_race_class', 'run_3_race_class_normalised',\n",
       "       'run_3_track_type', 'run_3_win_lose', 'run_3_dsr',\n",
       "       'run_4_raw_post_race_rating_int', 'run_4_raw_post_race_rating_symbol',\n",
       "       'run_4_final_rating_int', 'run_4_race_type', 'run_4_race_class',\n",
       "       'run_4_race_class_normalised', 'run_4_track_type', 'run_4_win_lose',\n",
       "       'run_4_dsr', 'run_5_raw_post_race_rating_int',\n",
       "       'run_5_raw_post_race_rating_symbol', 'run_5_final_rating_int',\n",
       "       'run_5_race_type', 'run_5_race_class', 'run_5_race_class_normalised',\n",
       "       'run_5_track_type', 'run_5_win_lose', 'run_5_dsr'],\n",
       "      dtype='object')"
      ]
     },
     "execution_count": 37,
     "metadata": {},
     "output_type": "execute_result"
    }
   ],
   "source": [
    "features = df.columns\n",
    "features"
   ]
  },
  {
   "cell_type": "code",
   "execution_count": 42,
   "id": "a6d17fdd-d654-43f3-aa40-db08945cb6b2",
   "metadata": {},
   "outputs": [
    {
     "data": {
      "text/plain": [
       "<bound method Series.count of 0         True\n",
       "1         True\n",
       "2         True\n",
       "3         True\n",
       "4         True\n",
       "          ... \n",
       "282001    True\n",
       "282002    True\n",
       "282003    True\n",
       "282004    True\n",
       "282005    True\n",
       "Name: run_1_win_lose, Length: 282006, dtype: bool>"
      ]
     },
     "execution_count": 42,
     "metadata": {},
     "output_type": "execute_result"
    }
   ],
   "source": [
    "df['run_1_win_lose'].notna().count"
   ]
  },
  {
   "cell_type": "code",
   "execution_count": 49,
   "id": "d8ed247f-cd52-4766-9fa2-8c86403a23f1",
   "metadata": {},
   "outputs": [
    {
     "data": {
      "text/plain": [
       "282006"
      ]
     },
     "execution_count": 49,
     "metadata": {},
     "output_type": "execute_result"
    }
   ],
   "source": [
    "df['run_1_win_lose'].notna().count()"
   ]
  },
  {
   "cell_type": "code",
   "execution_count": 58,
   "id": "9510ef54-e13f-4621-a5e6-762844cff8d0",
   "metadata": {},
   "outputs": [
    {
     "ename": "NameError",
     "evalue": "name 'column' is not defined",
     "output_type": "error",
     "traceback": [
      "\u001b[0;31m---------------------------------------------------------------------------\u001b[0m",
      "\u001b[0;31mNameError\u001b[0m                                 Traceback (most recent call last)",
      "Cell \u001b[0;32mIn[58], line 1\u001b[0m\n\u001b[0;32m----> 1\u001b[0m df[\u001b[43mcolumn\u001b[49m\u001b[38;5;241m==\u001b[39m(like\u001b[38;5;241m==\u001b[39m\u001b[38;5;124m'\u001b[39m\u001b[38;5;124m1\u001b[39m\u001b[38;5;124m'\u001b[39m)]\u001b[38;5;241m.\u001b[39mcount()\n",
      "\u001b[0;31mNameError\u001b[0m: name 'column' is not defined"
     ]
    }
   ],
   "source": []
  },
  {
   "cell_type": "code",
   "execution_count": 51,
   "id": "b50d83ae-ec11-4e9a-ad43-d7768ea8ca68",
   "metadata": {},
   "outputs": [
    {
     "data": {
      "text/plain": [
       "282006"
      ]
     },
     "execution_count": 51,
     "metadata": {},
     "output_type": "execute_result"
    }
   ],
   "source": []
  },
  {
   "cell_type": "code",
   "execution_count": null,
   "id": "57e1e688-21ed-449e-b457-636c9df5eee5",
   "metadata": {},
   "outputs": [],
   "source": []
  },
  {
   "cell_type": "code",
   "execution_count": null,
   "id": "74986450-bd81-434f-ade2-a48d0820e83d",
   "metadata": {},
   "outputs": [],
   "source": []
  },
  {
   "cell_type": "code",
   "execution_count": null,
   "id": "18ad2a49-4140-4e9b-832d-7e2c590e8764",
   "metadata": {},
   "outputs": [],
   "source": []
  },
  {
   "cell_type": "code",
   "execution_count": null,
   "id": "7c955d18-8f5c-418a-a50e-b8d8fc897b06",
   "metadata": {},
   "outputs": [],
   "source": []
  },
  {
   "cell_type": "code",
   "execution_count": null,
   "id": "ebf27793-9dc2-4dde-9e37-f4f697aeb8d6",
   "metadata": {},
   "outputs": [],
   "source": []
  },
  {
   "cell_type": "code",
   "execution_count": null,
   "id": "dc9c72e7-a652-4609-8938-978c0b08d431",
   "metadata": {},
   "outputs": [],
   "source": []
  },
  {
   "cell_type": "code",
   "execution_count": null,
   "id": "e61ad4be-1c98-4d99-8a6f-cdade7bcdf5d",
   "metadata": {},
   "outputs": [],
   "source": []
  },
  {
   "cell_type": "code",
   "execution_count": null,
   "id": "b1440f43-82f4-419d-9af4-27e1f04195e7",
   "metadata": {},
   "outputs": [],
   "source": []
  }
 ],
 "metadata": {
  "kernelspec": {
   "display_name": "Python 3 (ipykernel)",
   "language": "python",
   "name": "python3"
  },
  "language_info": {
   "codemirror_mode": {
    "name": "ipython",
    "version": 3
   },
   "file_extension": ".py",
   "mimetype": "text/x-python",
   "name": "python",
   "nbconvert_exporter": "python",
   "pygments_lexer": "ipython3",
   "version": "3.10.6"
  }
 },
 "nbformat": 4,
 "nbformat_minor": 5
}
