{
 "cells": [
  {
   "cell_type": "markdown",
   "id": "176b63ac",
   "metadata": {},
   "source": [
    "# Sampling data for testing"
   ]
  },
  {
   "cell_type": "code",
   "execution_count": null,
   "id": "ee6b2e96-5a18-44f3-8cd2-e670a63c20ee",
   "metadata": {},
   "outputs": [],
   "source": [
    "import pandas as pd\n",
    "import requests\n",
    "import os"
   ]
  },
  {
   "cell_type": "code",
   "execution_count": null,
   "id": "59e7f7be-9178-4f44-a739-2737ade118b1",
   "metadata": {},
   "outputs": [],
   "source": [
    "file_csv = '~/code/harlqeuinht/which_horse/raw_data/combined_flat2_csv.csv'"
   ]
  },
  {
   "cell_type": "code",
   "execution_count": null,
   "id": "c64d40c7-77a4-45c2-bcd0-15fe92aacc8c",
   "metadata": {},
   "outputs": [],
   "source": [
    "master_df = pd.read_csv(file_csv)"
   ]
  },
  {
   "cell_type": "code",
   "execution_count": null,
   "id": "c4d949d3",
   "metadata": {},
   "outputs": [],
   "source": [
    "df = master_df.sample(n=10)"
   ]
  },
  {
   "cell_type": "code",
   "execution_count": null,
   "id": "f5ea1a1a",
   "metadata": {},
   "outputs": [],
   "source": [
    "df"
   ]
  },
  {
   "cell_type": "code",
   "execution_count": null,
   "id": "4e4cd47a-4403-4672-89b5-c291735b243e",
   "metadata": {},
   "outputs": [],
   "source": [
    "columns_to_drop = df.filter(regex='[678]').columns\n",
    "columns_to_drop = columns_to_drop.drop('bet365_odds')\n",
    "df = df.drop(columns=(columns_to_drop))"
   ]
  },
  {
   "cell_type": "markdown",
   "id": "a6882077-be63-464e-a093-0df7f3e55c21",
   "metadata": {},
   "source": [
    "Create a DataFrame which stores the meeting location name and long & lat. Note this has been done on the sample dataset, not the full dataset"
   ]
  },
  {
   "cell_type": "markdown",
   "id": "a69caa03-489d-427c-849a-2ee1e3dd741e",
   "metadata": {},
   "source": [
    "# Locations API"
   ]
  },
  {
   "cell_type": "code",
   "execution_count": null,
   "id": "0baa5040",
   "metadata": {},
   "outputs": [],
   "source": [
    "def get_co_ordinates(df):\n",
    "        # Create a list of all unique racecourse names\n",
    "        location_names = sorted(df['meeting_name'].unique())\n",
    "        # Clean racecourse names so they are reconisable by the geolocation API\n",
    "        locations_df = pd.DataFrame(location_names, columns=['meeting_name'])\n",
    "        locations_df['location_names_cleaned'] = locations_df['meeting_name'].replace({'BANGOR-ON-DEE':'BANGOR', 'NEWMARKET (JULY)':'NEWMARKET', ' ':'_'})\n",
    "        locations_df['location_names_cleaned'] = locations_df['location_names_cleaned'].str.replace(' ', '_')\n",
    "\n",
    "        # Iterate through the locations df, generating API endpoints for each row\n",
    "        for index, location in enumerate(locations_df['location_names_cleaned']):\n",
    "            base_url = 'https://maps.googleapis.com/maps/api/geocode/json?'\n",
    "            api_key = os.environ['KEY']\n",
    "            params = f'address={location}+racecourse&components=country:GB&key={api_key}'\n",
    "            endpoint = f'{base_url}{params}'\n",
    "            # Call the geolocation API, storing the results\n",
    "            results = requests.get(endpoint).json()\n",
    "            # Store the returned latitude and longitude data in the respective columns\n",
    "            locations_df.loc[index, 'lat'] = results['results'][0]['geometry']['location']['lat']\n",
    "            locations_df.loc[index, 'lng'] = results['results'][0]['geometry']['location']['lng']\n",
    "        return locations_df\n",
    "\n",
    "locations_df = get_co_ordinates(df)"
   ]
  },
  {
   "cell_type": "code",
   "execution_count": null,
   "id": "610d569e",
   "metadata": {},
   "outputs": [],
   "source": [
    "def get_unique_races(df):\n",
    "    unique_race_days_df = pd.DataFrame({'date': df['date'], 'meeting_name':df['meeting_name']}).drop_duplicates()\n",
    "    return unique_race_days_df\n",
    "\n",
    "unique_races_df = get_unique_races(test_df)\n",
    "unique_races_df"
   ]
  },
  {
   "cell_type": "code",
   "execution_count": null,
   "id": "8e81f075",
   "metadata": {},
   "outputs": [],
   "source": [
    "unique_races_df = pd.merge(unique_races_df, locations_df, how='left', left_on='meeting_name', right_on='meeting_name')\n",
    "unique_races_df"
   ]
  },
  {
   "cell_type": "code",
   "execution_count": null,
   "id": "45eb596b",
   "metadata": {},
   "outputs": [],
   "source": [
    "def generate_endpoint(row):\n",
    "        base_url = 'https://archive-api.open-meteo.com/v1/archive?'\n",
    "        latitude = row['lat']\n",
    "        longitude = row['lng']\n",
    "        date = row['date']\n",
    "        params = '&daily=temperature_2m_mean,precipitation_sum,wind_speed_10m_max&wind_speed_unit=mph'\n",
    "        return f'{base_url}&latitude={latitude}&longitude={longitude}&start_date={date}&end_date={date}&{params}'\n",
    "\n",
    "unique_races_df['endpoint'] = unique_races_df.apply(generate_endpoint, axis=1)"
   ]
  },
  {
   "cell_type": "code",
   "execution_count": null,
   "id": "572b3bfe",
   "metadata": {},
   "outputs": [],
   "source": [
    "unique_races_df.head()"
   ]
  },
  {
   "cell_type": "code",
   "execution_count": null,
   "id": "3b285f0c",
   "metadata": {},
   "outputs": [],
   "source": [
    "def call_weather_api(row):\n",
    "        response = requests.get(row['endpoint'])\n",
    "        data = response.json()\n",
    "\n",
    "        temp = data['daily']['temperature_2m_mean'][0]\n",
    "        precipitation = data['daily']['precipitation_sum'][0]\n",
    "        wind = data['daily']['wind_speed_10m_max'][0]\n",
    "        return temp, precipitation, wind\n",
    "\n",
    "unique_races_df[['temperature_2m_mean', 'precipitation_sum', 'wind_speed_10m_max']] = unique_races_df.apply(call_weather_api, axis=1, result_type='expand')"
   ]
  },
  {
   "cell_type": "code",
   "execution_count": null,
   "id": "22efdd05",
   "metadata": {},
   "outputs": [],
   "source": [
    "unique_races_df.head()"
   ]
  },
  {
   "cell_type": "markdown",
   "id": "44c0bfb1",
   "metadata": {},
   "source": [
    "# ALTOGETHER NOW"
   ]
  },
  {
   "cell_type": "code",
   "execution_count": null,
   "id": "1db7b724",
   "metadata": {},
   "outputs": [],
   "source": [
    "def get_weather_final(df):\n",
    "    def get_co_ordinates(df):\n",
    "            location_names = sorted(df['meeting_name'].unique())\n",
    "            locations_df = pd.DataFrame(location_names, columns=['meeting_name'])\n",
    "            locations_df['location_names_cleaned'] = locations_df['meeting_name'].replace({'BANGOR-ON-DEE':'BANGOR', 'NEWMARKET (JULY)':'NEWMARKET', ' ':'_'})\n",
    "            locations_df['location_names_cleaned'] = locations_df['location_names_cleaned'].str.replace(' ', '_')\n",
    "\n",
    "            for index, location in enumerate(locations_df['location_names_cleaned']):\n",
    "                base_url = 'https://maps.googleapis.com/maps/api/geocode/json?'\n",
    "                api_key = os.environ['KEY']\n",
    "                params = f'address={location}+racecourse&components=country:GB&key={api_key}'\n",
    "                endpoint = f'{base_url}{params}'\n",
    "                # Call the geolocation API, storing the results\n",
    "                results = requests.get(endpoint).json()\n",
    "                # Store the returned latitude and longitude data in the respective columns\n",
    "                locations_df.loc[index, 'lat'] = results['results'][0]['geometry']['location']['lat']\n",
    "                locations_df.loc[index, 'lng'] = results['results'][0]['geometry']['location']['lng']\n",
    "            return locations_df\n",
    "\n",
    "    locations_df = get_co_ordinates(df)\n",
    "\n",
    "\n",
    "    def get_unique_races(df):\n",
    "        unique_race_days_df = pd.DataFrame({'date': df['date'], 'meeting_name':df['meeting_name']}).drop_duplicates()\n",
    "        return unique_race_days_df\n",
    "\n",
    "    unique_race_days_df = get_unique_races(df)\n",
    "    unique_race_days_df = pd.merge(unique_race_days_df, locations_df, how='left', left_on='meeting_name', right_on='meeting_name')\n",
    "\n",
    "    def generate_endpoint(row):\n",
    "            base_url = 'https://archive-api.open-meteo.com/v1/archive?'\n",
    "            latitude = row['lat']\n",
    "            longitude = row['lng']\n",
    "            date = row['date']\n",
    "            params = '&daily=temperature_2m_mean,precipitation_sum,wind_speed_10m_max&wind_speed_unit=mph'\n",
    "            return f'{base_url}&latitude={latitude}&longitude={longitude}&start_date={date}&end_date={date}&{params}'\n",
    "\n",
    "    unique_race_days_df['endpoint'] = unique_race_days_df.apply(generate_endpoint, axis=1)\n",
    "\n",
    "    def call_weather_api(row):\n",
    "            response = requests.get(row['endpoint'])\n",
    "            data = response.json()\n",
    "\n",
    "            temp = data['daily']['temperature_2m_mean'][0]\n",
    "            precipitation = data['daily']['precipitation_sum'][0]\n",
    "            wind = data['daily']['wind_speed_10m_max'][0]\n",
    "            return temp, precipitation, wind\n",
    "\n",
    "    unique_race_days_df[['temperature_2m_mean', 'precipitation_sum', 'wind_speed_10m_max']] = unique_race_days_df.apply(call_weather_api, axis=1, result_type='expand')\n",
    "\n",
    "    updated_df = pd.merge(df, unique_race_days_df, on=['date', 'meeting_name'], how='left')\n",
    "    updated_df = updated_df.drop(columns=['endpoint', 'lat', 'lng', 'location_names_cleaned'])\n",
    "    return updated_df"
   ]
  },
  {
   "cell_type": "code",
   "execution_count": null,
   "id": "c38b20ec",
   "metadata": {},
   "outputs": [],
   "source": [
    "get_weather_final(df)"
   ]
  },
  {
   "cell_type": "code",
   "execution_count": null,
   "id": "8823b795-e360-46c1-9550-4baeb55b35bb",
   "metadata": {},
   "outputs": [],
   "source": [
    "base_url = 'https://archive-api.open-meteo.com/v1/archive?'\n",
    "longitude = '-1.597'\n",
    "latitude = '52.279'\n",
    "start_date = '2020-01-01'\n",
    "end_date = '2020-01-07'\n",
    "params = 'daily=temperature_2m_mean,precipitation_sum,rain_sum,wind_speed_10m_max,wind_direction_10m_dominant'\n",
    "endpoint = f'{base_url}&latitude={latitude}&longitude={longitude}&start_date={start_date}&end_date={end_date}&{params}'\n",
    "endpoint\n",
    "\n",
    "print(requests.get(endpoint).json())\n"
   ]
  },
  {
   "cell_type": "code",
   "execution_count": null,
   "id": "49e5511c-4a12-4cd7-99e9-deeeaa189448",
   "metadata": {},
   "outputs": [],
   "source": [
    "endpoint"
   ]
  },
  {
   "cell_type": "code",
   "execution_count": null,
   "id": "e4d7dca5-472d-484f-8868-ac8e0f4f980a",
   "metadata": {},
   "outputs": [],
   "source": [
    "latitude = locations_df['latitude']\n",
    "longitude = locations_df['longitude']"
   ]
  },
  {
   "cell_type": "code",
   "execution_count": null,
   "id": "dc9c72e7-a652-4609-8938-978c0b08d431",
   "metadata": {},
   "outputs": [],
   "source": [
    "# This code works and returns a 200 code for current weather data\n",
    "response = requests.get('http://api.weatherapi.com/v1/current.json?key=581fec608fba4a5699790722240703&dt=2020-01-01&q=London')\n",
    "response"
   ]
  },
  {
   "cell_type": "code",
   "execution_count": null,
   "id": "e61ad4be-1c98-4d99-8a6f-cdade7bcdf5d",
   "metadata": {},
   "outputs": [],
   "source": [
    "print(response.json())"
   ]
  },
  {
   "cell_type": "code",
   "execution_count": null,
   "id": "b1440f43-82f4-419d-9af4-27e1f04195e7",
   "metadata": {},
   "outputs": [],
   "source": []
  },
  {
   "cell_type": "code",
   "execution_count": null,
   "id": "0b29bd8f-d3f1-4220-9f54-f490bf444469",
   "metadata": {},
   "outputs": [],
   "source": [
    "os.environ['KEY']"
   ]
  },
  {
   "cell_type": "markdown",
   "id": "10c4b2f6-b278-4887-b207-ae8e7c795b04",
   "metadata": {},
   "source": [
    "# Getting the weather data"
   ]
  },
  {
   "cell_type": "code",
   "execution_count": null,
   "id": "8bd0f730",
   "metadata": {},
   "outputs": [],
   "source": [
    "import pandas as pd\n",
    "import requests\n",
    "import os\n",
    "from get_weather_function import get_weather_data\n",
    "from pipeline_cleaning import clean_data\n",
    "\n",
    "file_csv = '../raw_data/merge_dfs.csv'\n",
    "df = pd.read_csv(file_csv)\n",
    "clean_df = clean_data(df.copy())"
   ]
  },
  {
   "cell_type": "code",
   "execution_count": null,
   "id": "da20bdc9",
   "metadata": {},
   "outputs": [],
   "source": [
    "clean_df[['meeting_name', 'date']].drop_duplicates()"
   ]
  },
  {
   "cell_type": "markdown",
   "id": "26d9da3b",
   "metadata": {},
   "source": [
    "### Try again :("
   ]
  },
  {
   "cell_type": "code",
   "execution_count": null,
   "id": "008ebe4a",
   "metadata": {},
   "outputs": [],
   "source": [
    "def get_co_ordinates(df):\n",
    "            # Obtain list of unique racecourse names from the 'meeting_name' column\n",
    "            location_names = sorted(df['meeting_name'].unique())\n",
    "            # Create a locations dataframe and clean the names of racecourses to be recognisable by a geolocation API\n",
    "            locations_df = pd.DataFrame(location_names, columns=['meeting_name'])\n",
    "            locations_df['location_names_cleaned'] = locations_df['meeting_name'].replace({'BANGOR-ON-DEE':'BANGOR', 'NEWMARKET (JULY)':'NEWMARKET', ' ':'_'})\n",
    "            locations_df['location_names_cleaned'] = locations_df['location_names_cleaned'].str.replace(' ', '_')\n",
    "\n",
    "            # Iterate through each row of the locations dataframe, calling the geolocation API, returning co-ordinates for each\n",
    "            for index, location in enumerate(locations_df['location_names_cleaned']):\n",
    "                base_url = 'https://maps.googleapis.com/maps/api/geocode/json?'\n",
    "                api_key = os.environ['KEY']\n",
    "                params = f'address={location}+racecourse&components=country:GB&key={api_key}'\n",
    "                endpoint = f'{base_url}{params}'\n",
    "                # Call the geolocation API, storing the results\n",
    "                results = requests.get(endpoint).json()\n",
    "                # Store the returned latitude and longitude data in the respective columns\n",
    "                locations_df.loc[index, 'lat'] = results['results'][0]['geometry']['location']['lat']\n",
    "                locations_df.loc[index, 'lng'] = results['results'][0]['geometry']['location']['lng']\n",
    "            return locations_df"
   ]
  },
  {
   "cell_type": "markdown",
   "id": "197303d4",
   "metadata": {},
   "source": []
  },
  {
   "cell_type": "code",
   "execution_count": null,
   "id": "c6a17864",
   "metadata": {},
   "outputs": [],
   "source": [
    "locations_df = get_co_ordinates(clean_df)"
   ]
  },
  {
   "cell_type": "code",
   "execution_count": null,
   "id": "180779e6",
   "metadata": {},
   "outputs": [],
   "source": [
    "locations_df_saved = locations_df.copy()"
   ]
  },
  {
   "cell_type": "code",
   "execution_count": null,
   "id": "572cc844",
   "metadata": {},
   "outputs": [],
   "source": [
    "clean_df.shape"
   ]
  },
  {
   "cell_type": "code",
   "execution_count": null,
   "id": "599c3635",
   "metadata": {},
   "outputs": [],
   "source": [
    "locations_df.head()"
   ]
  },
  {
   "cell_type": "code",
   "execution_count": null,
   "id": "b2ea27d4",
   "metadata": {},
   "outputs": [],
   "source": [
    "def get_unique_races(df):\n",
    "    unique_races_df = pd.DataFrame({'date': clean_df['date'], 'meeting_name':clean_df['meeting_name']}).drop_duplicates()\n",
    "    return unique_races_df"
   ]
  },
  {
   "cell_type": "code",
   "execution_count": null,
   "id": "38719981",
   "metadata": {},
   "outputs": [],
   "source": [
    "unique_races_df = get_unique_races(clean_df)"
   ]
  },
  {
   "cell_type": "code",
   "execution_count": null,
   "id": "b19c0c99",
   "metadata": {},
   "outputs": [],
   "source": [
    "unique_races_df.shape"
   ]
  },
  {
   "cell_type": "code",
   "execution_count": null,
   "id": "f3b43262",
   "metadata": {},
   "outputs": [],
   "source": [
    "   # Call the unique race days function, updating the unique race days dataframe and merging with the locations dataframe\n",
    "unique_races_df = pd.merge(unique_races_df, locations_df, how='left', left_on='meeting_name', right_on='meeting_name')\n"
   ]
  },
  {
   "cell_type": "code",
   "execution_count": null,
   "id": "c1dd287e",
   "metadata": {},
   "outputs": [],
   "source": [
    "unique_races_df.head()"
   ]
  },
  {
   "cell_type": "code",
   "execution_count": null,
   "id": "4e8388c7",
   "metadata": {},
   "outputs": [],
   "source": [
    "def generate_endpoint(row):\n",
    "    base_url = 'https://archive-api.open-meteo.com/v1/archive?'\n",
    "    latitude = row['lat']\n",
    "    longitude = row['lng']\n",
    "    date = str(row['date'])[:10]\n",
    "    params = '&daily=temperature_2m_mean,precipitation_sum,wind_speed_10m_max&wind_speed_unit=mph'\n",
    "    return f'{base_url}&latitude={latitude}&longitude={longitude}&start_date={date}&end_date={date}&{params}'\n"
   ]
  },
  {
   "cell_type": "code",
   "execution_count": null,
   "id": "971c9da7",
   "metadata": {},
   "outputs": [],
   "source": [
    "unique_races_df['endpoint'] = unique_races_df.apply(generate_endpoint, axis=1)"
   ]
  },
  {
   "cell_type": "code",
   "execution_count": null,
   "id": "a9083b21",
   "metadata": {},
   "outputs": [],
   "source": [
    "unique_races_df.loc[0, 'endpoint']"
   ]
  },
  {
   "cell_type": "code",
   "execution_count": null,
   "id": "63819979",
   "metadata": {},
   "outputs": [],
   "source": [
    "def call_weather_api(row):\n",
    "    response = requests.get(row['endpoint'])\n",
    "    data = response.json()\n",
    "\n",
    "    temp = data['daily']['temperature_2m_mean'][0]\n",
    "    precipitation = data['daily']['precipitation_sum'][0]\n",
    "    wind = data['daily']['wind_speed_10m_max'][0]\n",
    "    return temp, precipitation, wind\n"
   ]
  },
  {
   "cell_type": "code",
   "execution_count": null,
   "id": "319ec9f1",
   "metadata": {},
   "outputs": [],
   "source": [
    "unique_races_df[['temperature_2m_mean', 'precipitation_sum', 'wind_speed_10m_max']] = unique_races_df.apply(call_weather_api, axis=1, result_type='expand')\n"
   ]
  },
  {
   "cell_type": "code",
   "execution_count": null,
   "id": "2c386877",
   "metadata": {},
   "outputs": [],
   "source": [
    "unique_races_weather_df = unique_races_df"
   ]
  },
  {
   "cell_type": "code",
   "execution_count": null,
   "id": "93107b95",
   "metadata": {},
   "outputs": [],
   "source": [
    "unique_races_weather_df.drop(columns=['location_names_cleaned', 'lat', 'lng','endpoint'], inplace=True)"
   ]
  },
  {
   "cell_type": "code",
   "execution_count": null,
   "id": "cbccfacb",
   "metadata": {},
   "outputs": [],
   "source": [
    "unique_races_weather_df"
   ]
  },
  {
   "cell_type": "code",
   "execution_count": null,
   "id": "5e20a6d7",
   "metadata": {},
   "outputs": [],
   "source": [
    "unique_races_weather_df.to_csv('../raw_data/race_day_weather.csv')"
   ]
  },
  {
   "cell_type": "code",
   "execution_count": null,
   "id": "ac859fed",
   "metadata": {},
   "outputs": [],
   "source": []
  },
  {
   "cell_type": "code",
   "execution_count": null,
   "id": "aca95ea8",
   "metadata": {},
   "outputs": [],
   "source": []
  },
  {
   "cell_type": "code",
   "execution_count": null,
   "id": "447bbad0",
   "metadata": {},
   "outputs": [],
   "source": []
  },
  {
   "cell_type": "code",
   "execution_count": null,
   "id": "212a9b54",
   "metadata": {},
   "outputs": [],
   "source": [
    "# Call the API call function on the unique race days dataframe, *NOT* on the entire dataframe\n",
    "# This drastically reduces the total number of API calls as there are a significant amount of duplicates in the dataset\n",
    "unique_races_df[['temperature_2m_mean', 'precipitation_sum', 'wind_speed_10m_max']] = unique_races_df.apply(call_weather_api, axis=1, result_type='expand')\n",
    "\n",
    "# Merge the unique race days dataframe with the main dataframe, populating on-the-day weather for each racecourse\n",
    "updated_df = pd.merge(df, unique_races_df, on=['date', 'meeting_name'], how='left')\n",
    "# Drop columns created throughout this function\n",
    "updated_df = updated_df.drop(columns=['endpoint', 'lat', 'lng', 'location_names_cleaned'])\n",
    "updated_df"
   ]
  }
 ],
 "metadata": {
  "kernelspec": {
   "display_name": "Python 3 (ipykernel)",
   "language": "python",
   "name": "python3"
  },
  "language_info": {
   "codemirror_mode": {
    "name": "ipython",
    "version": 3
   },
   "file_extension": ".py",
   "mimetype": "text/x-python",
   "name": "python",
   "nbconvert_exporter": "python",
   "pygments_lexer": "ipython3",
   "version": "3.10.6"
  }
 },
 "nbformat": 4,
 "nbformat_minor": 5
}
