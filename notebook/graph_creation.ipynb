{
 "cells": [
  {
   "cell_type": "code",
   "execution_count": 50,
   "metadata": {},
   "outputs": [],
   "source": [
    "import pandas as pd\n",
    "import seaborn as sns\n",
    "from pipeline_cleaning import clean_data\n",
    "from pipeline_cleaning import transforming_data\n",
    "from sklearn.decomposition import PCA\n"
   ]
  },
  {
   "cell_type": "code",
   "execution_count": 39,
   "metadata": {},
   "outputs": [
    {
     "name": "stderr",
     "output_type": "stream",
     "text": [
      "/tmp/ipykernel_309725/94581037.py:1: DtypeWarning: Columns (53,62,71,80,89,98,107,116,122,123) have mixed types. Specify dtype option on import or set low_memory=False.\n",
      "  raw_df = pd.read_csv('../raw_data/merge_dfs.csv')\n"
     ]
    }
   ],
   "source": [
    "raw_df = pd.read_csv('../raw_data/merge_dfs.csv')"
   ]
  },
  {
   "cell_type": "code",
   "execution_count": 40,
   "metadata": {},
   "outputs": [
    {
     "name": "stderr",
     "output_type": "stream",
     "text": [
      "/home/roblawson/code/harlqeuinht/which_horse/notebook/pipeline_cleaning.py:36: SettingWithCopyWarning: \n",
      "A value is trying to be set on a copy of a slice from a DataFrame.\n",
      "Try using .loc[row_indexer,col_indexer] = value instead\n",
      "\n",
      "See the caveats in the documentation: https://pandas.pydata.org/pandas-docs/stable/user_guide/indexing.html#returning-a-view-versus-a-copy\n",
      "  df['failed_to_finish_reason'] = df['failed_to_finish_reason'].apply(lambda x: 0 if pd.isna(x) else 1)\n",
      "/home/roblawson/code/harlqeuinht/which_horse/notebook/pipeline_cleaning.py:37: SettingWithCopyWarning: \n",
      "A value is trying to be set on a copy of a slice from a DataFrame.\n",
      "Try using .loc[row_indexer,col_indexer] = value instead\n",
      "\n",
      "See the caveats in the documentation: https://pandas.pydata.org/pandas-docs/stable/user_guide/indexing.html#returning-a-view-versus-a-copy\n",
      "  df['margin'] = df.apply(lambda row: row['distance'] if pd.isna(row['margin']) and (row['win_or_lose'] == 1 or row['failed_to_finish_reason'] == 1) else row['margin'], axis=1)\n",
      "/home/roblawson/code/harlqeuinht/which_horse/notebook/pipeline_cleaning.py:38: SettingWithCopyWarning: \n",
      "A value is trying to be set on a copy of a slice from a DataFrame.\n",
      "Try using .loc[row_indexer,col_indexer] = value instead\n",
      "\n",
      "See the caveats in the documentation: https://pandas.pydata.org/pandas-docs/stable/user_guide/indexing.html#returning-a-view-versus-a-copy\n",
      "  df['date'] = pd.to_datetime(df['date'])\n",
      "/home/roblawson/code/harlqeuinht/which_horse/notebook/pipeline_cleaning.py:39: SettingWithCopyWarning: \n",
      "A value is trying to be set on a copy of a slice from a DataFrame.\n",
      "Try using .loc[row_indexer,col_indexer] = value instead\n",
      "\n",
      "See the caveats in the documentation: https://pandas.pydata.org/pandas-docs/stable/user_guide/indexing.html#returning-a-view-versus-a-copy\n",
      "  df['birth_date'] = pd.to_datetime(df['birth_date'])\n",
      "/home/roblawson/code/harlqeuinht/which_horse/notebook/pipeline_cleaning.py:40: SettingWithCopyWarning: \n",
      "A value is trying to be set on a copy of a slice from a DataFrame.\n",
      "Try using .loc[row_indexer,col_indexer] = value instead\n",
      "\n",
      "See the caveats in the documentation: https://pandas.pydata.org/pandas-docs/stable/user_guide/indexing.html#returning-a-view-versus-a-copy\n",
      "  df['current_age'] = (((df['date'] - df['birth_date']).dt.days % 365) // 30).astype(float)\n",
      "/home/roblawson/code/harlqeuinht/which_horse/notebook/pipeline_cleaning.py:41: SettingWithCopyWarning: \n",
      "A value is trying to be set on a copy of a slice from a DataFrame\n",
      "\n",
      "See the caveats in the documentation: https://pandas.pydata.org/pandas-docs/stable/user_guide/indexing.html#returning-a-view-versus-a-copy\n",
      "  df.drop(columns=['failed_to_finish_reason', 'birth_date'], inplace=True)\n",
      "/home/roblawson/code/harlqeuinht/which_horse/notebook/pipeline_cleaning.py:46: SettingWithCopyWarning: \n",
      "A value is trying to be set on a copy of a slice from a DataFrame.\n",
      "Try using .loc[row_indexer,col_indexer] = value instead\n",
      "\n",
      "See the caveats in the documentation: https://pandas.pydata.org/pandas-docs/stable/user_guide/indexing.html#returning-a-view-versus-a-copy\n",
      "  df['date'] = pd.to_datetime(df['date'])\n",
      "/home/roblawson/code/harlqeuinht/which_horse/notebook/pipeline_cleaning.py:47: SettingWithCopyWarning: \n",
      "A value is trying to be set on a copy of a slice from a DataFrame\n",
      "\n",
      "See the caveats in the documentation: https://pandas.pydata.org/pandas-docs/stable/user_guide/indexing.html#returning-a-view-versus-a-copy\n",
      "  df.drop(columns=['jockey_id', 'tainer_id', 'margin', 'finish_position', 'event_number'], axis=1, inplace=True) # for now\n",
      "/home/roblawson/code/harlqeuinht/which_horse/notebook/pipeline_cleaning.py:48: SettingWithCopyWarning: \n",
      "A value is trying to be set on a copy of a slice from a DataFrame\n",
      "\n",
      "See the caveats in the documentation: https://pandas.pydata.org/pandas-docs/stable/user_guide/indexing.html#returning-a-view-versus-a-copy\n",
      "  df.dropna(inplace=True) #instead of imputer for now\n",
      "/home/roblawson/code/harlqeuinht/which_horse/notebook/pipeline_cleaning.py:52: SettingWithCopyWarning: \n",
      "A value is trying to be set on a copy of a slice from a DataFrame\n",
      "\n",
      "See the caveats in the documentation: https://pandas.pydata.org/pandas-docs/stable/user_guide/indexing.html#returning-a-view-versus-a-copy\n",
      "  df_train.drop(columns=['date'], axis=1, inplace=True)\n",
      "/home/roblawson/code/harlqeuinht/which_horse/notebook/pipeline_cleaning.py:53: SettingWithCopyWarning: \n",
      "A value is trying to be set on a copy of a slice from a DataFrame\n",
      "\n",
      "See the caveats in the documentation: https://pandas.pydata.org/pandas-docs/stable/user_guide/indexing.html#returning-a-view-versus-a-copy\n",
      "  df_val.drop(columns=['date'], axis=1, inplace=True)\n",
      "/home/roblawson/code/harlqeuinht/which_horse/notebook/pipeline_cleaning.py:54: SettingWithCopyWarning: \n",
      "A value is trying to be set on a copy of a slice from a DataFrame\n",
      "\n",
      "See the caveats in the documentation: https://pandas.pydata.org/pandas-docs/stable/user_guide/indexing.html#returning-a-view-versus-a-copy\n",
      "  df_test.drop(columns=['date'], axis=1, inplace=True)\n",
      "/home/roblawson/.pyenv/versions/3.10.6/envs/which_horse/lib/python3.10/site-packages/sklearn/preprocessing/_encoders.py:241: UserWarning: Found unknown categories in columns [1] during transform. These unknown categories will be encoded as all zeros\n",
      "  warnings.warn(\n"
     ]
    }
   ],
   "source": [
    "cleaned_df = clean_data(raw_df)\n",
    "transformed_data = transforming_data(cleaned_df)"
   ]
  },
  {
   "cell_type": "code",
   "execution_count": 56,
   "metadata": {},
   "outputs": [],
   "source": [
    "data = transformed_data[2]"
   ]
  },
  {
   "cell_type": "code",
   "execution_count": 63,
   "metadata": {},
   "outputs": [
    {
     "ename": "AttributeError",
     "evalue": "module 'pandas' has no attribute 'dataFrame'",
     "output_type": "error",
     "traceback": [
      "\u001b[0;31m---------------------------------------------------------------------------\u001b[0m",
      "\u001b[0;31mAttributeError\u001b[0m                            Traceback (most recent call last)",
      "Cell \u001b[0;32mIn[63], line 1\u001b[0m\n\u001b[0;32m----> 1\u001b[0m \u001b[43mpd\u001b[49m\u001b[38;5;241;43m.\u001b[39;49m\u001b[43mdataFrame\u001b[49m(data[\u001b[38;5;241m0\u001b[39m])\n",
      "\u001b[0;31mAttributeError\u001b[0m: module 'pandas' has no attribute 'dataFrame'"
     ]
    }
   ],
   "source": []
  },
  {
   "cell_type": "code",
   "execution_count": 61,
   "metadata": {},
   "outputs": [
    {
     "ename": "KeyError",
     "evalue": "'offr'",
     "output_type": "error",
     "traceback": [
      "\u001b[0;31m---------------------------------------------------------------------------\u001b[0m",
      "\u001b[0;31mKeyError\u001b[0m                                  Traceback (most recent call last)",
      "File \u001b[0;32m~/.pyenv/versions/3.10.6/envs/which_horse/lib/python3.10/site-packages/pandas/core/indexes/base.py:3805\u001b[0m, in \u001b[0;36mIndex.get_loc\u001b[0;34m(self, key)\u001b[0m\n\u001b[1;32m   3804\u001b[0m \u001b[38;5;28;01mtry\u001b[39;00m:\n\u001b[0;32m-> 3805\u001b[0m     \u001b[38;5;28;01mreturn\u001b[39;00m \u001b[38;5;28;43mself\u001b[39;49m\u001b[38;5;241;43m.\u001b[39;49m\u001b[43m_engine\u001b[49m\u001b[38;5;241;43m.\u001b[39;49m\u001b[43mget_loc\u001b[49m\u001b[43m(\u001b[49m\u001b[43mcasted_key\u001b[49m\u001b[43m)\u001b[49m\n\u001b[1;32m   3806\u001b[0m \u001b[38;5;28;01mexcept\u001b[39;00m \u001b[38;5;167;01mKeyError\u001b[39;00m \u001b[38;5;28;01mas\u001b[39;00m err:\n",
      "File \u001b[0;32mindex.pyx:167\u001b[0m, in \u001b[0;36mpandas._libs.index.IndexEngine.get_loc\u001b[0;34m()\u001b[0m\n",
      "File \u001b[0;32mindex.pyx:196\u001b[0m, in \u001b[0;36mpandas._libs.index.IndexEngine.get_loc\u001b[0;34m()\u001b[0m\n",
      "File \u001b[0;32mpandas/_libs/hashtable_class_helper.pxi:7081\u001b[0m, in \u001b[0;36mpandas._libs.hashtable.PyObjectHashTable.get_item\u001b[0;34m()\u001b[0m\n",
      "File \u001b[0;32mpandas/_libs/hashtable_class_helper.pxi:7089\u001b[0m, in \u001b[0;36mpandas._libs.hashtable.PyObjectHashTable.get_item\u001b[0;34m()\u001b[0m\n",
      "\u001b[0;31mKeyError\u001b[0m: 'offr'",
      "\nThe above exception was the direct cause of the following exception:\n",
      "\u001b[0;31mKeyError\u001b[0m                                  Traceback (most recent call last)",
      "Cell \u001b[0;32mIn[61], line 1\u001b[0m\n\u001b[0;32m----> 1\u001b[0m \u001b[43mdata\u001b[49m\u001b[43m[\u001b[49m\u001b[38;5;124;43m'\u001b[39;49m\u001b[38;5;124;43moffr\u001b[39;49m\u001b[38;5;124;43m'\u001b[39;49m\u001b[43m]\u001b[49m\n",
      "File \u001b[0;32m~/.pyenv/versions/3.10.6/envs/which_horse/lib/python3.10/site-packages/pandas/core/frame.py:4090\u001b[0m, in \u001b[0;36mDataFrame.__getitem__\u001b[0;34m(self, key)\u001b[0m\n\u001b[1;32m   4088\u001b[0m \u001b[38;5;28;01mif\u001b[39;00m \u001b[38;5;28mself\u001b[39m\u001b[38;5;241m.\u001b[39mcolumns\u001b[38;5;241m.\u001b[39mnlevels \u001b[38;5;241m>\u001b[39m \u001b[38;5;241m1\u001b[39m:\n\u001b[1;32m   4089\u001b[0m     \u001b[38;5;28;01mreturn\u001b[39;00m \u001b[38;5;28mself\u001b[39m\u001b[38;5;241m.\u001b[39m_getitem_multilevel(key)\n\u001b[0;32m-> 4090\u001b[0m indexer \u001b[38;5;241m=\u001b[39m \u001b[38;5;28;43mself\u001b[39;49m\u001b[38;5;241;43m.\u001b[39;49m\u001b[43mcolumns\u001b[49m\u001b[38;5;241;43m.\u001b[39;49m\u001b[43mget_loc\u001b[49m\u001b[43m(\u001b[49m\u001b[43mkey\u001b[49m\u001b[43m)\u001b[49m\n\u001b[1;32m   4091\u001b[0m \u001b[38;5;28;01mif\u001b[39;00m is_integer(indexer):\n\u001b[1;32m   4092\u001b[0m     indexer \u001b[38;5;241m=\u001b[39m [indexer]\n",
      "File \u001b[0;32m~/.pyenv/versions/3.10.6/envs/which_horse/lib/python3.10/site-packages/pandas/core/indexes/base.py:3812\u001b[0m, in \u001b[0;36mIndex.get_loc\u001b[0;34m(self, key)\u001b[0m\n\u001b[1;32m   3807\u001b[0m     \u001b[38;5;28;01mif\u001b[39;00m \u001b[38;5;28misinstance\u001b[39m(casted_key, \u001b[38;5;28mslice\u001b[39m) \u001b[38;5;129;01mor\u001b[39;00m (\n\u001b[1;32m   3808\u001b[0m         \u001b[38;5;28misinstance\u001b[39m(casted_key, abc\u001b[38;5;241m.\u001b[39mIterable)\n\u001b[1;32m   3809\u001b[0m         \u001b[38;5;129;01mand\u001b[39;00m \u001b[38;5;28many\u001b[39m(\u001b[38;5;28misinstance\u001b[39m(x, \u001b[38;5;28mslice\u001b[39m) \u001b[38;5;28;01mfor\u001b[39;00m x \u001b[38;5;129;01min\u001b[39;00m casted_key)\n\u001b[1;32m   3810\u001b[0m     ):\n\u001b[1;32m   3811\u001b[0m         \u001b[38;5;28;01mraise\u001b[39;00m InvalidIndexError(key)\n\u001b[0;32m-> 3812\u001b[0m     \u001b[38;5;28;01mraise\u001b[39;00m \u001b[38;5;167;01mKeyError\u001b[39;00m(key) \u001b[38;5;28;01mfrom\u001b[39;00m \u001b[38;5;21;01merr\u001b[39;00m\n\u001b[1;32m   3813\u001b[0m \u001b[38;5;28;01mexcept\u001b[39;00m \u001b[38;5;167;01mTypeError\u001b[39;00m:\n\u001b[1;32m   3814\u001b[0m     \u001b[38;5;66;03m# If we have a listlike key, _check_indexing_error will raise\u001b[39;00m\n\u001b[1;32m   3815\u001b[0m     \u001b[38;5;66;03m#  InvalidIndexError. Otherwise we fall through and re-raise\u001b[39;00m\n\u001b[1;32m   3816\u001b[0m     \u001b[38;5;66;03m#  the TypeError.\u001b[39;00m\n\u001b[1;32m   3817\u001b[0m     \u001b[38;5;28mself\u001b[39m\u001b[38;5;241m.\u001b[39m_check_indexing_error(key)\n",
      "\u001b[0;31mKeyError\u001b[0m: 'offr'"
     ]
    }
   ],
   "source": [
    "data['offr']"
   ]
  },
  {
   "cell_type": "code",
   "execution_count": 48,
   "metadata": {},
   "outputs": [
    {
     "data": {
      "text/plain": [
       "pandas.core.frame.DataFrame"
      ]
     },
     "execution_count": 48,
     "metadata": {},
     "output_type": "execute_result"
    }
   ],
   "source": [
    "pca = PCA()\n",
    "pca.fit(X)"
   ]
  },
  {
   "cell_type": "code",
   "execution_count": 49,
   "metadata": {},
   "outputs": [
    {
     "data": {
      "text/plain": [
       "<bound method DataFrame.isna of       barrier_1 barrier_2 barrier_3 barrier_4 barrier_5 barrier_6 barrier_7  \\\n",
       "0           0.0       0.0       0.0       0.0       0.0       1.0       0.0   \n",
       "1           0.0       0.0       0.0       0.0       0.0       0.0       0.0   \n",
       "2           0.0       0.0       0.0       0.0       0.0       0.0       0.0   \n",
       "3           0.0       0.0       0.0       0.0       0.0       0.0       0.0   \n",
       "4           0.0       0.0       0.0       0.0       1.0       0.0       0.0   \n",
       "...         ...       ...       ...       ...       ...       ...       ...   \n",
       "54106       0.0       0.0       0.0       0.0       1.0       0.0       0.0   \n",
       "54107       0.0       0.0       0.0       0.0       0.0       1.0       0.0   \n",
       "54108       1.0       0.0       0.0       0.0       0.0       0.0       0.0   \n",
       "54109       0.0       1.0       0.0       0.0       0.0       0.0       0.0   \n",
       "54110       0.0       0.0       0.0       0.0       0.0       1.0       0.0   \n",
       "\n",
       "      barrier_8 barrier_9 barrier_10  ... Max Price     BSP 15 Mins 10 mins  \\\n",
       "0           0.0       0.0        0.0  ...    1000.0    7.17     8.2     8.0   \n",
       "1           1.0       0.0        0.0  ...    1000.0  154.66    95.0    90.0   \n",
       "2           0.0       1.0        0.0  ...    1000.0   24.87    24.0    24.0   \n",
       "3           0.0       0.0        0.0  ...    1000.0   150.0   160.0   180.0   \n",
       "4           0.0       0.0        0.0  ...     230.0   14.34    15.0    16.0   \n",
       "...         ...       ...        ...  ...       ...     ...     ...     ...   \n",
       "54106       0.0       0.0        0.0  ...    1000.0    3.25    2.94    3.25   \n",
       "54107       0.0       0.0        0.0  ...    1000.0    12.0     9.8     8.8   \n",
       "54108       0.0       0.0        0.0  ...    1000.0    24.0    21.0    19.5   \n",
       "54109       0.0       0.0        0.0  ...     950.0   12.35    18.0    17.5   \n",
       "54110       0.0       0.0        0.0  ...    1000.0     6.2     5.3     6.2   \n",
       "\n",
       "      5 mins 3 mins 2 mins 1 min  Post Time Last Traded Price  \n",
       "0        7.8    9.2    9.2    7.4       7.0            1000.0  \n",
       "1      120.0  140.0  150.0  180.0     180.0            1000.0  \n",
       "2       25.0   25.0   27.0   23.0      24.0             310.0  \n",
       "3      200.0  200.0  200.0  210.0     160.0            1000.0  \n",
       "4       13.0   14.5   14.0   16.0      13.0              1.23  \n",
       "...      ...    ...    ...    ...       ...               ...  \n",
       "54106   3.15    3.3    3.3    3.2      3.15            1000.0  \n",
       "54107    9.4    8.8    8.0    9.8      10.5            1000.0  \n",
       "54108   27.0   26.0   27.0   25.0      24.0            1000.0  \n",
       "54109   19.0   16.5   16.0   15.5      13.0             950.0  \n",
       "54110    5.7    5.7    6.2    6.0       6.6            1000.0  \n",
       "\n",
       "[54111 rows x 80 columns]>"
      ]
     },
     "execution_count": 49,
     "metadata": {},
     "output_type": "execute_result"
    }
   ],
   "source": [
    "data.isna"
   ]
  },
  {
   "cell_type": "code",
   "execution_count": 30,
   "metadata": {},
   "outputs": [
    {
     "data": {
      "text/plain": [
       "barrier_1            0\n",
       "barrier_2            0\n",
       "barrier_3            0\n",
       "barrier_4            0\n",
       "barrier_5            0\n",
       "                    ..\n",
       "3 mins               0\n",
       "2 mins               0\n",
       "1 min                0\n",
       "Post Time            0\n",
       "Last Traded Price    0\n",
       "Length: 80, dtype: int64"
      ]
     },
     "execution_count": 30,
     "metadata": {},
     "output_type": "execute_result"
    }
   ],
   "source": [
    "df[2].isna().sum()"
   ]
  },
  {
   "cell_type": "code",
   "execution_count": 15,
   "metadata": {},
   "outputs": [
    {
     "data": {
      "text/html": [
       "<div>\n",
       "<style scoped>\n",
       "    .dataframe tbody tr th:only-of-type {\n",
       "        vertical-align: middle;\n",
       "    }\n",
       "\n",
       "    .dataframe tbody tr th {\n",
       "        vertical-align: top;\n",
       "    }\n",
       "\n",
       "    .dataframe thead th {\n",
       "        text-align: right;\n",
       "    }\n",
       "</style>\n",
       "<table border=\"1\" class=\"dataframe\">\n",
       "  <thead>\n",
       "    <tr style=\"text-align: right;\">\n",
       "      <th></th>\n",
       "      <th>date</th>\n",
       "      <th>event_number</th>\n",
       "      <th>distance</th>\n",
       "      <th>race_class</th>\n",
       "      <th>race_class_normalised</th>\n",
       "      <th>total_prize_money</th>\n",
       "      <th>track_condition</th>\n",
       "      <th>race_type</th>\n",
       "      <th>track_type</th>\n",
       "      <th>barrier</th>\n",
       "      <th>...</th>\n",
       "      <th>BSP</th>\n",
       "      <th>15 Mins</th>\n",
       "      <th>10 mins</th>\n",
       "      <th>5 mins</th>\n",
       "      <th>3 mins</th>\n",
       "      <th>2 mins</th>\n",
       "      <th>1 min</th>\n",
       "      <th>Post Time</th>\n",
       "      <th>Last Traded Price</th>\n",
       "      <th>current_age</th>\n",
       "    </tr>\n",
       "  </thead>\n",
       "  <tbody>\n",
       "    <tr>\n",
       "      <th>0</th>\n",
       "      <td>2020-10-05</td>\n",
       "      <td>7</td>\n",
       "      <td>1766</td>\n",
       "      <td>5</td>\n",
       "      <td>Handicap</td>\n",
       "      <td>5445</td>\n",
       "      <td>SOFT</td>\n",
       "      <td>FLAT</td>\n",
       "      <td>TURF</td>\n",
       "      <td>6</td>\n",
       "      <td>...</td>\n",
       "      <td>7.17</td>\n",
       "      <td>8.2</td>\n",
       "      <td>8.0</td>\n",
       "      <td>7.8</td>\n",
       "      <td>9.2</td>\n",
       "      <td>9.2</td>\n",
       "      <td>7.4</td>\n",
       "      <td>7.0</td>\n",
       "      <td>1000.0</td>\n",
       "      <td>7.0</td>\n",
       "    </tr>\n",
       "    <tr>\n",
       "      <th>1</th>\n",
       "      <td>2020-10-05</td>\n",
       "      <td>7</td>\n",
       "      <td>1766</td>\n",
       "      <td>5</td>\n",
       "      <td>Handicap</td>\n",
       "      <td>5445</td>\n",
       "      <td>SOFT</td>\n",
       "      <td>FLAT</td>\n",
       "      <td>TURF</td>\n",
       "      <td>8</td>\n",
       "      <td>...</td>\n",
       "      <td>154.66</td>\n",
       "      <td>95.0</td>\n",
       "      <td>90.0</td>\n",
       "      <td>120.0</td>\n",
       "      <td>140.0</td>\n",
       "      <td>150.0</td>\n",
       "      <td>180.0</td>\n",
       "      <td>180.0</td>\n",
       "      <td>1000.0</td>\n",
       "      <td>5.0</td>\n",
       "    </tr>\n",
       "    <tr>\n",
       "      <th>2</th>\n",
       "      <td>2020-10-05</td>\n",
       "      <td>6</td>\n",
       "      <td>1766</td>\n",
       "      <td>5</td>\n",
       "      <td>Maiden</td>\n",
       "      <td>5410</td>\n",
       "      <td>SOFT</td>\n",
       "      <td>FLAT</td>\n",
       "      <td>TURF</td>\n",
       "      <td>9</td>\n",
       "      <td>...</td>\n",
       "      <td>102.60</td>\n",
       "      <td>60.0</td>\n",
       "      <td>50.0</td>\n",
       "      <td>75.0</td>\n",
       "      <td>80.0</td>\n",
       "      <td>75.0</td>\n",
       "      <td>120.0</td>\n",
       "      <td>110.0</td>\n",
       "      <td>1000.0</td>\n",
       "      <td>5.0</td>\n",
       "    </tr>\n",
       "    <tr>\n",
       "      <th>3</th>\n",
       "      <td>2020-10-05</td>\n",
       "      <td>6</td>\n",
       "      <td>1766</td>\n",
       "      <td>5</td>\n",
       "      <td>Maiden</td>\n",
       "      <td>5410</td>\n",
       "      <td>SOFT</td>\n",
       "      <td>FLAT</td>\n",
       "      <td>TURF</td>\n",
       "      <td>2</td>\n",
       "      <td>...</td>\n",
       "      <td>100.00</td>\n",
       "      <td>85.0</td>\n",
       "      <td>90.0</td>\n",
       "      <td>95.0</td>\n",
       "      <td>90.0</td>\n",
       "      <td>85.0</td>\n",
       "      <td>100.0</td>\n",
       "      <td>100.0</td>\n",
       "      <td>1000.0</td>\n",
       "      <td>4.0</td>\n",
       "    </tr>\n",
       "    <tr>\n",
       "      <th>4</th>\n",
       "      <td>2020-10-05</td>\n",
       "      <td>6</td>\n",
       "      <td>1766</td>\n",
       "      <td>5</td>\n",
       "      <td>Maiden</td>\n",
       "      <td>5410</td>\n",
       "      <td>SOFT</td>\n",
       "      <td>FLAT</td>\n",
       "      <td>TURF</td>\n",
       "      <td>8</td>\n",
       "      <td>...</td>\n",
       "      <td>846.38</td>\n",
       "      <td>510.0</td>\n",
       "      <td>680.0</td>\n",
       "      <td>800.0</td>\n",
       "      <td>960.0</td>\n",
       "      <td>800.0</td>\n",
       "      <td>980.0</td>\n",
       "      <td>1000.0</td>\n",
       "      <td>1000.0</td>\n",
       "      <td>6.0</td>\n",
       "    </tr>\n",
       "  </tbody>\n",
       "</table>\n",
       "<p>5 rows × 42 columns</p>\n",
       "</div>"
      ],
      "text/plain": [
       "        date  event_number  distance  race_class race_class_normalised  \\\n",
       "0 2020-10-05             7      1766           5              Handicap   \n",
       "1 2020-10-05             7      1766           5              Handicap   \n",
       "2 2020-10-05             6      1766           5                Maiden   \n",
       "3 2020-10-05             6      1766           5                Maiden   \n",
       "4 2020-10-05             6      1766           5                Maiden   \n",
       "\n",
       "   total_prize_money track_condition race_type track_type  barrier  ...  \\\n",
       "0               5445            SOFT      FLAT       TURF        6  ...   \n",
       "1               5445            SOFT      FLAT       TURF        8  ...   \n",
       "2               5410            SOFT      FLAT       TURF        9  ...   \n",
       "3               5410            SOFT      FLAT       TURF        2  ...   \n",
       "4               5410            SOFT      FLAT       TURF        8  ...   \n",
       "\n",
       "      BSP  15 Mins  10 mins  5 mins  3 mins  2 mins  1 min   Post Time  \\\n",
       "0    7.17      8.2      8.0     7.8     9.2     9.2     7.4        7.0   \n",
       "1  154.66     95.0     90.0   120.0   140.0   150.0   180.0      180.0   \n",
       "2  102.60     60.0     50.0    75.0    80.0    75.0   120.0      110.0   \n",
       "3  100.00     85.0     90.0    95.0    90.0    85.0   100.0      100.0   \n",
       "4  846.38    510.0    680.0   800.0   960.0   800.0   980.0     1000.0   \n",
       "\n",
       "   Last Traded Price  current_age  \n",
       "0             1000.0          7.0  \n",
       "1             1000.0          5.0  \n",
       "2             1000.0          5.0  \n",
       "3             1000.0          4.0  \n",
       "4             1000.0          6.0  \n",
       "\n",
       "[5 rows x 42 columns]"
      ]
     },
     "execution_count": 15,
     "metadata": {},
     "output_type": "execute_result"
    }
   ],
   "source": [
    "df.head()\n",
    "win_loss_df = pd.DataFrame({''})"
   ]
  },
  {
   "cell_type": "code",
   "execution_count": 18,
   "metadata": {},
   "outputs": [
    {
     "data": {
      "text/plain": [
       "date                          datetime64[ns]\n",
       "event_number                           int64\n",
       "distance                               int64\n",
       "race_class                             int64\n",
       "race_class_normalised                 object\n",
       "total_prize_money                      int64\n",
       "track_condition                       object\n",
       "race_type                             object\n",
       "track_type                            object\n",
       "barrier                                int64\n",
       "finish_position                      float64\n",
       "win_or_lose                          float64\n",
       "margin                               float64\n",
       "gear                                   int64\n",
       "jockey_allowance                     float64\n",
       "handicap_weight                      float64\n",
       "jockey_id                              int64\n",
       "tainer_id                              int64\n",
       "dslr                                 float64\n",
       "official rating                      float64\n",
       "wfa                                  float64\n",
       "weight_adjustment                    float64\n",
       "betfair_starting_price               float64\n",
       "pre_race_master_rating_int           float64\n",
       "starting_price                       float64\n",
       "id_lewagon                            object\n",
       "Date                                  object\n",
       "Place                                 object\n",
       "Runners                              float64\n",
       "OffR                                 float64\n",
       "Min Price                            float64\n",
       "Max Price                            float64\n",
       "BSP                                  float64\n",
       "15 Mins                              float64\n",
       "10 mins                              float64\n",
       "5 mins                               float64\n",
       "3 mins                               float64\n",
       "2 mins                               float64\n",
       "1 min                                float64\n",
       "Post Time                            float64\n",
       "Last Traded Price                    float64\n",
       "current_age                          float64\n",
       "dtype: object"
      ]
     },
     "execution_count": 18,
     "metadata": {},
     "output_type": "execute_result"
    }
   ],
   "source": [
    "df.dtypes"
   ]
  },
  {
   "cell_type": "code",
   "execution_count": 17,
   "metadata": {},
   "outputs": [
    {
     "ename": "ValueError",
     "evalue": "could not convert string to float: 'Handicap'",
     "output_type": "error",
     "traceback": [
      "\u001b[0;31m---------------------------------------------------------------------------\u001b[0m",
      "\u001b[0;31mValueError\u001b[0m                                Traceback (most recent call last)",
      "Cell \u001b[0;32mIn[17], line 1\u001b[0m\n\u001b[0;32m----> 1\u001b[0m correlation_map \u001b[38;5;241m=\u001b[39m \u001b[43mdf\u001b[49m\u001b[38;5;241;43m.\u001b[39;49m\u001b[43mcorr\u001b[49m\u001b[43m(\u001b[49m\u001b[43m)\u001b[49m\n\u001b[1;32m      2\u001b[0m sns\u001b[38;5;241m.\u001b[39mheatmap(correlation_map)\n",
      "File \u001b[0;32m~/.pyenv/versions/3.10.6/envs/which_horse/lib/python3.10/site-packages/pandas/core/frame.py:11036\u001b[0m, in \u001b[0;36mDataFrame.corr\u001b[0;34m(self, method, min_periods, numeric_only)\u001b[0m\n\u001b[1;32m  11034\u001b[0m cols \u001b[38;5;241m=\u001b[39m data\u001b[38;5;241m.\u001b[39mcolumns\n\u001b[1;32m  11035\u001b[0m idx \u001b[38;5;241m=\u001b[39m cols\u001b[38;5;241m.\u001b[39mcopy()\n\u001b[0;32m> 11036\u001b[0m mat \u001b[38;5;241m=\u001b[39m \u001b[43mdata\u001b[49m\u001b[38;5;241;43m.\u001b[39;49m\u001b[43mto_numpy\u001b[49m\u001b[43m(\u001b[49m\u001b[43mdtype\u001b[49m\u001b[38;5;241;43m=\u001b[39;49m\u001b[38;5;28;43mfloat\u001b[39;49m\u001b[43m,\u001b[49m\u001b[43m \u001b[49m\u001b[43mna_value\u001b[49m\u001b[38;5;241;43m=\u001b[39;49m\u001b[43mnp\u001b[49m\u001b[38;5;241;43m.\u001b[39;49m\u001b[43mnan\u001b[49m\u001b[43m,\u001b[49m\u001b[43m \u001b[49m\u001b[43mcopy\u001b[49m\u001b[38;5;241;43m=\u001b[39;49m\u001b[38;5;28;43;01mFalse\u001b[39;49;00m\u001b[43m)\u001b[49m\n\u001b[1;32m  11038\u001b[0m \u001b[38;5;28;01mif\u001b[39;00m method \u001b[38;5;241m==\u001b[39m \u001b[38;5;124m\"\u001b[39m\u001b[38;5;124mpearson\u001b[39m\u001b[38;5;124m\"\u001b[39m:\n\u001b[1;32m  11039\u001b[0m     correl \u001b[38;5;241m=\u001b[39m libalgos\u001b[38;5;241m.\u001b[39mnancorr(mat, minp\u001b[38;5;241m=\u001b[39mmin_periods)\n",
      "File \u001b[0;32m~/.pyenv/versions/3.10.6/envs/which_horse/lib/python3.10/site-packages/pandas/core/frame.py:1981\u001b[0m, in \u001b[0;36mDataFrame.to_numpy\u001b[0;34m(self, dtype, copy, na_value)\u001b[0m\n\u001b[1;32m   1979\u001b[0m \u001b[38;5;28;01mif\u001b[39;00m dtype \u001b[38;5;129;01mis\u001b[39;00m \u001b[38;5;129;01mnot\u001b[39;00m \u001b[38;5;28;01mNone\u001b[39;00m:\n\u001b[1;32m   1980\u001b[0m     dtype \u001b[38;5;241m=\u001b[39m np\u001b[38;5;241m.\u001b[39mdtype(dtype)\n\u001b[0;32m-> 1981\u001b[0m result \u001b[38;5;241m=\u001b[39m \u001b[38;5;28;43mself\u001b[39;49m\u001b[38;5;241;43m.\u001b[39;49m\u001b[43m_mgr\u001b[49m\u001b[38;5;241;43m.\u001b[39;49m\u001b[43mas_array\u001b[49m\u001b[43m(\u001b[49m\u001b[43mdtype\u001b[49m\u001b[38;5;241;43m=\u001b[39;49m\u001b[43mdtype\u001b[49m\u001b[43m,\u001b[49m\u001b[43m \u001b[49m\u001b[43mcopy\u001b[49m\u001b[38;5;241;43m=\u001b[39;49m\u001b[43mcopy\u001b[49m\u001b[43m,\u001b[49m\u001b[43m \u001b[49m\u001b[43mna_value\u001b[49m\u001b[38;5;241;43m=\u001b[39;49m\u001b[43mna_value\u001b[49m\u001b[43m)\u001b[49m\n\u001b[1;32m   1982\u001b[0m \u001b[38;5;28;01mif\u001b[39;00m result\u001b[38;5;241m.\u001b[39mdtype \u001b[38;5;129;01mis\u001b[39;00m \u001b[38;5;129;01mnot\u001b[39;00m dtype:\n\u001b[1;32m   1983\u001b[0m     result \u001b[38;5;241m=\u001b[39m np\u001b[38;5;241m.\u001b[39marray(result, dtype\u001b[38;5;241m=\u001b[39mdtype, copy\u001b[38;5;241m=\u001b[39m\u001b[38;5;28;01mFalse\u001b[39;00m)\n",
      "File \u001b[0;32m~/.pyenv/versions/3.10.6/envs/which_horse/lib/python3.10/site-packages/pandas/core/internals/managers.py:1692\u001b[0m, in \u001b[0;36mBlockManager.as_array\u001b[0;34m(self, dtype, copy, na_value)\u001b[0m\n\u001b[1;32m   1690\u001b[0m         arr\u001b[38;5;241m.\u001b[39mflags\u001b[38;5;241m.\u001b[39mwriteable \u001b[38;5;241m=\u001b[39m \u001b[38;5;28;01mFalse\u001b[39;00m\n\u001b[1;32m   1691\u001b[0m \u001b[38;5;28;01melse\u001b[39;00m:\n\u001b[0;32m-> 1692\u001b[0m     arr \u001b[38;5;241m=\u001b[39m \u001b[38;5;28;43mself\u001b[39;49m\u001b[38;5;241;43m.\u001b[39;49m\u001b[43m_interleave\u001b[49m\u001b[43m(\u001b[49m\u001b[43mdtype\u001b[49m\u001b[38;5;241;43m=\u001b[39;49m\u001b[43mdtype\u001b[49m\u001b[43m,\u001b[49m\u001b[43m \u001b[49m\u001b[43mna_value\u001b[49m\u001b[38;5;241;43m=\u001b[39;49m\u001b[43mna_value\u001b[49m\u001b[43m)\u001b[49m\n\u001b[1;32m   1693\u001b[0m     \u001b[38;5;66;03m# The underlying data was copied within _interleave, so no need\u001b[39;00m\n\u001b[1;32m   1694\u001b[0m     \u001b[38;5;66;03m# to further copy if copy=True or setting na_value\u001b[39;00m\n\u001b[1;32m   1696\u001b[0m \u001b[38;5;28;01mif\u001b[39;00m na_value \u001b[38;5;129;01mis\u001b[39;00m lib\u001b[38;5;241m.\u001b[39mno_default:\n",
      "File \u001b[0;32m~/.pyenv/versions/3.10.6/envs/which_horse/lib/python3.10/site-packages/pandas/core/internals/managers.py:1751\u001b[0m, in \u001b[0;36mBlockManager._interleave\u001b[0;34m(self, dtype, na_value)\u001b[0m\n\u001b[1;32m   1749\u001b[0m     \u001b[38;5;28;01melse\u001b[39;00m:\n\u001b[1;32m   1750\u001b[0m         arr \u001b[38;5;241m=\u001b[39m blk\u001b[38;5;241m.\u001b[39mget_values(dtype)\n\u001b[0;32m-> 1751\u001b[0m     \u001b[43mresult\u001b[49m\u001b[43m[\u001b[49m\u001b[43mrl\u001b[49m\u001b[38;5;241;43m.\u001b[39;49m\u001b[43mindexer\u001b[49m\u001b[43m]\u001b[49m \u001b[38;5;241m=\u001b[39m arr\n\u001b[1;32m   1752\u001b[0m     itemmask[rl\u001b[38;5;241m.\u001b[39mindexer] \u001b[38;5;241m=\u001b[39m \u001b[38;5;241m1\u001b[39m\n\u001b[1;32m   1754\u001b[0m \u001b[38;5;28;01mif\u001b[39;00m \u001b[38;5;129;01mnot\u001b[39;00m itemmask\u001b[38;5;241m.\u001b[39mall():\n",
      "\u001b[0;31mValueError\u001b[0m: could not convert string to float: 'Handicap'"
     ]
    }
   ],
   "source": [
    "correlation_map = df.corr()\n",
    "sns.heatmap(correlation_map)"
   ]
  },
  {
   "cell_type": "code",
   "execution_count": null,
   "metadata": {},
   "outputs": [],
   "source": []
  }
 ],
 "metadata": {
  "kernelspec": {
   "display_name": "which_horse",
   "language": "python",
   "name": "python3"
  },
  "language_info": {
   "codemirror_mode": {
    "name": "ipython",
    "version": 3
   },
   "file_extension": ".py",
   "mimetype": "text/x-python",
   "name": "python",
   "nbconvert_exporter": "python",
   "pygments_lexer": "ipython3",
   "version": "3.10.6"
  }
 },
 "nbformat": 4,
 "nbformat_minor": 2
}
