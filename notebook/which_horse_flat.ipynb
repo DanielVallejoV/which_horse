{
  "cells": [
    {
      "cell_type": "code",
      "execution_count": 2,
      "metadata": {
        "id": "XLLtV6rOfQyh"
      },
      "outputs": [],
      "source": [
        "import pandas as pd\n",
        "import seaborn as sns\n",
        "import matplotlib.pyplot as plt\n",
        "from sklearn.preprocessing import OneHotEncoder, LabelEncoder\n",
        "from sklearn.impute import KNNImputer\n",
        "import numpy as np\n"
      ]
    },
    {
      "cell_type": "code",
      "execution_count": 6,
      "metadata": {
        "colab": {
          "base_uri": "https://localhost:8080/"
        },
        "id": "VcoqCMB_iJdy",
        "outputId": "63696a98-b219-4fd9-d1c8-c30a2246ead6"
      },
      "outputs": [
        {
          "name": "stderr",
          "output_type": "stream",
          "text": [
            "/var/folders/y1/7l27jzt92cs7ljtj5xn5sd3h0000gn/T/ipykernel_19438/449039966.py:4: DtypeWarning: Columns (53,62,71,80,89,98,107,116,122,123) have mixed types. Specify dtype option on import or set low_memory=False.\n",
            "  df = pd.read_csv(file_csv)\n"
          ]
        }
      ],
      "source": [
        "#file_csv = '~/code/amandamor/output/.csv'\n",
        "file_csv = '/Users/jubba/Downloads/merge_dfs.csv'\n",
        "\n",
        "df = pd.read_csv(file_csv)"
      ]
    },
    {
      "cell_type": "code",
      "execution_count": 7,
      "metadata": {
        "id": "TbFZ72t4SZAd"
      },
      "outputs": [
        {
          "name": "stdout",
          "output_type": "stream",
          "text": [
            "Index(['meeting_id', 'meeting_name', 'date', 'country_code', 'event_number',\n",
            "       'distance', 'distance_unit', 'distance_furlongs',\n",
            "       'distance_raw_furlongs', 'race_class',\n",
            "       ...\n",
            "       'Max Price', 'BSP', '15 Mins', '10 mins', '5 mins', '3 mins', '2 mins',\n",
            "       '1 min ', 'Post Time', 'Last Traded Price'],\n",
            "      dtype='object', length=137)\n",
            "182156\n"
          ]
        }
      ],
      "source": [
        "print(df.columns)\n",
        "print(len(df['meeting_id']))"
      ]
    },
    {
      "cell_type": "code",
      "execution_count": 8,
      "metadata": {},
      "outputs": [
        {
          "name": "stdout",
          "output_type": "stream",
          "text": [
            "meeting_id             int64\n",
            "meeting_name          object\n",
            "date                  object\n",
            "country_code          object\n",
            "event_number           int64\n",
            "                      ...   \n",
            "3 mins               float64\n",
            "2 mins               float64\n",
            "1 min                float64\n",
            "Post Time            float64\n",
            "Last Traded Price    float64\n",
            "Length: 137, dtype: object\n"
          ]
        }
      ],
      "source": [
        "print(df.dtypes)"
      ]
    },
    {
      "cell_type": "code",
      "execution_count": 54,
      "metadata": {},
      "outputs": [],
      "source": [
        "df.drop(columns=['run_1_raw_post_race_rating_int', 'run_1_raw_post_race_rating_symbol', 'run_1_final_rating_int',\n",
        "        'run_1_race_type', 'run_1_race_class_normalised', 'run_1_race_class', 'run_1_track_type', 'run_1_win_lose',\n",
        "        'run_1_dsr', 'run_2_raw_post_race_rating_int', 'run_2_raw_post_race_rating_symbol', 'run_2_final_rating_int',\n",
        "        'run_2_race_type', 'run_2_race_class', 'run_2_race_class_normalised', 'run_2_track_type', 'run_2_win_lose',\n",
        "        'run_2_dsr', 'run_3_raw_post_race_rating_int', 'run_3_raw_post_race_rating_symbol', 'run_3_final_rating_int',\n",
        "        'run_3_race_type', 'run_3_race_class', 'run_3_race_class_normalised', 'run_3_track_type', 'run_3_win_lose',\n",
        "        'run_3_dsr', 'run_4_raw_post_race_rating_int', 'run_4_raw_post_race_rating_symbol', 'run_4_final_rating_int',\n",
        "        'run_4_race_type', 'run_4_race_class', 'run_4_race_class_normalised', 'run_4_track_type', 'run_4_win_lose',\n",
        "        'run_4_dsr', 'run_5_raw_post_race_rating_int', 'run_5_raw_post_race_rating_symbol', 'run_5_final_rating_int',\n",
        "        'run_5_race_type', 'run_5_race_class', 'run_5_race_class_normalised', 'run_5_track_type', 'run_5_win_lose',\n",
        "        'run_5_dsr', 'run_6_raw_post_race_rating_int', 'run_6_raw_post_race_rating_symbol', 'run_6_final_rating_int',\n",
        "        'run_6_race_type', 'run_6_race_class', 'run_6_race_class_normalised', 'run_6_track_type', 'run_6_win_lose',\n",
        "        'run_6_dsr', 'run_7_raw_post_race_rating_int', 'run_7_raw_post_race_rating_symbol', 'run_7_final_rating_int',\n",
        "        'run_7_race_type', 'run_7_race_class', 'run_7_race_class_normalised', 'run_7_track_type', 'run_7_win_lose',\n",
        "        'run_7_dsr', 'run_8_raw_post_race_rating_int', 'run_8_raw_post_race_rating_symbol', 'run_8_final_rating_int',\n",
        "        'run_8_race_type', 'run_8_race_class', 'run_8_race_class_normalised', 'run_8_track_type', 'run_8_win_lose',\n",
        "        'run_8_dsr'], inplace=True)"
      ]
    },
    {
      "cell_type": "code",
      "execution_count": 55,
      "metadata": {},
      "outputs": [],
      "source": [
        "df.drop(columns=['meeting_name', 'country_code', 'distance_unit','distance_furlongs', 'prize_money_currency', 'jockey_allowance_unit', 'handicap_weight_unit', 'jockey_name', 'trainer_name', 'horse_name', 'pre_race_master_rating_symbol', 'post_race_master_rating_symbol', 'post_race_master_rating_int', 'bet365_odds', 'pmu_odds'], inplace=True)"
      ]
    },
    {
      "cell_type": "code",
      "execution_count": 56,
      "metadata": {},
      "outputs": [
        {
          "data": {
            "text/plain": [
              "meeting_id                     0.000000\n",
              "weight_adjustment              0.000000\n",
              "wfa                            0.000000\n",
              "birth_date                     0.000000\n",
              "age                            0.000000\n",
              "dam                            0.000000\n",
              "sire                           0.000000\n",
              "horse_id                       0.000000\n",
              "tainer_id                      0.000000\n",
              "jockey_id                      0.000000\n",
              "jockey_allowance               0.000000\n",
              "win_or_lose                    0.000000\n",
              "starting_price                 0.000000\n",
              "total_prize_money              0.000000\n",
              "barrier                        0.000000\n",
              "date                           0.000000\n",
              "event_number                   0.000000\n",
              "distance                       0.000000\n",
              "track_type                     0.000000\n",
              "race_type                      0.000000\n",
              "track_condition                0.000000\n",
              "distance_raw_furlongs          0.000000\n",
              "number                         0.000000\n",
              "race_class                     0.000000\n",
              "handicap_weight                0.000355\n",
              "race_class_normalised          0.177301\n",
              "finish_position                0.377652\n",
              "betfair_starting_price         2.108111\n",
              "dslr                           8.860095\n",
              "margin                        11.304015\n",
              "pre_race_master_rating_int    11.586278\n",
              "official rating               23.478224\n",
              "gear                          73.398793\n",
              "failed_to_finish_reason       99.621285\n",
              "dtype: float64"
            ]
          },
          "execution_count": 56,
          "metadata": {},
          "output_type": "execute_result"
        }
      ],
      "source": [
        "num_nan_per_columns = ((df.isna().sum())/len(df['meeting_id']))*100\n",
        "pd.set_option(\"display.max_rows\", None, \"display.max_columns\", None) #show all the lines\n",
        "num_nan_per_columns.sort_values()"
      ]
    },
    {
      "cell_type": "code",
      "execution_count": 57,
      "metadata": {
        "colab": {
          "base_uri": "https://localhost:8080/"
        },
        "id": "GloxJrvkiQ6y",
        "outputId": "9ab7fc6a-ad87-4d28-9f1e-926bc1806847"
      },
      "outputs": [
        {
          "name": "stdout",
          "output_type": "stream",
          "text": [
            "Index(['meeting_id', 'date', 'event_number', 'distance',\n",
            "       'distance_raw_furlongs', 'race_class', 'race_class_normalised',\n",
            "       'total_prize_money', 'track_condition', 'race_type', 'track_type',\n",
            "       'barrier', 'number', 'finish_position', 'win_or_lose',\n",
            "       'failed_to_finish_reason', 'margin', 'gear', 'jockey_allowance',\n",
            "       'handicap_weight', 'jockey_id', 'tainer_id', 'dslr', 'horse_id', 'sire',\n",
            "       'dam', 'age', 'birth_date', 'official rating', 'wfa',\n",
            "       'weight_adjustment', 'betfair_starting_price',\n",
            "       'pre_race_master_rating_int', 'starting_price'],\n",
            "      dtype='object')\n"
          ]
        }
      ],
      "source": [
        "pd.set_option('display.max_columns', None)\n",
        "print(df.columns)"
      ]
    },
    {
      "cell_type": "code",
      "execution_count": 58,
      "metadata": {
        "colab": {
          "base_uri": "https://localhost:8080/",
          "height": 346
        },
        "id": "do83c8auio-y",
        "outputId": "65c669f1-ba11-4178-abc9-6cc970d8f790"
      },
      "outputs": [
        {
          "data": {
            "text/html": [
              "<div>\n",
              "<style scoped>\n",
              "    .dataframe tbody tr th:only-of-type {\n",
              "        vertical-align: middle;\n",
              "    }\n",
              "\n",
              "    .dataframe tbody tr th {\n",
              "        vertical-align: top;\n",
              "    }\n",
              "\n",
              "    .dataframe thead th {\n",
              "        text-align: right;\n",
              "    }\n",
              "</style>\n",
              "<table border=\"1\" class=\"dataframe\">\n",
              "  <thead>\n",
              "    <tr style=\"text-align: right;\">\n",
              "      <th></th>\n",
              "      <th>meeting_id</th>\n",
              "      <th>event_number</th>\n",
              "      <th>distance</th>\n",
              "      <th>distance_raw_furlongs</th>\n",
              "      <th>race_class</th>\n",
              "      <th>total_prize_money</th>\n",
              "      <th>barrier</th>\n",
              "      <th>number</th>\n",
              "      <th>finish_position</th>\n",
              "      <th>win_or_lose</th>\n",
              "      <th>margin</th>\n",
              "      <th>jockey_allowance</th>\n",
              "      <th>handicap_weight</th>\n",
              "      <th>jockey_id</th>\n",
              "      <th>tainer_id</th>\n",
              "      <th>dslr</th>\n",
              "      <th>horse_id</th>\n",
              "      <th>age</th>\n",
              "      <th>official rating</th>\n",
              "      <th>wfa</th>\n",
              "      <th>weight_adjustment</th>\n",
              "      <th>betfair_starting_price</th>\n",
              "      <th>pre_race_master_rating_int</th>\n",
              "      <th>starting_price</th>\n",
              "    </tr>\n",
              "  </thead>\n",
              "  <tbody>\n",
              "    <tr>\n",
              "      <th>count</th>\n",
              "      <td>282006.000000</td>\n",
              "      <td>282006.000000</td>\n",
              "      <td>282006.000000</td>\n",
              "      <td>282006.000000</td>\n",
              "      <td>282006.000000</td>\n",
              "      <td>2.820060e+05</td>\n",
              "      <td>282006.000000</td>\n",
              "      <td>282006.000000</td>\n",
              "      <td>280941.000000</td>\n",
              "      <td>282006.000000</td>\n",
              "      <td>250128.000000</td>\n",
              "      <td>282006.000000</td>\n",
              "      <td>282005.000000</td>\n",
              "      <td>282006.000000</td>\n",
              "      <td>282006.000000</td>\n",
              "      <td>257020.000000</td>\n",
              "      <td>282006.000000</td>\n",
              "      <td>282006.000000</td>\n",
              "      <td>215796.000000</td>\n",
              "      <td>282006.000000</td>\n",
              "      <td>282006.000000</td>\n",
              "      <td>276061.000000</td>\n",
              "      <td>249332.000000</td>\n",
              "      <td>282006.000000</td>\n",
              "    </tr>\n",
              "    <tr>\n",
              "      <th>mean</th>\n",
              "      <td>22594.636433</td>\n",
              "      <td>4.322873</td>\n",
              "      <td>1864.318302</td>\n",
              "      <td>8.475180</td>\n",
              "      <td>4.560910</td>\n",
              "      <td>1.683738e+04</td>\n",
              "      <td>5.954437</td>\n",
              "      <td>5.972628</td>\n",
              "      <td>5.582724</td>\n",
              "      <td>0.109413</td>\n",
              "      <td>9.679490</td>\n",
              "      <td>0.942824</td>\n",
              "      <td>130.212404</td>\n",
              "      <td>2756.277296</td>\n",
              "      <td>3845.328415</td>\n",
              "      <td>47.105665</td>\n",
              "      <td>93638.993667</td>\n",
              "      <td>4.096395</td>\n",
              "      <td>69.468832</td>\n",
              "      <td>1.000426</td>\n",
              "      <td>10.988557</td>\n",
              "      <td>48.809670</td>\n",
              "      <td>79.678629</td>\n",
              "      <td>22.781181</td>\n",
              "    </tr>\n",
              "    <tr>\n",
              "      <th>std</th>\n",
              "      <td>11994.088579</td>\n",
              "      <td>2.229851</td>\n",
              "      <td>684.125701</td>\n",
              "      <td>3.108891</td>\n",
              "      <td>1.395311</td>\n",
              "      <td>5.282333e+04</td>\n",
              "      <td>3.761377</td>\n",
              "      <td>3.753936</td>\n",
              "      <td>3.502240</td>\n",
              "      <td>0.311969</td>\n",
              "      <td>12.671163</td>\n",
              "      <td>2.005542</td>\n",
              "      <td>7.662582</td>\n",
              "      <td>1647.827340</td>\n",
              "      <td>955.684216</td>\n",
              "      <td>74.252939</td>\n",
              "      <td>59564.085619</td>\n",
              "      <td>2.305529</td>\n",
              "      <td>15.920311</td>\n",
              "      <td>2.952066</td>\n",
              "      <td>6.003173</td>\n",
              "      <td>125.843186</td>\n",
              "      <td>18.341673</td>\n",
              "      <td>35.803016</td>\n",
              "    </tr>\n",
              "    <tr>\n",
              "      <th>min</th>\n",
              "      <td>3668.000000</td>\n",
              "      <td>1.000000</td>\n",
              "      <td>1094.000000</td>\n",
              "      <td>5.000000</td>\n",
              "      <td>1.000000</td>\n",
              "      <td>0.000000e+00</td>\n",
              "      <td>1.000000</td>\n",
              "      <td>1.000000</td>\n",
              "      <td>1.000000</td>\n",
              "      <td>0.000000</td>\n",
              "      <td>0.000000</td>\n",
              "      <td>0.000000</td>\n",
              "      <td>105.000000</td>\n",
              "      <td>2.000000</td>\n",
              "      <td>1580.000000</td>\n",
              "      <td>1.000000</td>\n",
              "      <td>43.000000</td>\n",
              "      <td>2.000000</td>\n",
              "      <td>11.000000</td>\n",
              "      <td>0.000000</td>\n",
              "      <td>-28.000000</td>\n",
              "      <td>1.019670</td>\n",
              "      <td>3.000000</td>\n",
              "      <td>1.010000</td>\n",
              "    </tr>\n",
              "    <tr>\n",
              "      <th>25%</th>\n",
              "      <td>9158.000000</td>\n",
              "      <td>2.000000</td>\n",
              "      <td>1321.000000</td>\n",
              "      <td>6.000000</td>\n",
              "      <td>4.000000</td>\n",
              "      <td>5.311000e+03</td>\n",
              "      <td>3.000000</td>\n",
              "      <td>3.000000</td>\n",
              "      <td>3.000000</td>\n",
              "      <td>0.000000</td>\n",
              "      <td>3.000000</td>\n",
              "      <td>0.000000</td>\n",
              "      <td>126.000000</td>\n",
              "      <td>1183.000000</td>\n",
              "      <td>3540.000000</td>\n",
              "      <td>14.000000</td>\n",
              "      <td>49956.000000</td>\n",
              "      <td>3.000000</td>\n",
              "      <td>57.000000</td>\n",
              "      <td>0.000000</td>\n",
              "      <td>7.000000</td>\n",
              "      <td>6.646550</td>\n",
              "      <td>68.000000</td>\n",
              "      <td>5.500000</td>\n",
              "    </tr>\n",
              "    <tr>\n",
              "      <th>50%</th>\n",
              "      <td>27819.000000</td>\n",
              "      <td>4.000000</td>\n",
              "      <td>1667.000000</td>\n",
              "      <td>7.600000</td>\n",
              "      <td>5.000000</td>\n",
              "      <td>6.797000e+03</td>\n",
              "      <td>5.000000</td>\n",
              "      <td>5.000000</td>\n",
              "      <td>5.000000</td>\n",
              "      <td>0.000000</td>\n",
              "      <td>6.250000</td>\n",
              "      <td>0.000000</td>\n",
              "      <td>130.000000</td>\n",
              "      <td>2957.000000</td>\n",
              "      <td>3771.000000</td>\n",
              "      <td>22.000000</td>\n",
              "      <td>69219.000000</td>\n",
              "      <td>4.000000</td>\n",
              "      <td>68.000000</td>\n",
              "      <td>0.000000</td>\n",
              "      <td>11.000000</td>\n",
              "      <td>13.340571</td>\n",
              "      <td>79.000000</td>\n",
              "      <td>11.000000</td>\n",
              "    </tr>\n",
              "    <tr>\n",
              "      <th>75%</th>\n",
              "      <td>33591.000000</td>\n",
              "      <td>6.000000</td>\n",
              "      <td>2200.000000</td>\n",
              "      <td>10.000000</td>\n",
              "      <td>6.000000</td>\n",
              "      <td>9.935000e+03</td>\n",
              "      <td>8.000000</td>\n",
              "      <td>8.000000</td>\n",
              "      <td>8.000000</td>\n",
              "      <td>0.000000</td>\n",
              "      <td>11.550000</td>\n",
              "      <td>0.000000</td>\n",
              "      <td>133.000000</td>\n",
              "      <td>3986.000000</td>\n",
              "      <td>4005.000000</td>\n",
              "      <td>39.000000</td>\n",
              "      <td>160435.000000</td>\n",
              "      <td>5.000000</td>\n",
              "      <td>80.000000</td>\n",
              "      <td>0.000000</td>\n",
              "      <td>14.000000</td>\n",
              "      <td>32.000000</td>\n",
              "      <td>91.000000</td>\n",
              "      <td>23.000000</td>\n",
              "    </tr>\n",
              "    <tr>\n",
              "      <th>max</th>\n",
              "      <td>37996.000000</td>\n",
              "      <td>10.000000</td>\n",
              "      <td>4763.000000</td>\n",
              "      <td>21.600000</td>\n",
              "      <td>7.000000</td>\n",
              "      <td>1.598514e+06</td>\n",
              "      <td>37.000000</td>\n",
              "      <td>37.000000</td>\n",
              "      <td>34.000000</td>\n",
              "      <td>1.000000</td>\n",
              "      <td>290.500000</td>\n",
              "      <td>10.000000</td>\n",
              "      <td>169.000000</td>\n",
              "      <td>9840.000000</td>\n",
              "      <td>8173.000000</td>\n",
              "      <td>1935.000000</td>\n",
              "      <td>216166.000000</td>\n",
              "      <td>122.000000</td>\n",
              "      <td>139.000000</td>\n",
              "      <td>25.000000</td>\n",
              "      <td>35.000000</td>\n",
              "      <td>1000.000000</td>\n",
              "      <td>169.000000</td>\n",
              "      <td>501.000000</td>\n",
              "    </tr>\n",
              "  </tbody>\n",
              "</table>\n",
              "</div>"
            ],
            "text/plain": [
              "          meeting_id   event_number       distance  distance_raw_furlongs  \\\n",
              "count  282006.000000  282006.000000  282006.000000          282006.000000   \n",
              "mean    22594.636433       4.322873    1864.318302               8.475180   \n",
              "std     11994.088579       2.229851     684.125701               3.108891   \n",
              "min      3668.000000       1.000000    1094.000000               5.000000   \n",
              "25%      9158.000000       2.000000    1321.000000               6.000000   \n",
              "50%     27819.000000       4.000000    1667.000000               7.600000   \n",
              "75%     33591.000000       6.000000    2200.000000              10.000000   \n",
              "max     37996.000000      10.000000    4763.000000              21.600000   \n",
              "\n",
              "          race_class  total_prize_money        barrier         number  \\\n",
              "count  282006.000000       2.820060e+05  282006.000000  282006.000000   \n",
              "mean        4.560910       1.683738e+04       5.954437       5.972628   \n",
              "std         1.395311       5.282333e+04       3.761377       3.753936   \n",
              "min         1.000000       0.000000e+00       1.000000       1.000000   \n",
              "25%         4.000000       5.311000e+03       3.000000       3.000000   \n",
              "50%         5.000000       6.797000e+03       5.000000       5.000000   \n",
              "75%         6.000000       9.935000e+03       8.000000       8.000000   \n",
              "max         7.000000       1.598514e+06      37.000000      37.000000   \n",
              "\n",
              "       finish_position    win_or_lose         margin  jockey_allowance  \\\n",
              "count    280941.000000  282006.000000  250128.000000     282006.000000   \n",
              "mean          5.582724       0.109413       9.679490          0.942824   \n",
              "std           3.502240       0.311969      12.671163          2.005542   \n",
              "min           1.000000       0.000000       0.000000          0.000000   \n",
              "25%           3.000000       0.000000       3.000000          0.000000   \n",
              "50%           5.000000       0.000000       6.250000          0.000000   \n",
              "75%           8.000000       0.000000      11.550000          0.000000   \n",
              "max          34.000000       1.000000     290.500000         10.000000   \n",
              "\n",
              "       handicap_weight      jockey_id      tainer_id           dslr  \\\n",
              "count    282005.000000  282006.000000  282006.000000  257020.000000   \n",
              "mean        130.212404    2756.277296    3845.328415      47.105665   \n",
              "std           7.662582    1647.827340     955.684216      74.252939   \n",
              "min         105.000000       2.000000    1580.000000       1.000000   \n",
              "25%         126.000000    1183.000000    3540.000000      14.000000   \n",
              "50%         130.000000    2957.000000    3771.000000      22.000000   \n",
              "75%         133.000000    3986.000000    4005.000000      39.000000   \n",
              "max         169.000000    9840.000000    8173.000000    1935.000000   \n",
              "\n",
              "            horse_id            age  official rating            wfa  \\\n",
              "count  282006.000000  282006.000000    215796.000000  282006.000000   \n",
              "mean    93638.993667       4.096395        69.468832       1.000426   \n",
              "std     59564.085619       2.305529        15.920311       2.952066   \n",
              "min        43.000000       2.000000        11.000000       0.000000   \n",
              "25%     49956.000000       3.000000        57.000000       0.000000   \n",
              "50%     69219.000000       4.000000        68.000000       0.000000   \n",
              "75%    160435.000000       5.000000        80.000000       0.000000   \n",
              "max    216166.000000     122.000000       139.000000      25.000000   \n",
              "\n",
              "       weight_adjustment  betfair_starting_price  pre_race_master_rating_int  \\\n",
              "count      282006.000000           276061.000000               249332.000000   \n",
              "mean           10.988557               48.809670                   79.678629   \n",
              "std             6.003173              125.843186                   18.341673   \n",
              "min           -28.000000                1.019670                    3.000000   \n",
              "25%             7.000000                6.646550                   68.000000   \n",
              "50%            11.000000               13.340571                   79.000000   \n",
              "75%            14.000000               32.000000                   91.000000   \n",
              "max            35.000000             1000.000000                  169.000000   \n",
              "\n",
              "       starting_price  \n",
              "count   282006.000000  \n",
              "mean        22.781181  \n",
              "std         35.803016  \n",
              "min          1.010000  \n",
              "25%          5.500000  \n",
              "50%         11.000000  \n",
              "75%         23.000000  \n",
              "max        501.000000  "
            ]
          },
          "execution_count": 58,
          "metadata": {},
          "output_type": "execute_result"
        }
      ],
      "source": [
        "df.describe()"
      ]
    },
    {
      "cell_type": "code",
      "execution_count": 59,
      "metadata": {
        "id": "SAneYHijUXEm"
      },
      "outputs": [],
      "source": [
        "df['gear'] = df['gear'].apply(lambda x: 0 if pd.isna(x) else 1)"
      ]
    },
    {
      "cell_type": "code",
      "execution_count": 60,
      "metadata": {},
      "outputs": [],
      "source": [
        "df['track_type'] = df['track_type'].apply(lambda x: 1 if x == 'TURF' else 0 if not pd.isna(x) else x)\n",
        "# df['run_1_track_type'] = df['run_1_track_type'].apply(lambda x: 1 if x == 'TURF' else 0 if not pd.isna(x) else x)\n",
        "# df['run_2_track_type'] = df['run_2_track_type'].apply(lambda x: 1 if x == 'TURF' else 0 if not pd.isna(x) else x)\n",
        "# df['run_3_track_type'] = df['run_3_track_type'].apply(lambda x: 1 if x == 'TURF' else 0 if not pd.isna(x) else x)\n",
        "# df['run_4_track_type'] = df['run_4_track_type'].apply(lambda x: 1 if x == 'TURF' else 0 if not pd.isna(x) else x)\n",
        "# df['run_5_track_type'] = df['run_5_track_type'].apply(lambda x: 1 if x == 'TURF' else 0 if not pd.isna(x) else x)\n"
      ]
    },
    {
      "cell_type": "code",
      "execution_count": 61,
      "metadata": {},
      "outputs": [],
      "source": [
        "df['failed_to_finish_reason'] = df['failed_to_finish_reason'].apply(lambda x: 0 if pd.isna(x) else 1)\n",
        "# se ele nao terminou eu posso colocar a distancia da corrida na parte da distancia do primeiro"
      ]
    },
    {
      "cell_type": "code",
      "execution_count": 62,
      "metadata": {},
      "outputs": [],
      "source": [
        "df['margin'] = df.apply(lambda row: row['distance'] if pd.isna(row['margin']) and (row['win_or_lose'] == 1 or row['failed_to_finish_reason'] == 1) else row['margin'], axis=1)\n"
      ]
    },
    {
      "cell_type": "code",
      "execution_count": 63,
      "metadata": {},
      "outputs": [],
      "source": [
        "track_condition_ohe = OneHotEncoder(sparse_output = False)\n",
        "\n",
        "# Fit encoder\n",
        "track_condition_ohe.fit(df[['track_condition']])\n",
        "track_condition_ohe.get_feature_names_out()\n",
        "df[track_condition_ohe.get_feature_names_out()] = track_condition_ohe.transform(df[['track_condition']])\n",
        "df.drop(columns=['track_condition'], inplace=True)\n"
      ]
    },
    {
      "cell_type": "code",
      "execution_count": 64,
      "metadata": {},
      "outputs": [],
      "source": [
        "race_type_ohe = OneHotEncoder(sparse_output = False)\n",
        "\n",
        "# Fit encoder\n",
        "race_type_ohe.fit(df[['race_type']])\n",
        "race_type_ohe.get_feature_names_out()\n",
        "df[race_type_ohe.get_feature_names_out()] = race_type_ohe.transform(df[['race_type']])\n",
        "df.drop(columns=['race_type'], inplace=True)"
      ]
    },
    {
      "cell_type": "code",
      "execution_count": 65,
      "metadata": {},
      "outputs": [],
      "source": [
        "race_class_ohe = OneHotEncoder(sparse_output = False)\n",
        "\n",
        "# Fit encoder\n",
        "race_class_ohe.fit(df[['race_class', 'race_class_normalised']])\n",
        "race_class_ohe.get_feature_names_out()\n",
        "df[race_class_ohe.get_feature_names_out()] = race_class_ohe.transform(df[['race_class', 'race_class_normalised']])\n",
        "df.drop(columns=['race_class', 'race_class_normalised'], inplace=True)"
      ]
    },
    {
      "cell_type": "code",
      "execution_count": 66,
      "metadata": {},
      "outputs": [
        {
          "name": "stdout",
          "output_type": "stream",
          "text": [
            "Index(['meeting_id', 'date', 'event_number', 'distance',\n",
            "       'distance_raw_furlongs', 'total_prize_money', 'track_type', 'barrier',\n",
            "       'number', 'finish_position', 'win_or_lose', 'failed_to_finish_reason',\n",
            "       'margin', 'gear', 'jockey_allowance', 'handicap_weight', 'jockey_id',\n",
            "       'tainer_id', 'dslr', 'horse_id', 'sire', 'dam', 'age', 'birth_date',\n",
            "       'official rating', 'wfa', 'weight_adjustment', 'betfair_starting_price',\n",
            "       'pre_race_master_rating_int', 'starting_price', 'track_condition_FAST',\n",
            "       'track_condition_FIRM', 'track_condition_GOOD',\n",
            "       'track_condition_GOOD TO FIRM', 'track_condition_GOOD TO SOFT',\n",
            "       'track_condition_GOOD TO YIELDING', 'track_condition_HEAVY',\n",
            "       'track_condition_SLOW', 'track_condition_SOFT',\n",
            "       'track_condition_STANDARD', 'track_condition_STANDARD TO FAST',\n",
            "       'track_condition_STANDARD TO SLOW', 'race_type_FLAT',\n",
            "       'race_type_NATIONAL_HUNT_FLAT', 'race_class_1', 'race_class_2',\n",
            "       'race_class_3', 'race_class_4', 'race_class_5', 'race_class_6',\n",
            "       'race_class_7', 'race_class_normalised_Claiming',\n",
            "       'race_class_normalised_Conditions', 'race_class_normalised_Grade 1',\n",
            "       'race_class_normalised_Grade 2', 'race_class_normalised_Group 1',\n",
            "       'race_class_normalised_Group 2', 'race_class_normalised_Group 3',\n",
            "       'race_class_normalised_Handicap', 'race_class_normalised_Listed',\n",
            "       'race_class_normalised_Maiden', 'race_class_normalised_NHF',\n",
            "       'race_class_normalised_Novice', 'race_class_normalised_Selling',\n",
            "       'race_class_normalised_nan'],\n",
            "      dtype='object')\n"
          ]
        }
      ],
      "source": [
        "pd.set_option('display.max_columns', None)\n",
        "print(df.columns)"
      ]
    },
    {
      "cell_type": "code",
      "execution_count": 67,
      "metadata": {},
      "outputs": [],
      "source": [
        "df['date'] = pd.to_datetime(df['date'])\n",
        "df['birth_date'] = pd.to_datetime(df['birth_date'])"
      ]
    },
    {
      "cell_type": "code",
      "execution_count": 68,
      "metadata": {},
      "outputs": [
        {
          "data": {
            "text/plain": [
              "meeting_id                           0.000000\n",
              "track_condition_GOOD TO SOFT         0.000000\n",
              "track_condition_GOOD TO YIELDING     0.000000\n",
              "track_condition_HEAVY                0.000000\n",
              "track_condition_SLOW                 0.000000\n",
              "track_condition_SOFT                 0.000000\n",
              "track_condition_STANDARD             0.000000\n",
              "track_condition_STANDARD TO FAST     0.000000\n",
              "track_condition_STANDARD TO SLOW     0.000000\n",
              "race_type_FLAT                       0.000000\n",
              "race_type_NATIONAL_HUNT_FLAT         0.000000\n",
              "race_class_1                         0.000000\n",
              "race_class_2                         0.000000\n",
              "race_class_3                         0.000000\n",
              "race_class_4                         0.000000\n",
              "race_class_5                         0.000000\n",
              "race_class_6                         0.000000\n",
              "race_class_7                         0.000000\n",
              "race_class_normalised_Claiming       0.000000\n",
              "race_class_normalised_Conditions     0.000000\n",
              "race_class_normalised_Grade 1        0.000000\n",
              "race_class_normalised_Grade 2        0.000000\n",
              "race_class_normalised_Group 1        0.000000\n",
              "race_class_normalised_Group 2        0.000000\n",
              "race_class_normalised_Group 3        0.000000\n",
              "race_class_normalised_Handicap       0.000000\n",
              "race_class_normalised_Listed         0.000000\n",
              "race_class_normalised_Maiden         0.000000\n",
              "race_class_normalised_NHF            0.000000\n",
              "race_class_normalised_Novice         0.000000\n",
              "track_condition_GOOD TO FIRM         0.000000\n",
              "race_class_normalised_Selling        0.000000\n",
              "track_condition_GOOD                 0.000000\n",
              "track_condition_FAST                 0.000000\n",
              "date                                 0.000000\n",
              "event_number                         0.000000\n",
              "distance                             0.000000\n",
              "distance_raw_furlongs                0.000000\n",
              "total_prize_money                    0.000000\n",
              "track_type                           0.000000\n",
              "barrier                              0.000000\n",
              "number                               0.000000\n",
              "win_or_lose                          0.000000\n",
              "failed_to_finish_reason              0.000000\n",
              "gear                                 0.000000\n",
              "jockey_allowance                     0.000000\n",
              "track_condition_FIRM                 0.000000\n",
              "race_class_normalised_nan            0.000000\n",
              "tainer_id                            0.000000\n",
              "starting_price                       0.000000\n",
              "weight_adjustment                    0.000000\n",
              "wfa                                  0.000000\n",
              "jockey_id                            0.000000\n",
              "age                                  0.000000\n",
              "birth_date                           0.000000\n",
              "dam                                  0.000000\n",
              "sire                                 0.000000\n",
              "horse_id                             0.000000\n",
              "handicap_weight                      0.000355\n",
              "margin                               0.047871\n",
              "finish_position                      0.377652\n",
              "betfair_starting_price               2.108111\n",
              "dslr                                 8.860095\n",
              "pre_race_master_rating_int          11.586278\n",
              "official rating                     23.478224\n",
              "dtype: float64"
            ]
          },
          "execution_count": 68,
          "metadata": {},
          "output_type": "execute_result"
        }
      ],
      "source": [
        "num_nan_per_columns = ((df.isna().sum())/len(df['meeting_id']))*100\n",
        "pd.set_option(\"display.max_rows\", None, \"display.max_columns\", None) #show all the lines\n",
        "num_nan_per_columns.sort_values()"
      ]
    },
    {
      "cell_type": "code",
      "execution_count": 69,
      "metadata": {},
      "outputs": [],
      "source": [
        "df['life_days'] = (df['date'] - df['birth_date']).dt.days\n",
        "df['current_age'] = (df['life_days'] % 365) // 30"
      ]
    },
    {
      "cell_type": "code",
      "execution_count": 70,
      "metadata": {},
      "outputs": [],
      "source": [
        "df.drop(columns=['sire', 'dam'], inplace=True)"
      ]
    },
    {
      "cell_type": "code",
      "execution_count": 71,
      "metadata": {},
      "outputs": [
        {
          "name": "stdout",
          "output_type": "stream",
          "text": [
            "meeting_id                                   int64\n",
            "date                                datetime64[ns]\n",
            "event_number                                 int64\n",
            "distance                                     int64\n",
            "distance_raw_furlongs                      float64\n",
            "total_prize_money                            int64\n",
            "track_type                                   int64\n",
            "barrier                                      int64\n",
            "number                                       int64\n",
            "finish_position                            float64\n",
            "win_or_lose                                float64\n",
            "failed_to_finish_reason                      int64\n",
            "margin                                     float64\n",
            "gear                                         int64\n",
            "jockey_allowance                           float64\n",
            "handicap_weight                            float64\n",
            "jockey_id                                    int64\n",
            "tainer_id                                    int64\n",
            "dslr                                       float64\n",
            "horse_id                                     int64\n",
            "age                                          int64\n",
            "birth_date                          datetime64[ns]\n",
            "official rating                            float64\n",
            "wfa                                        float64\n",
            "weight_adjustment                          float64\n",
            "betfair_starting_price                     float64\n",
            "pre_race_master_rating_int                 float64\n",
            "starting_price                             float64\n",
            "track_condition_FAST                       float64\n",
            "track_condition_FIRM                       float64\n",
            "track_condition_GOOD                       float64\n",
            "track_condition_GOOD TO FIRM               float64\n",
            "track_condition_GOOD TO SOFT               float64\n",
            "track_condition_GOOD TO YIELDING           float64\n",
            "track_condition_HEAVY                      float64\n",
            "track_condition_SLOW                       float64\n",
            "track_condition_SOFT                       float64\n",
            "track_condition_STANDARD                   float64\n",
            "track_condition_STANDARD TO FAST           float64\n",
            "track_condition_STANDARD TO SLOW           float64\n",
            "race_type_FLAT                             float64\n",
            "race_type_NATIONAL_HUNT_FLAT               float64\n",
            "race_class_1                               float64\n",
            "race_class_2                               float64\n",
            "race_class_3                               float64\n",
            "race_class_4                               float64\n",
            "race_class_5                               float64\n",
            "race_class_6                               float64\n",
            "race_class_7                               float64\n",
            "race_class_normalised_Claiming             float64\n",
            "race_class_normalised_Conditions           float64\n",
            "race_class_normalised_Grade 1              float64\n",
            "race_class_normalised_Grade 2              float64\n",
            "race_class_normalised_Group 1              float64\n",
            "race_class_normalised_Group 2              float64\n",
            "race_class_normalised_Group 3              float64\n",
            "race_class_normalised_Handicap             float64\n",
            "race_class_normalised_Listed               float64\n",
            "race_class_normalised_Maiden               float64\n",
            "race_class_normalised_NHF                  float64\n",
            "race_class_normalised_Novice               float64\n",
            "race_class_normalised_Selling              float64\n",
            "race_class_normalised_nan                  float64\n",
            "life_days                                    int64\n",
            "current_age                                  int64\n",
            "dtype: object\n",
            "Index(['meeting_id', 'date', 'event_number', 'distance',\n",
            "       'distance_raw_furlongs', 'total_prize_money', 'track_type', 'barrier',\n",
            "       'number', 'finish_position', 'win_or_lose', 'failed_to_finish_reason',\n",
            "       'margin', 'gear', 'jockey_allowance', 'handicap_weight', 'jockey_id',\n",
            "       'tainer_id', 'dslr', 'horse_id', 'age', 'birth_date', 'official rating',\n",
            "       'wfa', 'weight_adjustment', 'betfair_starting_price',\n",
            "       'pre_race_master_rating_int', 'starting_price', 'track_condition_FAST',\n",
            "       'track_condition_FIRM', 'track_condition_GOOD',\n",
            "       'track_condition_GOOD TO FIRM', 'track_condition_GOOD TO SOFT',\n",
            "       'track_condition_GOOD TO YIELDING', 'track_condition_HEAVY',\n",
            "       'track_condition_SLOW', 'track_condition_SOFT',\n",
            "       'track_condition_STANDARD', 'track_condition_STANDARD TO FAST',\n",
            "       'track_condition_STANDARD TO SLOW', 'race_type_FLAT',\n",
            "       'race_type_NATIONAL_HUNT_FLAT', 'race_class_1', 'race_class_2',\n",
            "       'race_class_3', 'race_class_4', 'race_class_5', 'race_class_6',\n",
            "       'race_class_7', 'race_class_normalised_Claiming',\n",
            "       'race_class_normalised_Conditions', 'race_class_normalised_Grade 1',\n",
            "       'race_class_normalised_Grade 2', 'race_class_normalised_Group 1',\n",
            "       'race_class_normalised_Group 2', 'race_class_normalised_Group 3',\n",
            "       'race_class_normalised_Handicap', 'race_class_normalised_Listed',\n",
            "       'race_class_normalised_Maiden', 'race_class_normalised_NHF',\n",
            "       'race_class_normalised_Novice', 'race_class_normalised_Selling',\n",
            "       'race_class_normalised_nan', 'life_days', 'current_age'],\n",
            "      dtype='object')\n",
            "282006\n"
          ]
        }
      ],
      "source": [
        "print(df.dtypes)\n",
        "print(df.columns)\n",
        "print(len(df['meeting_id']))"
      ]
    },
    {
      "cell_type": "code",
      "execution_count": 72,
      "metadata": {},
      "outputs": [
        {
          "name": "stdout",
          "output_type": "stream",
          "text": [
            "215796\n"
          ]
        }
      ],
      "source": [
        "df_new = df.dropna(subset=['official rating'])\n",
        "print(len(df_new['meeting_id']))"
      ]
    },
    {
      "cell_type": "code",
      "execution_count": 73,
      "metadata": {},
      "outputs": [
        {
          "name": "stdout",
          "output_type": "stream",
          "text": [
            "211704\n"
          ]
        }
      ],
      "source": [
        "df_new = df_new.dropna(subset=['pre_race_master_rating_int'])\n",
        "print(len(df_new['meeting_id']))"
      ]
    },
    {
      "cell_type": "code",
      "execution_count": 74,
      "metadata": {},
      "outputs": [
        {
          "name": "stdout",
          "output_type": "stream",
          "text": [
            "207214\n"
          ]
        }
      ],
      "source": [
        "df_new = df_new.dropna(subset=['betfair_starting_price'])\n",
        "print(len(df_new['meeting_id']))"
      ]
    },
    {
      "cell_type": "code",
      "execution_count": 75,
      "metadata": {},
      "outputs": [
        {
          "data": {
            "text/plain": [
              "meeting_id                          0.000000\n",
              "track_condition_HEAVY               0.000000\n",
              "track_condition_SLOW                0.000000\n",
              "track_condition_SOFT                0.000000\n",
              "track_condition_STANDARD            0.000000\n",
              "track_condition_STANDARD TO FAST    0.000000\n",
              "track_condition_STANDARD TO SLOW    0.000000\n",
              "race_type_FLAT                      0.000000\n",
              "race_type_NATIONAL_HUNT_FLAT        0.000000\n",
              "race_class_1                        0.000000\n",
              "race_class_2                        0.000000\n",
              "race_class_3                        0.000000\n",
              "race_class_4                        0.000000\n",
              "race_class_5                        0.000000\n",
              "race_class_6                        0.000000\n",
              "race_class_7                        0.000000\n",
              "race_class_normalised_Claiming      0.000000\n",
              "race_class_normalised_Conditions    0.000000\n",
              "race_class_normalised_Grade 1       0.000000\n",
              "race_class_normalised_Grade 2       0.000000\n",
              "race_class_normalised_Group 1       0.000000\n",
              "race_class_normalised_Group 2       0.000000\n",
              "race_class_normalised_Group 3       0.000000\n",
              "race_class_normalised_Handicap      0.000000\n",
              "race_class_normalised_Listed        0.000000\n",
              "race_class_normalised_Maiden        0.000000\n",
              "race_class_normalised_NHF           0.000000\n",
              "race_class_normalised_Novice        0.000000\n",
              "race_class_normalised_Selling       0.000000\n",
              "race_class_normalised_nan           0.000000\n",
              "track_condition_GOOD TO YIELDING    0.000000\n",
              "life_days                           0.000000\n",
              "track_condition_GOOD TO SOFT        0.000000\n",
              "track_condition_GOOD                0.000000\n",
              "date                                0.000000\n",
              "event_number                        0.000000\n",
              "distance                            0.000000\n",
              "distance_raw_furlongs               0.000000\n",
              "total_prize_money                   0.000000\n",
              "track_type                          0.000000\n",
              "barrier                             0.000000\n",
              "number                              0.000000\n",
              "win_or_lose                         0.000000\n",
              "failed_to_finish_reason             0.000000\n",
              "gear                                0.000000\n",
              "jockey_allowance                    0.000000\n",
              "track_condition_GOOD TO FIRM        0.000000\n",
              "handicap_weight                     0.000000\n",
              "tainer_id                           0.000000\n",
              "track_condition_FIRM                0.000000\n",
              "track_condition_FAST                0.000000\n",
              "starting_price                      0.000000\n",
              "pre_race_master_rating_int          0.000000\n",
              "betfair_starting_price              0.000000\n",
              "weight_adjustment                   0.000000\n",
              "jockey_id                           0.000000\n",
              "wfa                                 0.000000\n",
              "birth_date                          0.000000\n",
              "age                                 0.000000\n",
              "horse_id                            0.000000\n",
              "dslr                                0.000000\n",
              "official rating                     0.000000\n",
              "current_age                         0.000000\n",
              "margin                              0.055016\n",
              "finish_position                     0.319959\n",
              "dtype: float64"
            ]
          },
          "execution_count": 75,
          "metadata": {},
          "output_type": "execute_result"
        }
      ],
      "source": [
        "num_nan_per_columns = ((df_new.isna().sum())/len(df_new['meeting_id']))*100\n",
        "pd.set_option(\"display.max_rows\", None, \"display.max_columns\", None) #show all the lines\n",
        "num_nan_per_columns.sort_values()"
      ]
    },
    {
      "cell_type": "code",
      "execution_count": 76,
      "metadata": {},
      "outputs": [
        {
          "data": {
            "text/plain": [
              "65"
            ]
          },
          "execution_count": 76,
          "metadata": {},
          "output_type": "execute_result"
        }
      ],
      "source": [
        "len(df_new.columns)"
      ]
    },
    {
      "cell_type": "code",
      "execution_count": 80,
      "metadata": {},
      "outputs": [],
      "source": [
        "df_new.to_csv('/Users/jubba/Downloads/2_cleaning', index=False)"
      ]
    },
    {
      "cell_type": "markdown",
      "metadata": {},
      "source": [
        "###############################################################\n",
        "\n",
        "*********NEED DECIDE WHAT WE WILL DO WITH THIS PART*********\n",
        "\n",
        "###############################################################"
      ]
    },
    {
      "cell_type": "code",
      "execution_count": 84,
      "metadata": {},
      "outputs": [
        {
          "data": {
            "text/plain": [
              "\"print(df.groupby('horse_id')['dam'].value_counts())\\ntarget_damn = df['dam'].unique()\\nlabel_encoder_dam = LabelEncoder()\\nlabel_encoder_dam.fit(target_damn)\\nencode_dam = label_encoder_dam.transform(target_damn)\\ndict_dam = pd.DataFrame({'target': target_damn, 'encode_target': encode_dam})\\n#procurar father rating\""
            ]
          },
          "execution_count": 84,
          "metadata": {},
          "output_type": "execute_result"
        }
      ],
      "source": [
        "'''print(df.groupby('horse_id')['dam'].value_counts())\n",
        "target_damn = df['dam'].unique()\n",
        "label_encoder_dam = LabelEncoder()\n",
        "label_encoder_dam.fit(target_damn)\n",
        "encode_dam = label_encoder_dam.transform(target_damn)\n",
        "dict_dam = pd.DataFrame({'target': target_damn, 'encode_target': encode_dam})\n",
        "#procurar father rating'''"
      ]
    },
    {
      "cell_type": "code",
      "execution_count": 86,
      "metadata": {},
      "outputs": [],
      "source": [
        "#df['dam_id'] = df['dam'].map(dict_dam.set_index('target')['encode_target'])"
      ]
    },
    {
      "cell_type": "code",
      "execution_count": 88,
      "metadata": {},
      "outputs": [
        {
          "data": {
            "text/plain": [
              "\"print(df.groupby('horse_id')['sire'].value_counts())\\ntarget_sire = df['sire'].unique()\\nlabel_encoder_sire = LabelEncoder()\\nlabel_encoder_sire.fit(target_sire)\\nencode_sire = label_encoder_sire.transform(target_sire)\\ndict_sire = pd.DataFrame({'target': target_sire, 'encode_target': encode_sire})\""
            ]
          },
          "execution_count": 88,
          "metadata": {},
          "output_type": "execute_result"
        }
      ],
      "source": [
        "'''print(df.groupby('horse_id')['sire'].value_counts())\n",
        "target_sire = df['sire'].unique()\n",
        "label_encoder_sire = LabelEncoder()\n",
        "label_encoder_sire.fit(target_sire)\n",
        "encode_sire = label_encoder_sire.transform(target_sire)\n",
        "dict_sire = pd.DataFrame({'target': target_sire, 'encode_target': encode_sire})'''"
      ]
    },
    {
      "cell_type": "code",
      "execution_count": 89,
      "metadata": {},
      "outputs": [],
      "source": [
        "#df['sire_id'] = df['sire'].map(dict_sire.set_index('target')['encode_target'])"
      ]
    },
    {
      "cell_type": "code",
      "execution_count": null,
      "metadata": {},
      "outputs": [],
      "source": []
    },
    {
      "cell_type": "code",
      "execution_count": 91,
      "metadata": {},
      "outputs": [
        {
          "ename": "KeyError",
          "evalue": "\"['run_1_race_type', 'run_1_win_lose', 'run_1_dsr', 'run_1_race_class', 'run_1_raw_post_race_rating_int', 'run_1_final_rating_int', 'run_2_win_lose', 'run_2_dsr', 'run_2_race_type', 'run_2_race_class_normalised', 'run_2_final_rating_int', 'run_2_raw_post_race_rating_int', 'run_3_win_lose', 'run_3_dsr', 'run_3_race_type', 'run_3_race_class_normalised', 'run_3_final_rating_int', 'run_3_raw_post_race_rating_int', 'run_4_dsr', 'run_4_win_lose', 'run_4_race_type', 'run_4_race_class_normalised', 'run_4_final_rating_int', 'run_4_raw_post_race_rating_int', 'run_5_race_type', 'run_5_win_lose', 'run_5_dsr', 'run_5_race_class_normalised', 'run_5_raw_post_race_rating_int'] not in index\"",
          "output_type": "error",
          "traceback": [
            "\u001b[0;31m---------------------------------------------------------------------------\u001b[0m",
            "\u001b[0;31mKeyError\u001b[0m                                  Traceback (most recent call last)",
            "Cell \u001b[0;32mIn[91], line 16\u001b[0m\n\u001b[1;32m     11\u001b[0m \u001b[38;5;66;03m# df_primeiras_1000 = df.head(10000)\u001b[39;00m\n\u001b[1;32m     13\u001b[0m imputer \u001b[38;5;241m=\u001b[39m KNNImputer(n_neighbors\u001b[38;5;241m=\u001b[39m\u001b[38;5;241m200\u001b[39m)\n\u001b[0;32m---> 16\u001b[0m df_filled \u001b[38;5;241m=\u001b[39m pd\u001b[38;5;241m.\u001b[39mDataFrame(imputer\u001b[38;5;241m.\u001b[39mfit_transform(\u001b[43mdf\u001b[49m\u001b[43m[\u001b[49m\u001b[43mcolunas_faltantes\u001b[49m\u001b[43m]\u001b[49m), columns\u001b[38;5;241m=\u001b[39mcolunas_faltantes)\n\u001b[1;32m     18\u001b[0m \u001b[38;5;66;03m# Combinar as colunas preenchidas com os valores faltantes com as colunas restantes do DataFrame original\u001b[39;00m\n\u001b[1;32m     19\u001b[0m df_final \u001b[38;5;241m=\u001b[39m pd\u001b[38;5;241m.\u001b[39mconcat([df\u001b[38;5;241m.\u001b[39mdrop(columns\u001b[38;5;241m=\u001b[39mcolunas_faltantes), df_filled], axis\u001b[38;5;241m=\u001b[39m\u001b[38;5;241m1\u001b[39m)\n",
            "File \u001b[0;32m~/.pyenv/versions/3.10.6/envs/which_horse/lib/python3.10/site-packages/pandas/core/frame.py:4096\u001b[0m, in \u001b[0;36mDataFrame.__getitem__\u001b[0;34m(self, key)\u001b[0m\n\u001b[1;32m   4094\u001b[0m     \u001b[38;5;28;01mif\u001b[39;00m is_iterator(key):\n\u001b[1;32m   4095\u001b[0m         key \u001b[38;5;241m=\u001b[39m \u001b[38;5;28mlist\u001b[39m(key)\n\u001b[0;32m-> 4096\u001b[0m     indexer \u001b[38;5;241m=\u001b[39m \u001b[38;5;28;43mself\u001b[39;49m\u001b[38;5;241;43m.\u001b[39;49m\u001b[43mcolumns\u001b[49m\u001b[38;5;241;43m.\u001b[39;49m\u001b[43m_get_indexer_strict\u001b[49m\u001b[43m(\u001b[49m\u001b[43mkey\u001b[49m\u001b[43m,\u001b[49m\u001b[43m \u001b[49m\u001b[38;5;124;43m\"\u001b[39;49m\u001b[38;5;124;43mcolumns\u001b[39;49m\u001b[38;5;124;43m\"\u001b[39;49m\u001b[43m)\u001b[49m[\u001b[38;5;241m1\u001b[39m]\n\u001b[1;32m   4098\u001b[0m \u001b[38;5;66;03m# take() does not accept boolean indexers\u001b[39;00m\n\u001b[1;32m   4099\u001b[0m \u001b[38;5;28;01mif\u001b[39;00m \u001b[38;5;28mgetattr\u001b[39m(indexer, \u001b[38;5;124m\"\u001b[39m\u001b[38;5;124mdtype\u001b[39m\u001b[38;5;124m\"\u001b[39m, \u001b[38;5;28;01mNone\u001b[39;00m) \u001b[38;5;241m==\u001b[39m \u001b[38;5;28mbool\u001b[39m:\n",
            "File \u001b[0;32m~/.pyenv/versions/3.10.6/envs/which_horse/lib/python3.10/site-packages/pandas/core/indexes/base.py:6200\u001b[0m, in \u001b[0;36mIndex._get_indexer_strict\u001b[0;34m(self, key, axis_name)\u001b[0m\n\u001b[1;32m   6197\u001b[0m \u001b[38;5;28;01melse\u001b[39;00m:\n\u001b[1;32m   6198\u001b[0m     keyarr, indexer, new_indexer \u001b[38;5;241m=\u001b[39m \u001b[38;5;28mself\u001b[39m\u001b[38;5;241m.\u001b[39m_reindex_non_unique(keyarr)\n\u001b[0;32m-> 6200\u001b[0m \u001b[38;5;28;43mself\u001b[39;49m\u001b[38;5;241;43m.\u001b[39;49m\u001b[43m_raise_if_missing\u001b[49m\u001b[43m(\u001b[49m\u001b[43mkeyarr\u001b[49m\u001b[43m,\u001b[49m\u001b[43m \u001b[49m\u001b[43mindexer\u001b[49m\u001b[43m,\u001b[49m\u001b[43m \u001b[49m\u001b[43maxis_name\u001b[49m\u001b[43m)\u001b[49m\n\u001b[1;32m   6202\u001b[0m keyarr \u001b[38;5;241m=\u001b[39m \u001b[38;5;28mself\u001b[39m\u001b[38;5;241m.\u001b[39mtake(indexer)\n\u001b[1;32m   6203\u001b[0m \u001b[38;5;28;01mif\u001b[39;00m \u001b[38;5;28misinstance\u001b[39m(key, Index):\n\u001b[1;32m   6204\u001b[0m     \u001b[38;5;66;03m# GH 42790 - Preserve name from an Index\u001b[39;00m\n",
            "File \u001b[0;32m~/.pyenv/versions/3.10.6/envs/which_horse/lib/python3.10/site-packages/pandas/core/indexes/base.py:6252\u001b[0m, in \u001b[0;36mIndex._raise_if_missing\u001b[0;34m(self, key, indexer, axis_name)\u001b[0m\n\u001b[1;32m   6249\u001b[0m     \u001b[38;5;28;01mraise\u001b[39;00m \u001b[38;5;167;01mKeyError\u001b[39;00m(\u001b[38;5;124mf\u001b[39m\u001b[38;5;124m\"\u001b[39m\u001b[38;5;124mNone of [\u001b[39m\u001b[38;5;132;01m{\u001b[39;00mkey\u001b[38;5;132;01m}\u001b[39;00m\u001b[38;5;124m] are in the [\u001b[39m\u001b[38;5;132;01m{\u001b[39;00maxis_name\u001b[38;5;132;01m}\u001b[39;00m\u001b[38;5;124m]\u001b[39m\u001b[38;5;124m\"\u001b[39m)\n\u001b[1;32m   6251\u001b[0m not_found \u001b[38;5;241m=\u001b[39m \u001b[38;5;28mlist\u001b[39m(ensure_index(key)[missing_mask\u001b[38;5;241m.\u001b[39mnonzero()[\u001b[38;5;241m0\u001b[39m]]\u001b[38;5;241m.\u001b[39munique())\n\u001b[0;32m-> 6252\u001b[0m \u001b[38;5;28;01mraise\u001b[39;00m \u001b[38;5;167;01mKeyError\u001b[39;00m(\u001b[38;5;124mf\u001b[39m\u001b[38;5;124m\"\u001b[39m\u001b[38;5;132;01m{\u001b[39;00mnot_found\u001b[38;5;132;01m}\u001b[39;00m\u001b[38;5;124m not in index\u001b[39m\u001b[38;5;124m\"\u001b[39m)\n",
            "\u001b[0;31mKeyError\u001b[0m: \"['run_1_race_type', 'run_1_win_lose', 'run_1_dsr', 'run_1_race_class', 'run_1_raw_post_race_rating_int', 'run_1_final_rating_int', 'run_2_win_lose', 'run_2_dsr', 'run_2_race_type', 'run_2_race_class_normalised', 'run_2_final_rating_int', 'run_2_raw_post_race_rating_int', 'run_3_win_lose', 'run_3_dsr', 'run_3_race_type', 'run_3_race_class_normalised', 'run_3_final_rating_int', 'run_3_raw_post_race_rating_int', 'run_4_dsr', 'run_4_win_lose', 'run_4_race_type', 'run_4_race_class_normalised', 'run_4_final_rating_int', 'run_4_raw_post_race_rating_int', 'run_5_race_type', 'run_5_win_lose', 'run_5_dsr', 'run_5_race_class_normalised', 'run_5_raw_post_race_rating_int'] not in index\""
          ]
        },
        {
          "ename": "",
          "evalue": "",
          "output_type": "error",
          "traceback": [
            "\u001b[1;31mThe Kernel crashed while executing code in the current cell or a previous cell. \n",
            "\u001b[1;31mPlease review the code in the cell(s) to identify a possible cause of the failure. \n",
            "\u001b[1;31mClick <a href='https://aka.ms/vscodeJupyterKernelCrash'>here</a> for more info. \n",
            "\u001b[1;31mView Jupyter <a href='command:jupyter.viewOutput'>log</a> for further details."
          ]
        }
      ],
      "source": [
        "colunas_faltantes = [\n",
        "    'betfair_starting_price', 'run_1_race_type', 'run_1_win_lose', 'run_1_dsr', 'dslr',\n",
        "    'run_1_race_class', 'pre_race_master_rating_int', 'run_1_raw_post_race_rating_int',\n",
        "    'run_1_final_rating_int', 'margin', 'run_2_win_lose', 'run_2_dsr', 'run_2_race_type',\n",
        "    'run_2_race_class_normalised', 'run_2_final_rating_int', 'run_2_raw_post_race_rating_int',\n",
        "    'official rating', 'run_3_win_lose', 'run_3_dsr', 'run_3_race_type', 'run_3_race_class_normalised',\n",
        "    'run_3_final_rating_int', 'run_3_raw_post_race_rating_int', 'run_4_dsr', 'run_4_win_lose',\n",
        "    'run_4_race_type', 'run_4_race_class_normalised', 'run_4_final_rating_int', 'run_4_raw_post_race_rating_int',\n",
        "    'run_5_race_type', 'run_5_win_lose', 'run_5_dsr', 'run_5_race_class_normalised', 'run_5_raw_post_race_rating_int'\n",
        "]\n",
        "# df_primeiras_1000 = df.head(10000)\n",
        "\n",
        "imputer = KNNImputer(n_neighbors=200)\n",
        "\n",
        "\n",
        "df_filled = pd.DataFrame(imputer.fit_transform(df[colunas_faltantes]), columns=colunas_faltantes)\n",
        "\n",
        "# Combinar as colunas preenchidas com os valores faltantes com as colunas restantes do DataFrame original\n",
        "df_final = pd.concat([df.drop(columns=colunas_faltantes), df_filled], axis=1)\n",
        "\n",
        "# se ele nao correu, deve ser 0 o valor?\n",
        "#e se a gente fizer cada corrida uma nova linha? e ai ignoramos os cavalos que tem nan, tipo todas linhas terem so um run\n"
      ]
    },
    {
      "cell_type": "code",
      "execution_count": null,
      "metadata": {},
      "outputs": [],
      "source": [
        "df_final['month'] = df_final['date'].dt.month"
      ]
    },
    {
      "cell_type": "code",
      "execution_count": null,
      "metadata": {},
      "outputs": [],
      "source": []
    },
    {
      "cell_type": "code",
      "execution_count": null,
      "metadata": {},
      "outputs": [],
      "source": [
        "months_in_a_year = 12\n",
        "\n",
        "df['sin_MoSold'] = np.sin(2*np.pi*(df.MoSold)/months_in_a_year)\n",
        "df['cos_MoSold'] = np.cos(2*np.pi*(df.MoSold)/months_in_a_year)\n",
        "df.drop(columns=['MoSold'], inplace=True)"
      ]
    },
    {
      "cell_type": "code",
      "execution_count": null,
      "metadata": {},
      "outputs": [],
      "source": [
        "colunas = ['betfair_starting_price', 'run_1_race_type', 'run_1_win_lose', 'run_1_dsr', 'dslr',\n",
        "    'run_1_race_class', 'pre_race_master_rating_int', 'run_1_raw_post_race_rating_int',\n",
        "    'run_1_final_rating_int', 'margin', 'run_2_win_lose', 'run_2_dsr', 'run_2_race_type',\n",
        "    'run_2_race_class_normalised', 'run_2_final_rating_int', 'run_2_raw_post_race_rating_int',\n",
        "    'official rating', 'run_3_win_lose', 'run_3_dsr', 'run_3_race_type', 'run_3_race_class_normalised',\n",
        "    'run_3_final_rating_int', 'run_3_raw_post_race_rating_int', 'run_4_dsr', 'run_4_win_lose',\n",
        "    'run_4_race_type', 'run_4_race_class_normalised', 'run_4_final_rating_int', 'run_4_raw_post_race_rating_int',\n",
        "    'run_5_race_type', 'run_5_win_lose', 'run_5_dsr', 'run_5_race_class_normalised', 'run_5_raw_post_race_rating_int']\n",
        "\n",
        "last = df[colunas].iloc[-10000:]\n",
        "last_new = df_final[colunas].iloc[-10000:]\n",
        "\n",
        "# Criando a figura e os subplots\n",
        "fig, axs = plt.subplots(5, 7, figsize=(20, 15))\n",
        "\n",
        "# Plotando os histogramas\n",
        "for i, coluna in enumerate(colunas):\n",
        "    ax = axs[i // 7, i % 7]\n",
        "    ax.hist(last[coluna], alpha=0.5, label='Original')\n",
        "    ax.hist(last_new[coluna], alpha=0.5, label='Preenchido')\n",
        "    ax.set_title(coluna)\n",
        "    ax.legend()\n",
        "\n",
        "plt.tight_layout()\n",
        "plt.show()"
      ]
    },
    {
      "cell_type": "code",
      "execution_count": null,
      "metadata": {},
      "outputs": [],
      "source": [
        "num_nan_per_columns = ((df.isna().sum())/len(df['starting_price']))*100\n",
        "pd.set_option(\"display.max_rows\", None, \"display.max_columns\", None) #show all the lines\n",
        "num_nan_per_columns.sort_values()"
      ]
    },
    {
      "cell_type": "code",
      "execution_count": null,
      "metadata": {
        "colab": {
          "base_uri": "https://localhost:8080/"
        },
        "id": "3hGi20OikmsZ",
        "outputId": "ba80e7c8-8373-4ad2-b284-68edbb7e3166"
      },
      "outputs": [],
      "source": [
        "correlation_matrix = df_new.corr()\n"
      ]
    },
    {
      "cell_type": "code",
      "execution_count": null,
      "metadata": {
        "colab": {
          "base_uri": "https://localhost:8080/",
          "height": 1000
        },
        "id": "CC9DFOuZk431",
        "outputId": "6ad93db7-10dd-4f2c-f28d-a6df58fd93a7"
      },
      "outputs": [],
      "source": [
        "correlation_matrix"
      ]
    },
    {
      "cell_type": "code",
      "execution_count": null,
      "metadata": {
        "colab": {
          "base_uri": "https://localhost:8080/",
          "height": 1000
        },
        "id": "b7vvIleik6Vn",
        "outputId": "c17c8feb-b433-41b6-9ceb-3db3c21b3a07"
      },
      "outputs": [],
      "source": [
        "plt.figure(figsize=(12, 10))  # Ajuste o tamanho da figura conforme necessário\n",
        "sns.heatmap(correlation_matrix, center=0, cmap='coolwarm', fmt=\".2f\")\n",
        "plt.show()"
      ]
    },
    {
      "cell_type": "code",
      "execution_count": 1,
      "metadata": {},
      "outputs": [
        {
          "ename": "NameError",
          "evalue": "name 'df_final' is not defined",
          "output_type": "error",
          "traceback": [
            "\u001b[0;31m---------------------------------------------------------------------------\u001b[0m",
            "\u001b[0;31mNameError\u001b[0m                                 Traceback (most recent call last)",
            "Cell \u001b[0;32mIn[1], line 1\u001b[0m\n\u001b[0;32m----> 1\u001b[0m \u001b[43mdf_final\u001b[49m\u001b[38;5;241m.\u001b[39mto_csv(\u001b[38;5;124m'\u001b[39m\u001b[38;5;124mamanda_flat.csv\u001b[39m\u001b[38;5;124m'\u001b[39m, index\u001b[38;5;241m=\u001b[39m\u001b[38;5;28;01mFalse\u001b[39;00m)\n",
            "\u001b[0;31mNameError\u001b[0m: name 'df_final' is not defined"
          ]
        }
      ],
      "source": [
        "df_final.to_csv('amanda_flat.csv', index=False)"
      ]
    },
    {
      "cell_type": "code",
      "execution_count": null,
      "metadata": {},
      "outputs": [],
      "source": []
    }
  ],
  "metadata": {
    "accelerator": "GPU",
    "colab": {
      "gpuType": "T4",
      "provenance": []
    },
    "kernelspec": {
      "display_name": "Python 3",
      "name": "python3"
    },
    "language_info": {
      "codemirror_mode": {
        "name": "ipython",
        "version": 3
      },
      "file_extension": ".py",
      "mimetype": "text/x-python",
      "name": "python",
      "nbconvert_exporter": "python",
      "pygments_lexer": "ipython3",
      "version": "3.10.6"
    }
  },
  "nbformat": 4,
  "nbformat_minor": 0
}
