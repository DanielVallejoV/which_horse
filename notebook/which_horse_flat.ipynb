{
  "cells": [
    {
      "cell_type": "code",
      "execution_count": 1,
      "metadata": {
        "id": "XLLtV6rOfQyh"
      },
      "outputs": [],
      "source": [
        "import pandas as pd\n",
        "import seaborn as sns\n",
        "import matplotlib.pyplot as plt\n",
        "from sklearn.preprocessing import OneHotEncoder\n"
      ]
    },
    {
      "cell_type": "code",
      "execution_count": null,
      "metadata": {
        "colab": {
          "base_uri": "https://localhost:8080/"
        },
        "id": "VcoqCMB_iJdy",
        "outputId": "63696a98-b219-4fd9-d1c8-c30a2246ead6"
      },
      "outputs": [],
      "source": [
        "file_csv = '~/code/amandamor/output/flat.csv'\n",
        "\n",
        "df = pd.read_csv(file_csv)\n",
        "df"
      ]
    },
    {
      "cell_type": "code",
      "execution_count": 3,
      "metadata": {
        "id": "TbFZ72t4SZAd"
      },
      "outputs": [
        {
          "data": {
            "text/plain": [
              "Index(['Unnamed: 0', 'meeting_id', 'meeting_name', 'date', 'country_code',\n",
              "       'event_number', 'distance', 'distance_unit', 'distance_furlongs',\n",
              "       'distance_raw_furlongs',\n",
              "       ...\n",
              "       'run_7_dsr', 'run_8_raw_post_race_rating_int',\n",
              "       'run_8_raw_post_race_rating_symbol', 'run_8_final_rating_int',\n",
              "       'run_8_race_type', 'run_8_race_class', 'run_8_race_class_normalised',\n",
              "       'run_8_track_type', 'run_8_win_lose', 'run_8_dsr'],\n",
              "      dtype='object', length=122)"
            ]
          },
          "execution_count": 3,
          "metadata": {},
          "output_type": "execute_result"
        }
      ],
      "source": [
        "df.columns"
      ]
    },
    {
      "cell_type": "markdown",
      "metadata": {
        "id": "NNcDticH_0bT"
      },
      "source": [
        "**FLAT CLEANING DATA**\n"
      ]
    },
    {
      "cell_type": "code",
      "execution_count": 4,
      "metadata": {
        "colab": {
          "base_uri": "https://localhost:8080/"
        },
        "id": "GloxJrvkiQ6y",
        "outputId": "9ab7fc6a-ad87-4d28-9f1e-926bc1806847"
      },
      "outputs": [
        {
          "name": "stdout",
          "output_type": "stream",
          "text": [
            "<class 'pandas.core.frame.DataFrame'>\n",
            "RangeIndex: 269910 entries, 0 to 269909\n",
            "Columns: 122 entries, Unnamed: 0 to run_8_dsr\n",
            "dtypes: float64(48), int64(12), object(62)\n",
            "memory usage: 251.2+ MB\n"
          ]
        }
      ],
      "source": [
        "df.info()"
      ]
    },
    {
      "cell_type": "code",
      "execution_count": null,
      "metadata": {
        "colab": {
          "base_uri": "https://localhost:8080/",
          "height": 346
        },
        "id": "do83c8auio-y",
        "outputId": "65c669f1-ba11-4178-abc9-6cc970d8f790"
      },
      "outputs": [],
      "source": [
        "df.describe()"
      ]
    },
    {
      "cell_type": "code",
      "execution_count": 6,
      "metadata": {
        "id": "SAneYHijUXEm"
      },
      "outputs": [],
      "source": [
        "df['gear'] = df['gear'].apply(lambda x: 0 if pd.isna(x) else 1)"
      ]
    },
    {
      "cell_type": "code",
      "execution_count": 3,
      "metadata": {},
      "outputs": [],
      "source": [
        "df['failed_to_finish_reason'] = df['failed_to_finish_reason'].apply(lambda x: 0 if pd.isna(x) else 1)"
      ]
    },
    {
      "cell_type": "code",
      "execution_count": 5,
      "metadata": {
        "colab": {
          "base_uri": "https://localhost:8080/"
        },
        "id": "xJzPBQQXUSZA",
        "outputId": "cd7c8f36-bf98-4683-c9d5-7ebd0cc180f4"
      },
      "outputs": [
        {
          "data": {
            "text/plain": [
              "Unnamed: 0                             0.000000\n",
              "jockey_allowance                       0.000000\n",
              "jockey_allowance_unit                  0.000000\n",
              "handicap_weight_unit                   0.000000\n",
              "jockey_id                              0.000000\n",
              "jockey_name                            0.000000\n",
              "tainer_id                              0.000000\n",
              "trainer_name                           0.000000\n",
              "horse_id                               0.000000\n",
              "horse_name                             0.000000\n",
              "sire                                   0.000000\n",
              "dam                                    0.000000\n",
              "age                                    0.000000\n",
              "wfa                                    0.000000\n",
              "weight_adjustment                      0.000000\n",
              "starting_price                         0.000000\n",
              "failed_to_finish_reason                0.000000\n",
              "win_or_lose                            0.000000\n",
              "birth_date                             0.000000\n",
              "prize_money_currency                   0.000000\n",
              "event_number                           0.000000\n",
              "distance                               0.000000\n",
              "distance_unit                          0.000000\n",
              "distance_furlongs                      0.000000\n",
              "meeting_name                           0.000000\n",
              "distance_raw_furlongs                  0.000000\n",
              "race_class                             0.000000\n",
              "country_code                           0.000000\n",
              "date                                   0.000000\n",
              "track_condition                        0.000000\n",
              "race_type                              0.000000\n",
              "number                                 0.000000\n",
              "meeting_id                             0.000000\n",
              "track_type                             0.000000\n",
              "barrier                                0.000000\n",
              "total_prize_money                      0.000000\n",
              "handicap_weight                        0.000370\n",
              "race_class_normalised                  0.185247\n",
              "finish_position                        0.310474\n",
              "post_race_master_rating_int            0.398281\n",
              "betfair_starting_price                 2.071431\n",
              "run_1_dsr                              7.130895\n",
              "run_1_win_lose                         7.130895\n",
              "run_1_track_type                       7.130895\n",
              "run_1_race_type                        7.130895\n",
              "dslr                                   7.135712\n",
              "run_1_race_class                       8.033048\n",
              "run_1_race_class_normalised            8.472454\n",
              "pre_race_master_rating_int             9.116743\n",
              "run_1_raw_post_race_rating_int         9.129339\n",
              "run_1_final_rating_int                 9.129339\n",
              "margin                                11.245600\n",
              "run_2_race_type                       13.977252\n",
              "run_2_track_type                      13.977252\n",
              "run_2_win_lose                        13.977252\n",
              "run_2_dsr                             13.977252\n",
              "run_2_race_class_normalised           15.009448\n",
              "run_2_race_class                      15.685969\n",
              "run_2_raw_post_race_rating_int        16.489200\n",
              "run_2_final_rating_int                16.489200\n",
              "official rating                       20.120040\n",
              "run_3_race_type                       20.417917\n",
              "run_3_track_type                      20.417917\n",
              "run_3_win_lose                        20.417917\n",
              "run_3_dsr                             20.417917\n",
              "run_3_race_class_normalised           21.529028\n",
              "run_3_race_class                      22.395984\n",
              "run_3_raw_post_race_rating_int        23.335927\n",
              "run_3_final_rating_int                23.335927\n",
              "run_4_race_type                       26.498462\n",
              "run_4_win_lose                        26.498462\n",
              "run_4_dsr                             26.498462\n",
              "run_4_track_type                      26.498462\n",
              "run_4_race_class_normalised           27.636990\n",
              "run_4_race_class                      28.642140\n",
              "run_4_raw_post_race_rating_int        29.738061\n",
              "run_4_final_rating_int                29.738061\n",
              "run_5_dsr                             32.018080\n",
              "run_5_track_type                      32.018080\n",
              "run_5_win_lose                        32.018080\n",
              "run_5_race_type                       32.018080\n",
              "run_5_race_class_normalised           33.158090\n",
              "run_5_race_class                      34.255863\n",
              "run_5_raw_post_race_rating_int        35.488126\n",
              "run_5_final_rating_int                35.488496\n",
              "run_6_race_type                       36.958245\n",
              "run_6_track_type                      36.958245\n",
              "run_6_dsr                             36.958245\n",
              "run_6_win_lose                        36.958245\n",
              "run_6_race_class_normalised           38.087140\n",
              "bet365_odds                           38.627320\n",
              "run_6_race_class                      39.231966\n",
              "run_6_raw_post_race_rating_int        40.620207\n",
              "run_6_final_rating_int                40.620577\n",
              "run_7_race_type                       41.338224\n",
              "run_7_win_lose                        41.338224\n",
              "run_7_dsr                             41.338224\n",
              "run_7_track_type                      41.338224\n",
              "run_7_race_class_normalised           42.410063\n",
              "run_7_race_class                      43.616020\n",
              "run_7_raw_post_race_rating_int        45.130970\n",
              "run_7_final_rating_int                45.130970\n",
              "run_8_race_type                       45.272869\n",
              "run_8_track_type                      45.272869\n",
              "run_8_dsr                             45.272869\n",
              "run_8_win_lose                        45.272869\n",
              "run_8_race_class_normalised           46.309140\n",
              "run_8_race_class                      47.525471\n",
              "run_8_raw_post_race_rating_int        49.166759\n",
              "run_8_final_rating_int                49.166759\n",
              "pre_race_master_rating_symbol         63.408173\n",
              "gear                                  72.834649\n",
              "post_race_master_rating_symbol        75.647068\n",
              "run_1_raw_post_race_rating_symbol     77.191286\n",
              "run_2_raw_post_race_rating_symbol     78.718832\n",
              "run_3_raw_post_race_rating_symbol     80.307510\n",
              "run_4_raw_post_race_rating_symbol     81.932126\n",
              "run_5_raw_post_race_rating_symbol     83.467082\n",
              "run_6_raw_post_race_rating_symbol     84.861991\n",
              "run_7_raw_post_race_rating_symbol     86.133526\n",
              "run_8_raw_post_race_rating_symbol     87.275018\n",
              "pmu_odds                             100.000000\n",
              "dtype: float64"
            ]
          },
          "execution_count": 5,
          "metadata": {},
          "output_type": "execute_result"
        }
      ],
      "source": [
        "num_nan_per_columns = ((df.isna().sum())/len(df['starting_price']))*100\n",
        "pd.set_option(\"display.max_rows\", None, \"display.max_columns\", None) #show all the lines\n",
        "num_nan_per_columns.sort_values()"
      ]
    },
    {
      "cell_type": "code",
      "execution_count": null,
      "metadata": {},
      "outputs": [],
      "source": [
        "df.drop(columns=['jockey_name','trainer_name', 'horse_name','meeting_name',\n",
        "                 'country_code', 'distance_unit', 'prize_money_currency',\n",
        "                 'jockey_allowance_unit', 'handicap_weight_unit',\n",
        "                 'run_3_raw_post_race_rating_symbol', 'run_4_raw_post_race_rating_symbol',\n",
        "                 'run_5_raw_post_race_rating_symbol','run_6_raw_post_race_rating_symbol',\n",
        "                 'run_7_raw_post_race_rating_symbol','run_8_raw_post_race_rating_symbol',\n",
        "                 'pmu_odds'], inplace=True)"
      ]
    },
    {
      "cell_type": "code",
      "execution_count": null,
      "metadata": {},
      "outputs": [],
      "source": [
        "df.dtypes"
      ]
    },
    {
      "cell_type": "code",
      "execution_count": null,
      "metadata": {
        "colab": {
          "base_uri": "https://localhost:8080/"
        },
        "id": "3hGi20OikmsZ",
        "outputId": "ba80e7c8-8373-4ad2-b284-68edbb7e3166"
      },
      "outputs": [],
      "source": [
        "correlation_matrix = df.corr()\n"
      ]
    },
    {
      "cell_type": "code",
      "execution_count": null,
      "metadata": {
        "colab": {
          "base_uri": "https://localhost:8080/",
          "height": 1000
        },
        "id": "CC9DFOuZk431",
        "outputId": "6ad93db7-10dd-4f2c-f28d-a6df58fd93a7"
      },
      "outputs": [],
      "source": [
        "correlation_matrix"
      ]
    },
    {
      "cell_type": "code",
      "execution_count": null,
      "metadata": {
        "colab": {
          "base_uri": "https://localhost:8080/",
          "height": 1000
        },
        "id": "b7vvIleik6Vn",
        "outputId": "c17c8feb-b433-41b6-9ceb-3db3c21b3a07"
      },
      "outputs": [],
      "source": [
        "plt.figure(figsize=(12, 10))  # Ajuste o tamanho da figura conforme necessário\n",
        "sns.heatmap(correlation_matrix, center=0, cmap='coolwarm', fmt=\".2f\")\n",
        "plt.show()"
      ]
    },
    {
      "cell_type": "code",
      "execution_count": null,
      "metadata": {
        "colab": {
          "base_uri": "https://localhost:8080/"
        },
        "id": "13dWKuEvoToh",
        "outputId": "2b5cb14b-44d1-4de8-871c-034623238071"
      },
      "outputs": [],
      "source": [
        "ohe_binary = OneHotEncoder(sparse_output = False, drop=\"if_binary\")\n",
        "\n",
        "# Fit encoder\n",
        "ohe_binary.fit(df[['gear']])\n",
        "\n",
        "df[ohe_binary.get_feature_names_out()] = ohe_binary.transform(df[['gear']])\n",
        "df"
      ]
    }
  ],
  "metadata": {
    "accelerator": "GPU",
    "colab": {
      "gpuType": "T4",
      "provenance": []
    },
    "kernelspec": {
      "display_name": "Python 3",
      "name": "python3"
    },
    "language_info": {
      "codemirror_mode": {
        "name": "ipython",
        "version": 3
      },
      "file_extension": ".py",
      "mimetype": "text/x-python",
      "name": "python",
      "nbconvert_exporter": "python",
      "pygments_lexer": "ipython3",
      "version": "3.10.6"
    }
  },
  "nbformat": 4,
  "nbformat_minor": 0
}
